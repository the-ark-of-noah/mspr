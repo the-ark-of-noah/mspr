{
 "cells": [
  {
   "cell_type": "code",
   "execution_count": 72,
   "id": "initial_id",
   "metadata": {
    "collapsed": true,
    "ExecuteTime": {
     "end_time": "2024-02-10T10:31:33.045114100Z",
     "start_time": "2024-02-10T10:31:33.007163800Z"
    }
   },
   "outputs": [
    {
     "data": {
      "text/plain": "          classe  annee Unnamed: 2  Unnamed: 3    Unnamed: 4  millPOP  \\\n0      Homicides     16         01        84.0       victime     16.0   \n1      Homicides     16         02        32.0       victime     16.0   \n2      Homicides     16         03        84.0       victime     16.0   \n3      Homicides     16         04        93.0       victime     16.0   \n4      Homicides     16         05        93.0       victime     16.0   \n...          ...    ...        ...         ...           ...      ...   \n13051        NaN     23        972         2.0  Mis en cause     21.0   \n13052        NaN     23        973         3.0  Mis en cause     21.0   \n13053        NaN     23        974         4.0  Mis en cause     21.0   \n13054        NaN     23        976         6.0  Mis en cause     17.0   \n13055        NaN     23        NaN         NaN  Mis en cause      NaN   \n\n       millLOG  faits       POP            LOG  tauxpourmille  \n0         16.0      5  638425.0  308491.160051       0.007832  \n1         16.0     10  536136.0  264180.083605       0.018652  \n2         16.0      4  339384.0  206980.372668       0.011786  \n3         16.0      2  162565.0  126760.404256       0.012303  \n4         16.0      0  141107.0  134646.620960       0.000000  \n...        ...    ...       ...            ...            ...  \n13051     20.0   1182  360749.0  216541.893544       3.276516  \n13052     20.0    684  286618.0   97187.698776       2.386452  \n13053     20.0   2390  871157.0  388966.107754       2.743478  \n13054     17.0    221  256518.0   73880.000000       0.861538  \n13055      NaN      0       NaN            NaN            NaN  \n\n[13056 rows x 11 columns]",
      "text/html": "<div>\n<style scoped>\n    .dataframe tbody tr th:only-of-type {\n        vertical-align: middle;\n    }\n\n    .dataframe tbody tr th {\n        vertical-align: top;\n    }\n\n    .dataframe thead th {\n        text-align: right;\n    }\n</style>\n<table border=\"1\" class=\"dataframe\">\n  <thead>\n    <tr style=\"text-align: right;\">\n      <th></th>\n      <th>classe</th>\n      <th>annee</th>\n      <th>Unnamed: 2</th>\n      <th>Unnamed: 3</th>\n      <th>Unnamed: 4</th>\n      <th>millPOP</th>\n      <th>millLOG</th>\n      <th>faits</th>\n      <th>POP</th>\n      <th>LOG</th>\n      <th>tauxpourmille</th>\n    </tr>\n  </thead>\n  <tbody>\n    <tr>\n      <th>0</th>\n      <td>Homicides</td>\n      <td>16</td>\n      <td>01</td>\n      <td>84.0</td>\n      <td>victime</td>\n      <td>16.0</td>\n      <td>16.0</td>\n      <td>5</td>\n      <td>638425.0</td>\n      <td>308491.160051</td>\n      <td>0.007832</td>\n    </tr>\n    <tr>\n      <th>1</th>\n      <td>Homicides</td>\n      <td>16</td>\n      <td>02</td>\n      <td>32.0</td>\n      <td>victime</td>\n      <td>16.0</td>\n      <td>16.0</td>\n      <td>10</td>\n      <td>536136.0</td>\n      <td>264180.083605</td>\n      <td>0.018652</td>\n    </tr>\n    <tr>\n      <th>2</th>\n      <td>Homicides</td>\n      <td>16</td>\n      <td>03</td>\n      <td>84.0</td>\n      <td>victime</td>\n      <td>16.0</td>\n      <td>16.0</td>\n      <td>4</td>\n      <td>339384.0</td>\n      <td>206980.372668</td>\n      <td>0.011786</td>\n    </tr>\n    <tr>\n      <th>3</th>\n      <td>Homicides</td>\n      <td>16</td>\n      <td>04</td>\n      <td>93.0</td>\n      <td>victime</td>\n      <td>16.0</td>\n      <td>16.0</td>\n      <td>2</td>\n      <td>162565.0</td>\n      <td>126760.404256</td>\n      <td>0.012303</td>\n    </tr>\n    <tr>\n      <th>4</th>\n      <td>Homicides</td>\n      <td>16</td>\n      <td>05</td>\n      <td>93.0</td>\n      <td>victime</td>\n      <td>16.0</td>\n      <td>16.0</td>\n      <td>0</td>\n      <td>141107.0</td>\n      <td>134646.620960</td>\n      <td>0.000000</td>\n    </tr>\n    <tr>\n      <th>...</th>\n      <td>...</td>\n      <td>...</td>\n      <td>...</td>\n      <td>...</td>\n      <td>...</td>\n      <td>...</td>\n      <td>...</td>\n      <td>...</td>\n      <td>...</td>\n      <td>...</td>\n      <td>...</td>\n    </tr>\n    <tr>\n      <th>13051</th>\n      <td>NaN</td>\n      <td>23</td>\n      <td>972</td>\n      <td>2.0</td>\n      <td>Mis en cause</td>\n      <td>21.0</td>\n      <td>20.0</td>\n      <td>1182</td>\n      <td>360749.0</td>\n      <td>216541.893544</td>\n      <td>3.276516</td>\n    </tr>\n    <tr>\n      <th>13052</th>\n      <td>NaN</td>\n      <td>23</td>\n      <td>973</td>\n      <td>3.0</td>\n      <td>Mis en cause</td>\n      <td>21.0</td>\n      <td>20.0</td>\n      <td>684</td>\n      <td>286618.0</td>\n      <td>97187.698776</td>\n      <td>2.386452</td>\n    </tr>\n    <tr>\n      <th>13053</th>\n      <td>NaN</td>\n      <td>23</td>\n      <td>974</td>\n      <td>4.0</td>\n      <td>Mis en cause</td>\n      <td>21.0</td>\n      <td>20.0</td>\n      <td>2390</td>\n      <td>871157.0</td>\n      <td>388966.107754</td>\n      <td>2.743478</td>\n    </tr>\n    <tr>\n      <th>13054</th>\n      <td>NaN</td>\n      <td>23</td>\n      <td>976</td>\n      <td>6.0</td>\n      <td>Mis en cause</td>\n      <td>17.0</td>\n      <td>17.0</td>\n      <td>221</td>\n      <td>256518.0</td>\n      <td>73880.000000</td>\n      <td>0.861538</td>\n    </tr>\n    <tr>\n      <th>13055</th>\n      <td>NaN</td>\n      <td>23</td>\n      <td>NaN</td>\n      <td>NaN</td>\n      <td>Mis en cause</td>\n      <td>NaN</td>\n      <td>NaN</td>\n      <td>0</td>\n      <td>NaN</td>\n      <td>NaN</td>\n      <td>NaN</td>\n    </tr>\n  </tbody>\n</table>\n<p>13056 rows × 11 columns</p>\n</div>"
     },
     "execution_count": 72,
     "metadata": {},
     "output_type": "execute_result"
    }
   ],
   "source": [
    "import pandas as pd\n",
    "\n",
    "# Try reading the file with ISO-8859-1 encoding\n",
    "df = pd.read_csv('../../data/raw/2016_2023_delinquance.csv', low_memory=False, encoding='ISO-8859-1', decimal=',')\n",
    "\n",
    "df"
   ]
  },
  {
   "cell_type": "code",
   "outputs": [
    {
     "data": {
      "text/plain": "          classe  annee code_postal  code_region  faits  tauxpourcent\n0      Homicides     16          01         84.0      5      0.007832\n1      Homicides     16          02         32.0     10      0.018652\n2      Homicides     16          03         84.0      4      0.011786\n3      Homicides     16          04         93.0      2      0.012303\n4      Homicides     16          05         93.0      0      0.000000\n...          ...    ...         ...          ...    ...           ...\n13045        NaN     23          91         11.0   4785      3.642196\n13046        NaN     23          92         11.0   6260      3.828065\n13047        NaN     23          93         11.0  10059      6.028154\n13048        NaN     23          94         11.0   6898      4.873648\n13049        NaN     23          95         11.0   5985      4.762826\n\n[12032 rows x 6 columns]",
      "text/html": "<div>\n<style scoped>\n    .dataframe tbody tr th:only-of-type {\n        vertical-align: middle;\n    }\n\n    .dataframe tbody tr th {\n        vertical-align: top;\n    }\n\n    .dataframe thead th {\n        text-align: right;\n    }\n</style>\n<table border=\"1\" class=\"dataframe\">\n  <thead>\n    <tr style=\"text-align: right;\">\n      <th></th>\n      <th>classe</th>\n      <th>annee</th>\n      <th>code_postal</th>\n      <th>code_region</th>\n      <th>faits</th>\n      <th>tauxpourcent</th>\n    </tr>\n  </thead>\n  <tbody>\n    <tr>\n      <th>0</th>\n      <td>Homicides</td>\n      <td>16</td>\n      <td>01</td>\n      <td>84.0</td>\n      <td>5</td>\n      <td>0.007832</td>\n    </tr>\n    <tr>\n      <th>1</th>\n      <td>Homicides</td>\n      <td>16</td>\n      <td>02</td>\n      <td>32.0</td>\n      <td>10</td>\n      <td>0.018652</td>\n    </tr>\n    <tr>\n      <th>2</th>\n      <td>Homicides</td>\n      <td>16</td>\n      <td>03</td>\n      <td>84.0</td>\n      <td>4</td>\n      <td>0.011786</td>\n    </tr>\n    <tr>\n      <th>3</th>\n      <td>Homicides</td>\n      <td>16</td>\n      <td>04</td>\n      <td>93.0</td>\n      <td>2</td>\n      <td>0.012303</td>\n    </tr>\n    <tr>\n      <th>4</th>\n      <td>Homicides</td>\n      <td>16</td>\n      <td>05</td>\n      <td>93.0</td>\n      <td>0</td>\n      <td>0.000000</td>\n    </tr>\n    <tr>\n      <th>...</th>\n      <td>...</td>\n      <td>...</td>\n      <td>...</td>\n      <td>...</td>\n      <td>...</td>\n      <td>...</td>\n    </tr>\n    <tr>\n      <th>13045</th>\n      <td>NaN</td>\n      <td>23</td>\n      <td>91</td>\n      <td>11.0</td>\n      <td>4785</td>\n      <td>3.642196</td>\n    </tr>\n    <tr>\n      <th>13046</th>\n      <td>NaN</td>\n      <td>23</td>\n      <td>92</td>\n      <td>11.0</td>\n      <td>6260</td>\n      <td>3.828065</td>\n    </tr>\n    <tr>\n      <th>13047</th>\n      <td>NaN</td>\n      <td>23</td>\n      <td>93</td>\n      <td>11.0</td>\n      <td>10059</td>\n      <td>6.028154</td>\n    </tr>\n    <tr>\n      <th>13048</th>\n      <td>NaN</td>\n      <td>23</td>\n      <td>94</td>\n      <td>11.0</td>\n      <td>6898</td>\n      <td>4.873648</td>\n    </tr>\n    <tr>\n      <th>13049</th>\n      <td>NaN</td>\n      <td>23</td>\n      <td>95</td>\n      <td>11.0</td>\n      <td>5985</td>\n      <td>4.762826</td>\n    </tr>\n  </tbody>\n</table>\n<p>12032 rows × 6 columns</p>\n</div>"
     },
     "execution_count": 73,
     "metadata": {},
     "output_type": "execute_result"
    }
   ],
   "source": [
    "# Remove the columns that are not useful\n",
    "columns_to_remove = [\n",
    "    \"Unnamed: 4\",\n",
    "    \"millPOP\",\n",
    "    \"millLOG\",\n",
    "    \"POP\",\n",
    "    \"LOG\"\n",
    "]\n",
    "df = df.drop(columns=columns_to_remove)\n",
    "\n",
    "# Rename the columns\n",
    "df = df.rename(columns={\"Unnamed: 2\": \"code_postal\"})\n",
    "df = df.rename(columns={\"Unnamed: 3\": \"code_region\"})\n",
    "df = df.rename(columns={\"tauxpourmille\": \"tauxpourcent\"})\n",
    "\n",
    "# Convert 'code_postal' to int\n",
    "# Replace '2A' with 201 and '2B' with 202 for conversion to int\n",
    "df['code_postal'] = df['code_postal'].replace({'2A': 201, '2B': 202})\n",
    "\n",
    "# Fill NaN values with 0\n",
    "df['code_postal'] = df['code_postal'].fillna(0)\n",
    "\n",
    "# Convert 'code_postal' to int\n",
    "df['code_postal'] = df['code_postal'].astype(int)\n",
    "\n",
    "# Filter out 'code_postal' values greater than 95 and more than 0\n",
    "df = df.loc[df['code_postal'] <= 95]\n",
    "df = df.loc[df['code_postal'] > 0]\n",
    "\n",
    "# Convert code_postal value to double digit\n",
    "df['code_postal'] = df['code_postal'].astype(str).apply(lambda x: x.zfill(2))\n",
    "\n",
    "df\n"
   ],
   "metadata": {
    "collapsed": false,
    "ExecuteTime": {
     "end_time": "2024-02-10T10:31:33.070140700Z",
     "start_time": "2024-02-10T10:31:33.043603700Z"
    }
   },
   "id": "2b9a6a61c7f1cf0b",
   "execution_count": 73
  },
  {
   "cell_type": "code",
   "outputs": [],
   "source": [],
   "metadata": {
    "collapsed": false,
    "ExecuteTime": {
     "end_time": "2024-02-10T10:31:33.074661400Z",
     "start_time": "2024-02-10T10:31:33.070140700Z"
    }
   },
   "id": "77a1e9283efe050",
   "execution_count": 73
  }
 ],
 "metadata": {
  "kernelspec": {
   "display_name": "Python 3",
   "language": "python",
   "name": "python3"
  },
  "language_info": {
   "codemirror_mode": {
    "name": "ipython",
    "version": 2
   },
   "file_extension": ".py",
   "mimetype": "text/x-python",
   "name": "python",
   "nbconvert_exporter": "python",
   "pygments_lexer": "ipython2",
   "version": "2.7.6"
  }
 },
 "nbformat": 4,
 "nbformat_minor": 5
}
