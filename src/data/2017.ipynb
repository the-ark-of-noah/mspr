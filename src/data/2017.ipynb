{
 "cells": [
  {
   "cell_type": "code",
   "outputs": [],
   "source": [
    "\n",
    "import pandas as pd\n",
    "\n",
    "# Importing necessary functions from the project's modules\n",
    "from src.data.utils.map_parties import replace_candidate_names_with_parties\n",
    "from src.data.utils.write_to_csv import write_to_csv\n",
    "from src.data.utils.constants import party_dict\n",
    "from src.data.utils.constants import rename_election_columns\n",
    "\n",
    "\n",
    "# Function to load data from a CSV file into a pandas DataFrame\n",
    "def load_data(filepath):\n",
    "    df = pd.read_csv(filepath, low_memory=False)\n",
    "    return df\n",
    "\n",
    "\n",
    "# Function to remove specified columns from the DataFrame\n",
    "def remove_columns(df, columns):\n",
    "    df = df.drop(columns=columns)\n",
    "    return df\n",
    "\n",
    "\n",
    "# Function to rename the columns of the DataFrame based on the provided dictionary\n",
    "def rename_columns(df, rename_dict):\n",
    "    df = df.rename(columns=rename_dict)\n",
    "    return df\n",
    "\n",
    "\n",
    "# Function to convert the postal codes in the DataFrame\n",
    "def convert_code_postal(df):\n",
    "    df['code_postal'] = df['code_postal'].replace({'2A': 201, '2B': 202}).astype(int)\n",
    "    df['code_postal'] = df['code_postal'].astype(str).apply(lambda x: x.zfill(2))\n",
    "    return df\n",
    "\n",
    "\n",
    "# Function to exclude certain departments from the DataFrame based on the provided exclusion list\n",
    "def exclude_departments(df, exclude_list, code_column='code_postal'):\n",
    "    df_filtered = df[~df[code_column].isin(exclude_list)]\n",
    "    return df_filtered\n",
    "\n",
    "\n",
    "# Paths for both tour 1 and tour 2 files\n",
    "filepaths = [\"../../data/raw/2017_resultats_par_burvot_tour_1.csv\",\n",
    "             \"../../data/raw/2017_resultats_par_burvot_tour_2.csv\"]\n",
    "columns_to_remove = [\"Code de la circonscription\", \"Circonscription\", \"Code de la commune\", \"Adresse\", \"Code Postal\"]\n",
    "exclude_drom_tom = [\"ZA\", \"ZB\", \"ZC\", \"ZD\", \"ZM\", \"ZN\", \"ZP\", \"ZS\", \"ZW\", \"ZX\", \"ZZ\"]\n",
    "\n",
    "for filepath in filepaths:\n",
    "    # Load the data\n",
    "    df = pd.read_csv(filepath, sep=';')\n",
    "    # Remove unnecessary columns\n",
    "    df = remove_columns(df, columns_to_remove)\n",
    "    # Rename columns\n",
    "    df = rename_columns(df, rename_election_columns)\n",
    "    # Exclude certain departments\n",
    "    df = exclude_departments(df, exclude_drom_tom, \"code_postal\")\n",
    "    # Convert postal codes\n",
    "    df = convert_code_postal(df)\n",
    "    # Replace candidate names with parties\n",
    "    df = replace_candidate_names_with_parties(df, party_dict)\n",
    "    # Get the file name from the file path\n",
    "    file_name = filepath.split('/')[-1]\n",
    "    # Write the cleaned data to a CSV file\n",
    "    write_to_csv(df, file_name.replace('2017_resultats_par_burvot', '2022_elections').replace('.csv', '_cleaned'))\n"
   ],
   "metadata": {
    "collapsed": false,
    "ExecuteTime": {
     "end_time": "2024-02-26T10:29:31.705049700Z",
     "start_time": "2024-02-26T10:29:12.235777100Z"
    }
   },
   "id": "c62607bcdea9fd54",
   "execution_count": 15
  },
  {
   "cell_type": "code",
   "outputs": [],
   "source": [],
   "metadata": {
    "collapsed": false
   },
   "id": "86b7a1b983d8ad78"
  }
 ],
 "metadata": {
  "kernelspec": {
   "display_name": "Python 3",
   "language": "python",
   "name": "python3"
  },
  "language_info": {
   "codemirror_mode": {
    "name": "ipython",
    "version": 2
   },
   "file_extension": ".py",
   "mimetype": "text/x-python",
   "name": "python",
   "nbconvert_exporter": "python",
   "pygments_lexer": "ipython2",
   "version": "2.7.6"
  }
 },
 "nbformat": 4,
 "nbformat_minor": 5
}
