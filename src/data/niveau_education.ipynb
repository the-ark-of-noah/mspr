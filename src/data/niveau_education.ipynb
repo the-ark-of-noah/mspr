{
 "cells": [
  {
   "cell_type": "code",
   "execution_count": 2,
   "id": "initial_id",
   "metadata": {
    "collapsed": true,
    "ExecuteTime": {
     "end_time": "2024-02-10T10:21:28.493287500Z",
     "start_time": "2024-02-10T10:21:28.469112400Z"
    }
   },
   "outputs": [
    {
     "data": {
      "text/plain": "                          Insee - Statistiques locales   Unnamed: 1  \\\n0    RÃ©fÃ©rentiel gÃ©ographique : France par dÃ©pa...          NaN   \n1                                                  NaN          NaN   \n2                                                 Code     LibellÃ©   \n3                                                   01          Ain   \n4                                                   02        Aisne   \n..                                                 ...          ...   \n99                                                 971   Guadeloupe   \n100                                                972   Martinique   \n101                                                973       Guyane   \n102                                                974  La RÃ©union   \n103                                                976      Mayotte   \n\n                                           Unnamed: 2  \\\n0                                                 NaN   \n1                                              Indic1   \n2    Nb de pers. non scolarisÃ©es de 15 ans ou + 2020   \n3                                              480283   \n4                                              394221   \n..                                                ...   \n99                                             283923   \n100                                            275923   \n101                                            164254   \n102                                            594394   \n103                    N/A - rÃ©sultat non disponible   \n\n                                            Unnamed: 3  \\\n0                                                  NaN   \n1                                               Indic2   \n2    Part des Ã©lÃ¨ves du privÃ© parmi les Ã©lÃ¨ves...   \n3                                                 16.8   \n4                                                   14   \n..                                                 ...   \n99                                                11.1   \n100                                               13.7   \n101                                                8.1   \n102                                                8.1   \n103                                                0.7   \n\n                                            Unnamed: 4  \\\n0                                                  NaN   \n1                                               Indic3   \n2    Part des diplÃ´mÃ©s d'un BAC+5 ou plus dans la...   \n3                                                  9.4   \n4                                                  4.3   \n..                                                 ...   \n99                                                   6   \n100                                                  7   \n101                                                6.3   \n102                                                5.9   \n103                     N/A - rÃ©sultat non disponible   \n\n                                            Unnamed: 5  \\\n0                                                  NaN   \n1                                               Indic4   \n2    Part des diplÃ´mÃ©s d'un BAC+3  ou BAC+4 dans ...   \n3                                                    9   \n4                                                  6.2   \n..                                                 ...   \n99                                                 7.4   \n100                                                7.9   \n101                                                6.5   \n102                                                7.2   \n103                     N/A - rÃ©sultat non disponible   \n\n                                            Unnamed: 6  \\\n0                                                  NaN   \n1                                               Indic5   \n2    Part des diplÃ´mÃ©s d'un BAC+2 dans la pop. no...   \n3                                                 12.1   \n4                                                  9.3   \n..                                                 ...   \n99                                                 9.1   \n100                                                  9   \n101                                                6.1   \n102                                                7.9   \n103                     N/A - rÃ©sultat non disponible   \n\n                                            Unnamed: 7  \\\n0                                                  NaN   \n1                                               Indic6   \n2    Part des pers., dont le diplÃ´me le plus Ã©lev...   \n3                                                 17.8   \n4                                                 16.5   \n..                                                 ...   \n99                                                17.7   \n100                                               17.8   \n101                                               14.4   \n102                                               16.7   \n103                     N/A - rÃ©sultat non disponible   \n\n                                            Unnamed: 8  \n0                                                  NaN  \n1                                               Indic7  \n2    Part des pers., dont le diplÃ´me le plus Ã©lev...  \n3                                                 26.9  \n4                                                 28.9  \n..                                                 ...  \n99                                                20.7  \n100                                               20.6  \n101                                               16.5  \n102                                               20.3  \n103                     N/A - rÃ©sultat non disponible  \n\n[104 rows x 9 columns]",
      "text/html": "<div>\n<style scoped>\n    .dataframe tbody tr th:only-of-type {\n        vertical-align: middle;\n    }\n\n    .dataframe tbody tr th {\n        vertical-align: top;\n    }\n\n    .dataframe thead th {\n        text-align: right;\n    }\n</style>\n<table border=\"1\" class=\"dataframe\">\n  <thead>\n    <tr style=\"text-align: right;\">\n      <th></th>\n      <th>Insee - Statistiques locales</th>\n      <th>Unnamed: 1</th>\n      <th>Unnamed: 2</th>\n      <th>Unnamed: 3</th>\n      <th>Unnamed: 4</th>\n      <th>Unnamed: 5</th>\n      <th>Unnamed: 6</th>\n      <th>Unnamed: 7</th>\n      <th>Unnamed: 8</th>\n    </tr>\n  </thead>\n  <tbody>\n    <tr>\n      <th>0</th>\n      <td>RÃ©fÃ©rentiel gÃ©ographique : France par dÃ©pa...</td>\n      <td>NaN</td>\n      <td>NaN</td>\n      <td>NaN</td>\n      <td>NaN</td>\n      <td>NaN</td>\n      <td>NaN</td>\n      <td>NaN</td>\n      <td>NaN</td>\n    </tr>\n    <tr>\n      <th>1</th>\n      <td>NaN</td>\n      <td>NaN</td>\n      <td>Indic1</td>\n      <td>Indic2</td>\n      <td>Indic3</td>\n      <td>Indic4</td>\n      <td>Indic5</td>\n      <td>Indic6</td>\n      <td>Indic7</td>\n    </tr>\n    <tr>\n      <th>2</th>\n      <td>Code</td>\n      <td>LibellÃ©</td>\n      <td>Nb de pers. non scolarisÃ©es de 15 ans ou + 2020</td>\n      <td>Part des Ã©lÃ¨ves du privÃ© parmi les Ã©lÃ¨ves...</td>\n      <td>Part des diplÃ´mÃ©s d'un BAC+5 ou plus dans la...</td>\n      <td>Part des diplÃ´mÃ©s d'un BAC+3  ou BAC+4 dans ...</td>\n      <td>Part des diplÃ´mÃ©s d'un BAC+2 dans la pop. no...</td>\n      <td>Part des pers., dont le diplÃ´me le plus Ã©lev...</td>\n      <td>Part des pers., dont le diplÃ´me le plus Ã©lev...</td>\n    </tr>\n    <tr>\n      <th>3</th>\n      <td>01</td>\n      <td>Ain</td>\n      <td>480283</td>\n      <td>16.8</td>\n      <td>9.4</td>\n      <td>9</td>\n      <td>12.1</td>\n      <td>17.8</td>\n      <td>26.9</td>\n    </tr>\n    <tr>\n      <th>4</th>\n      <td>02</td>\n      <td>Aisne</td>\n      <td>394221</td>\n      <td>14</td>\n      <td>4.3</td>\n      <td>6.2</td>\n      <td>9.3</td>\n      <td>16.5</td>\n      <td>28.9</td>\n    </tr>\n    <tr>\n      <th>...</th>\n      <td>...</td>\n      <td>...</td>\n      <td>...</td>\n      <td>...</td>\n      <td>...</td>\n      <td>...</td>\n      <td>...</td>\n      <td>...</td>\n      <td>...</td>\n    </tr>\n    <tr>\n      <th>99</th>\n      <td>971</td>\n      <td>Guadeloupe</td>\n      <td>283923</td>\n      <td>11.1</td>\n      <td>6</td>\n      <td>7.4</td>\n      <td>9.1</td>\n      <td>17.7</td>\n      <td>20.7</td>\n    </tr>\n    <tr>\n      <th>100</th>\n      <td>972</td>\n      <td>Martinique</td>\n      <td>275923</td>\n      <td>13.7</td>\n      <td>7</td>\n      <td>7.9</td>\n      <td>9</td>\n      <td>17.8</td>\n      <td>20.6</td>\n    </tr>\n    <tr>\n      <th>101</th>\n      <td>973</td>\n      <td>Guyane</td>\n      <td>164254</td>\n      <td>8.1</td>\n      <td>6.3</td>\n      <td>6.5</td>\n      <td>6.1</td>\n      <td>14.4</td>\n      <td>16.5</td>\n    </tr>\n    <tr>\n      <th>102</th>\n      <td>974</td>\n      <td>La RÃ©union</td>\n      <td>594394</td>\n      <td>8.1</td>\n      <td>5.9</td>\n      <td>7.2</td>\n      <td>7.9</td>\n      <td>16.7</td>\n      <td>20.3</td>\n    </tr>\n    <tr>\n      <th>103</th>\n      <td>976</td>\n      <td>Mayotte</td>\n      <td>N/A - rÃ©sultat non disponible</td>\n      <td>0.7</td>\n      <td>N/A - rÃ©sultat non disponible</td>\n      <td>N/A - rÃ©sultat non disponible</td>\n      <td>N/A - rÃ©sultat non disponible</td>\n      <td>N/A - rÃ©sultat non disponible</td>\n      <td>N/A - rÃ©sultat non disponible</td>\n    </tr>\n  </tbody>\n</table>\n<p>104 rows × 9 columns</p>\n</div>"
     },
     "execution_count": 2,
     "metadata": {},
     "output_type": "execute_result"
    }
   ],
   "source": [
    "import pandas as pd\n",
    "\n",
    "# Try reading the file with ISO-8859-1 encoding\n",
    "df = pd.read_csv('../../data/raw/2020_niveau_education.csv', low_memory=False, encoding='ISO-8859-1')\n",
    "\n",
    "df"
   ]
  },
  {
   "cell_type": "code",
   "outputs": [],
   "source": [],
   "metadata": {
    "collapsed": false
   },
   "id": "c0181b996b3ee9c2"
  }
 ],
 "metadata": {
  "kernelspec": {
   "display_name": "Python 3",
   "language": "python",
   "name": "python3"
  },
  "language_info": {
   "codemirror_mode": {
    "name": "ipython",
    "version": 2
   },
   "file_extension": ".py",
   "mimetype": "text/x-python",
   "name": "python",
   "nbconvert_exporter": "python",
   "pygments_lexer": "ipython2",
   "version": "2.7.6"
  }
 },
 "nbformat": 4,
 "nbformat_minor": 5
}
