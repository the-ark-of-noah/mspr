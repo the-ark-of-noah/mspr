{
 "cells": [
  {
   "cell_type": "code",
   "execution_count": 43,
   "id": "initial_id",
   "metadata": {
    "collapsed": true,
    "ExecuteTime": {
     "end_time": "2024-02-10T11:51:26.944879Z",
     "start_time": "2024-02-10T11:51:26.921797600Z"
    }
   },
   "outputs": [
    {
     "data": {
      "text/plain": "    Code                  Libellé  \\\n0     01                      Ain   \n1     02                    Aisne   \n2     03                   Allier   \n3     04  Alpes-de-Haute-Provence   \n4     05             Hautes-Alpes   \n..   ...                      ...   \n96   971               Guadeloupe   \n97   972               Martinique   \n98   973                   Guyane   \n99   974               La Réunion   \n100  976                  Mayotte   \n\n    Nb de pers. non scolarisées de 15 ans ou + 2020  \\\n0                                            480283   \n1                                            394221   \n2                                            263472   \n3                                            129106   \n4                                            109699   \n..                                              ...   \n96                                           283923   \n97                                           275923   \n98                                           164254   \n99                                           594394   \n100                   N/A - résultat non disponible   \n\n     Part des élèves du privé parmi les élèves du second degré 2021  \\\n0                                                 16.8                \n1                                                 14.0                \n2                                                 12.2                \n3                                                  7.2                \n4                                                  9.4                \n..                                                 ...                \n96                                                11.1                \n97                                                13.7                \n98                                                 8.1                \n99                                                 8.1                \n100                                                0.7                \n\n    Part des diplômés d'un BAC+5 ou plus dans la pop. non scolarisée de 15 ans ou + 2020  \\\n0                                                  9.4                                     \n1                                                  4.3                                     \n2                                                  5.1                                     \n3                                                  7.9                                     \n4                                                  8.2                                     \n..                                                 ...                                     \n96                                                   6                                     \n97                                                   7                                     \n98                                                 6.3                                     \n99                                                 5.9                                     \n100                      N/A - résultat non disponible                                     \n\n    Part des diplômés d'un BAC+3  ou BAC+4 dans la pop. non scolarisée de 15 ans ou + 2020  \\\n0                                                    9                                       \n1                                                  6.2                                       \n2                                                  6.7                                       \n3                                                  9.1                                       \n4                                                 10.5                                       \n..                                                 ...                                       \n96                                                 7.4                                       \n97                                                 7.9                                       \n98                                                 6.5                                       \n99                                                 7.2                                       \n100                      N/A - résultat non disponible                                       \n\n    Part des diplômés d'un BAC+2 dans la pop. non scolarisée de 15 ans ou + 2020  \\\n0                                                 12.1                             \n1                                                  9.3                             \n2                                                  9.8                             \n3                                                 11.3                             \n4                                                 12.7                             \n..                                                 ...                             \n96                                                 9.1                             \n97                                                   9                             \n98                                                 6.1                             \n99                                                 7.9                             \n100                      N/A - résultat non disponible                             \n\n    Part des pers., dont le diplôme le plus élevé est le bac, dans la pop. non scolarisée de 15 ans ou + 2020  \\\n0                                                 17.8                                                          \n1                                                 16.5                                                          \n2                                                 17.3                                                          \n3                                                 18.7                                                          \n4                                                 19.8                                                          \n..                                                 ...                                                          \n96                                                17.7                                                          \n97                                                17.8                                                          \n98                                                14.4                                                          \n99                                                16.7                                                          \n100                      N/A - résultat non disponible                                                          \n\n    Part des pers., dont le diplôme le plus élevé est un CAP ou un BEP, dans la pop. non scolarisée de 15 ans ou + 2020  \n0                                                 26.9                                                                   \n1                                                 28.9                                                                   \n2                                                 30.2                                                                   \n3                                                 27.2                                                                   \n4                                                 26.1                                                                   \n..                                                 ...                                                                   \n96                                                20.7                                                                   \n97                                                20.6                                                                   \n98                                                16.5                                                                   \n99                                                20.3                                                                   \n100                      N/A - résultat non disponible                                                                   \n\n[101 rows x 9 columns]",
      "text/html": "<div>\n<style scoped>\n    .dataframe tbody tr th:only-of-type {\n        vertical-align: middle;\n    }\n\n    .dataframe tbody tr th {\n        vertical-align: top;\n    }\n\n    .dataframe thead th {\n        text-align: right;\n    }\n</style>\n<table border=\"1\" class=\"dataframe\">\n  <thead>\n    <tr style=\"text-align: right;\">\n      <th></th>\n      <th>Code</th>\n      <th>Libellé</th>\n      <th>Nb de pers. non scolarisées de 15 ans ou + 2020</th>\n      <th>Part des élèves du privé parmi les élèves du second degré 2021</th>\n      <th>Part des diplômés d'un BAC+5 ou plus dans la pop. non scolarisée de 15 ans ou + 2020</th>\n      <th>Part des diplômés d'un BAC+3  ou BAC+4 dans la pop. non scolarisée de 15 ans ou + 2020</th>\n      <th>Part des diplômés d'un BAC+2 dans la pop. non scolarisée de 15 ans ou + 2020</th>\n      <th>Part des pers., dont le diplôme le plus élevé est le bac, dans la pop. non scolarisée de 15 ans ou + 2020</th>\n      <th>Part des pers., dont le diplôme le plus élevé est un CAP ou un BEP, dans la pop. non scolarisée de 15 ans ou + 2020</th>\n    </tr>\n  </thead>\n  <tbody>\n    <tr>\n      <th>0</th>\n      <td>01</td>\n      <td>Ain</td>\n      <td>480283</td>\n      <td>16.8</td>\n      <td>9.4</td>\n      <td>9</td>\n      <td>12.1</td>\n      <td>17.8</td>\n      <td>26.9</td>\n    </tr>\n    <tr>\n      <th>1</th>\n      <td>02</td>\n      <td>Aisne</td>\n      <td>394221</td>\n      <td>14.0</td>\n      <td>4.3</td>\n      <td>6.2</td>\n      <td>9.3</td>\n      <td>16.5</td>\n      <td>28.9</td>\n    </tr>\n    <tr>\n      <th>2</th>\n      <td>03</td>\n      <td>Allier</td>\n      <td>263472</td>\n      <td>12.2</td>\n      <td>5.1</td>\n      <td>6.7</td>\n      <td>9.8</td>\n      <td>17.3</td>\n      <td>30.2</td>\n    </tr>\n    <tr>\n      <th>3</th>\n      <td>04</td>\n      <td>Alpes-de-Haute-Provence</td>\n      <td>129106</td>\n      <td>7.2</td>\n      <td>7.9</td>\n      <td>9.1</td>\n      <td>11.3</td>\n      <td>18.7</td>\n      <td>27.2</td>\n    </tr>\n    <tr>\n      <th>4</th>\n      <td>05</td>\n      <td>Hautes-Alpes</td>\n      <td>109699</td>\n      <td>9.4</td>\n      <td>8.2</td>\n      <td>10.5</td>\n      <td>12.7</td>\n      <td>19.8</td>\n      <td>26.1</td>\n    </tr>\n    <tr>\n      <th>...</th>\n      <td>...</td>\n      <td>...</td>\n      <td>...</td>\n      <td>...</td>\n      <td>...</td>\n      <td>...</td>\n      <td>...</td>\n      <td>...</td>\n      <td>...</td>\n    </tr>\n    <tr>\n      <th>96</th>\n      <td>971</td>\n      <td>Guadeloupe</td>\n      <td>283923</td>\n      <td>11.1</td>\n      <td>6</td>\n      <td>7.4</td>\n      <td>9.1</td>\n      <td>17.7</td>\n      <td>20.7</td>\n    </tr>\n    <tr>\n      <th>97</th>\n      <td>972</td>\n      <td>Martinique</td>\n      <td>275923</td>\n      <td>13.7</td>\n      <td>7</td>\n      <td>7.9</td>\n      <td>9</td>\n      <td>17.8</td>\n      <td>20.6</td>\n    </tr>\n    <tr>\n      <th>98</th>\n      <td>973</td>\n      <td>Guyane</td>\n      <td>164254</td>\n      <td>8.1</td>\n      <td>6.3</td>\n      <td>6.5</td>\n      <td>6.1</td>\n      <td>14.4</td>\n      <td>16.5</td>\n    </tr>\n    <tr>\n      <th>99</th>\n      <td>974</td>\n      <td>La Réunion</td>\n      <td>594394</td>\n      <td>8.1</td>\n      <td>5.9</td>\n      <td>7.2</td>\n      <td>7.9</td>\n      <td>16.7</td>\n      <td>20.3</td>\n    </tr>\n    <tr>\n      <th>100</th>\n      <td>976</td>\n      <td>Mayotte</td>\n      <td>N/A - résultat non disponible</td>\n      <td>0.7</td>\n      <td>N/A - résultat non disponible</td>\n      <td>N/A - résultat non disponible</td>\n      <td>N/A - résultat non disponible</td>\n      <td>N/A - résultat non disponible</td>\n      <td>N/A - résultat non disponible</td>\n    </tr>\n  </tbody>\n</table>\n<p>101 rows × 9 columns</p>\n</div>"
     },
     "execution_count": 43,
     "metadata": {},
     "output_type": "execute_result"
    }
   ],
   "source": [
    "import pandas as pd\n",
    "\n",
    "df = pd.read_csv('../../data/raw/2020_niveau_education.csv', low_memory=False)\n",
    "\n",
    "df"
   ]
  },
  {
   "cell_type": "code",
   "outputs": [
    {
     "data": {
      "text/plain": "    code_postal departement       annee    age  \\\n0            01         Ain   scolarisé  15-26   \n1            01         Ain       degré  15-26   \n2            01         Ain  scolarisée  15-26   \n3            01         Ain  scolarisée  15-26   \n4            01         Ain  scolarisée  15-26   \n..          ...         ...         ...    ...   \n803         976     Mayotte  scolarisée  15-26   \n804         976     Mayotte  scolarisée  15-26   \n805         976     Mayotte  scolarisée  15-26   \n806         976     Mayotte  scolarisée  15-26   \n807         976     Mayotte         age  15-26   \n\n                                            indicateur  \\\n0                     Nombre de personne non scolarisé   \n1    Part des élèves du privé parmi les élèves du s...   \n2    Part des diplômés d'un BAC+5 ou plus dans la p...   \n3    Part des diplômés d'un BAC+3 ou BAC+4 dans la ...   \n4    Part des diplômés d'un BAC+2 dans la populatio...   \n..                                                 ...   \n803  Part des diplômés d'un BAC+3 ou BAC+4 dans la ...   \n804  Part des diplômés d'un BAC+2 dans la populatio...   \n805  Part des personnes, dont le diplôme le plus él...   \n806  Part des personne, dont le diplôme le plus éle...   \n807                                                age   \n\n                           valeurs  \n0                           480283  \n1                             16.8  \n2                              9.4  \n3                                9  \n4                             12.1  \n..                             ...  \n803  N/A - résultat non disponible  \n804  N/A - résultat non disponible  \n805  N/A - résultat non disponible  \n806  N/A - résultat non disponible  \n807                          15-26  \n\n[808 rows x 6 columns]",
      "text/html": "<div>\n<style scoped>\n    .dataframe tbody tr th:only-of-type {\n        vertical-align: middle;\n    }\n\n    .dataframe tbody tr th {\n        vertical-align: top;\n    }\n\n    .dataframe thead th {\n        text-align: right;\n    }\n</style>\n<table border=\"1\" class=\"dataframe\">\n  <thead>\n    <tr style=\"text-align: right;\">\n      <th></th>\n      <th>code_postal</th>\n      <th>departement</th>\n      <th>annee</th>\n      <th>age</th>\n      <th>indicateur</th>\n      <th>valeurs</th>\n    </tr>\n  </thead>\n  <tbody>\n    <tr>\n      <th>0</th>\n      <td>01</td>\n      <td>Ain</td>\n      <td>scolarisé</td>\n      <td>15-26</td>\n      <td>Nombre de personne non scolarisé</td>\n      <td>480283</td>\n    </tr>\n    <tr>\n      <th>1</th>\n      <td>01</td>\n      <td>Ain</td>\n      <td>degré</td>\n      <td>15-26</td>\n      <td>Part des élèves du privé parmi les élèves du s...</td>\n      <td>16.8</td>\n    </tr>\n    <tr>\n      <th>2</th>\n      <td>01</td>\n      <td>Ain</td>\n      <td>scolarisée</td>\n      <td>15-26</td>\n      <td>Part des diplômés d'un BAC+5 ou plus dans la p...</td>\n      <td>9.4</td>\n    </tr>\n    <tr>\n      <th>3</th>\n      <td>01</td>\n      <td>Ain</td>\n      <td>scolarisée</td>\n      <td>15-26</td>\n      <td>Part des diplômés d'un BAC+3 ou BAC+4 dans la ...</td>\n      <td>9</td>\n    </tr>\n    <tr>\n      <th>4</th>\n      <td>01</td>\n      <td>Ain</td>\n      <td>scolarisée</td>\n      <td>15-26</td>\n      <td>Part des diplômés d'un BAC+2 dans la populatio...</td>\n      <td>12.1</td>\n    </tr>\n    <tr>\n      <th>...</th>\n      <td>...</td>\n      <td>...</td>\n      <td>...</td>\n      <td>...</td>\n      <td>...</td>\n      <td>...</td>\n    </tr>\n    <tr>\n      <th>803</th>\n      <td>976</td>\n      <td>Mayotte</td>\n      <td>scolarisée</td>\n      <td>15-26</td>\n      <td>Part des diplômés d'un BAC+3 ou BAC+4 dans la ...</td>\n      <td>N/A - résultat non disponible</td>\n    </tr>\n    <tr>\n      <th>804</th>\n      <td>976</td>\n      <td>Mayotte</td>\n      <td>scolarisée</td>\n      <td>15-26</td>\n      <td>Part des diplômés d'un BAC+2 dans la populatio...</td>\n      <td>N/A - résultat non disponible</td>\n    </tr>\n    <tr>\n      <th>805</th>\n      <td>976</td>\n      <td>Mayotte</td>\n      <td>scolarisée</td>\n      <td>15-26</td>\n      <td>Part des personnes, dont le diplôme le plus él...</td>\n      <td>N/A - résultat non disponible</td>\n    </tr>\n    <tr>\n      <th>806</th>\n      <td>976</td>\n      <td>Mayotte</td>\n      <td>scolarisée</td>\n      <td>15-26</td>\n      <td>Part des personne, dont le diplôme le plus éle...</td>\n      <td>N/A - résultat non disponible</td>\n    </tr>\n    <tr>\n      <th>807</th>\n      <td>976</td>\n      <td>Mayotte</td>\n      <td>age</td>\n      <td>15-26</td>\n      <td>age</td>\n      <td>15-26</td>\n    </tr>\n  </tbody>\n</table>\n<p>808 rows × 6 columns</p>\n</div>"
     },
     "execution_count": 44,
     "metadata": {},
     "output_type": "execute_result"
    }
   ],
   "source": [
    "# Rename columns\n",
    "df.rename(columns={\n",
    "    'Nb de pers. non scolarisées de 15 ans ou + 2020': 'Nombre de personne non scolarisé',\n",
    "    'Part des élèves du privé parmi les élèves du second degré 2021': 'Part des élèves du privé parmi les élèves du second degré',\n",
    "    'Part des diplômés d\\'un BAC+5 ou plus dans la pop. non scolarisée de 15 ans ou + 2020': 'Part des diplômés d\\'un BAC+5 ou plus dans la population non scolarisée',\n",
    "    'Part des diplômés d\\'un BAC+3  ou BAC+4 dans la pop. non scolarisée de 15 ans ou + 2020': 'Part des diplômés d\\'un BAC+3 ou BAC+4 dans la population non scolarisée',\n",
    "    'Part des diplômés d\\'un BAC+2 dans la pop. non scolarisée de 15 ans ou + 2020': 'Part des diplômés d\\'un BAC+2 dans la population non scolarisée',\n",
    "    'Part des pers., dont le diplôme le plus élevé est le bac, dans la pop. non scolarisée de 15 ans ou + 2020': 'Part des personnes, dont le diplôme le plus élevé est le bac, dans la population non scolarisée',\n",
    "    'Part des pers., dont le diplôme le plus élevé est un CAP ou un BEP, dans la pop. non scolarisée de 15 ans ou + 2020': 'Part des personne, dont le diplôme le plus élevé est un CAP ou un BEP, dans la population non scolarisée',\n",
    "    'Code': 'code_postal',\n",
    "    'Libellé': 'departement'\n",
    "}, inplace=True)\n",
    "\n",
    "# Set age column\n",
    "df['age'] = '15-26'\n",
    "\n",
    "new_rows = []\n",
    "\n",
    "# Create new rows\n",
    "for index, row in df.iterrows():\n",
    "    for col_name in df.columns[2:]:\n",
    "        year = col_name.split()[-1]\n",
    "        new_row = {\n",
    "            'code_postal': row['code_postal'],\n",
    "            'departement': row['departement'],\n",
    "            'annee': year,\n",
    "            'age': row['age'],\n",
    "            'indicateur': col_name,\n",
    "            'valeurs': row[col_name]\n",
    "        }\n",
    "        new_rows.append(new_row)\n",
    "\n",
    "# Create new dataframe\n",
    "new_df = pd.DataFrame(new_rows)\n",
    "\n",
    "new_df"
   ],
   "metadata": {
    "collapsed": false,
    "ExecuteTime": {
     "end_time": "2024-02-10T11:51:27.024563300Z",
     "start_time": "2024-02-10T11:51:26.949993600Z"
    }
   },
   "id": "c0181b996b3ee9c2",
   "execution_count": 44
  },
  {
   "cell_type": "code",
   "outputs": [],
   "source": [],
   "metadata": {
    "collapsed": false,
    "ExecuteTime": {
     "end_time": "2024-02-10T11:51:27.025440500Z",
     "start_time": "2024-02-10T11:51:26.978855100Z"
    }
   },
   "id": "bc75265999e69d38",
   "execution_count": 44
  }
 ],
 "metadata": {
  "kernelspec": {
   "display_name": "Python 3",
   "language": "python",
   "name": "python3"
  },
  "language_info": {
   "codemirror_mode": {
    "name": "ipython",
    "version": 2
   },
   "file_extension": ".py",
   "mimetype": "text/x-python",
   "name": "python",
   "nbconvert_exporter": "python",
   "pygments_lexer": "ipython2",
   "version": "2.7.6"
  }
 },
 "nbformat": 4,
 "nbformat_minor": 5
}
