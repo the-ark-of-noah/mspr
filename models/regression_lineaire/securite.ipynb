{
 "cells": [
  {
   "cell_type": "code",
   "execution_count": 24,
   "id": "initial_id",
   "metadata": {
    "collapsed": true,
    "ExecuteTime": {
     "end_time": "2024-03-17T14:08:10.514758Z",
     "start_time": "2024-03-17T14:08:09.800728Z"
    }
   },
   "outputs": [
    {
     "name": "stdout",
     "output_type": "stream",
     "text": [
      "Erreur quadratique moyenne sur l'ensemble de test: 95.53324376617026\n",
      "Prédiction du vote de La République En Marche dans le département 89: 37.21104222354786\n"
     ]
    }
   ],
   "source": [
    "from matplotlib import pyplot as plt\n",
    "import psycopg2\n",
    "import pandas as pd\n",
    "import numpy as np\n",
    "from sklearn.model_selection import train_test_split\n",
    "from sklearn.linear_model import LinearRegression\n",
    "from sklearn.metrics import mean_squared_error\n",
    "\n",
    "# Paramètres de connexion à la base de données PostgreSQL\n",
    "conn_params = {\n",
    "    \"host\": \"localhost\",\n",
    "    \"port\": \"15432\", \n",
    "    \"database\": \"postgres\",\n",
    "    \"user\": \"admin\",\n",
    "    \"password\": \"admin\"\n",
    "}\n",
    "\n",
    "# Connexion à la base de données\n",
    "conn = psycopg2.connect(**conn_params)\n",
    "\n",
    "# Création d'un curseur pour exécuter des requêtes SQL\n",
    "cur = conn.cursor()\n",
    "\n",
    "# Requête SQL pour sélectionner les données de la table securite\n",
    "query_securite = \"SELECT code_postal, tauxpourcent FROM securite;\"\n",
    "cur.execute(query_securite)\n",
    "rows_securite = cur.fetchall()\n",
    "\n",
    "# Requête SQL pour sélectionner les données du premier tour (ou du second tour si nécessaire)\n",
    "query_election = \"SELECT code_postal, \\\"% Voix/Ins 1\\\", \\\"% Voix/Ins 2\\\" FROM election_2022_t2\"\n",
    "cur.execute(query_election)\n",
    "rows_election = cur.fetchall()\n",
    "\n",
    "# Fermeture du curseur et de la connexion à la base de données\n",
    "cur.close()\n",
    "conn.close()\n",
    "\n",
    "# Création des DataFrames à partir des résultats des requêtes\n",
    "df_securite = pd.DataFrame(rows_securite, columns=['code_postal', 'tauxpourcent'])\n",
    "df_election = pd.DataFrame(rows_election, columns=['code_postal', '% Voix/Ins 1', '% Voix/Ins 2'])\n",
    "\n",
    "# Fusionner les données de sécurité avec les données de l'élection sur la colonne code_postal\n",
    "df_merged = pd.merge(df_securite, df_election, on='code_postal')\n",
    "\n",
    "# Sélectionner uniquement les données pour La République En Marche\n",
    "# (dans ce cas, nous considérons que toutes les données de df_merged appartiennent au parti La République En Marche)\n",
    "df_party = df_merged\n",
    "\n",
    "# Séparer les features (X) et la target (y)\n",
    "X = df_party[['tauxpourcent']].values\n",
    "y = df_party['% Voix/Ins 1'].values\n",
    "\n",
    "# Diviser les données en ensemble d'entraînement et ensemble de test\n",
    "X_train, X_test, y_train, y_test = train_test_split(X, y, test_size=0.2, random_state=42)\n",
    "\n",
    "# Entraîner le modèle de régression linéaire sur l'ensemble d'entraînement\n",
    "model = LinearRegression()\n",
    "model.fit(X_train, y_train)\n",
    "\n",
    "# Prédire les résultats sur l'ensemble de test pour évaluer la performance du modèle\n",
    "y_pred = model.predict(X_test)\n",
    "mse = mean_squared_error(y_test, y_pred)\n",
    "print(\"Erreur quadratique moyenne sur l'ensemble de test:\", mse)\n",
    "\n",
    "# Utiliser le modèle entraîné pour prédire le vote de La République En Marche dans le département 89\n",
    "dept_89_securite = df_securite[df_securite['code_postal'] == 89]['tauxpourcent'].values.reshape(-1, 1)\n",
    "prediction_dept_89 = model.predict(dept_89_securite)\n",
    "print(\"Prédiction du vote de La République En Marche dans le département 89:\", prediction_dept_89[0])\n"
   ]
  },
  {
   "cell_type": "code",
   "outputs": [],
   "source": [],
   "metadata": {
    "collapsed": false
   },
   "id": "3b355f7a8330057"
  },
  {
   "cell_type": "code",
   "outputs": [],
   "source": [],
   "metadata": {
    "collapsed": false,
    "ExecuteTime": {
     "end_time": "2024-03-17T13:41:36.269900Z",
     "start_time": "2024-03-17T13:41:36.267991Z"
    }
   },
   "id": "ca515bbd436682b5",
   "execution_count": 12
  },
  {
   "cell_type": "code",
   "outputs": [],
   "source": [],
   "metadata": {
    "collapsed": false
   },
   "id": "43807bab4258811e"
  }
 ],
 "metadata": {
  "kernelspec": {
   "display_name": "Python 3",
   "language": "python",
   "name": "python3"
  },
  "language_info": {
   "codemirror_mode": {
    "name": "ipython",
    "version": 2
   },
   "file_extension": ".py",
   "mimetype": "text/x-python",
   "name": "python",
   "nbconvert_exporter": "python",
   "pygments_lexer": "ipython2",
   "version": "2.7.6"
  }
 },
 "nbformat": 4,
 "nbformat_minor": 5
}
