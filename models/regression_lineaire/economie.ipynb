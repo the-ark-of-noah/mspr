{
 "cells": [
  {
   "cell_type": "code",
   "execution_count": null,
   "id": "initial_id",
   "metadata": {
    "collapsed": true,
    "ExecuteTime": {
     "end_time": "2024-03-18T11:28:05.313361Z",
     "start_time": "2024-03-18T11:28:05.312025Z"
    }
   },
   "outputs": [],
   "source": []
  },
  {
   "cell_type": "code",
   "outputs": [
    {
     "name": "stdout",
     "output_type": "stream",
     "text": [
      "Erreur quadratique moyenne sur l'ensemble de test: 64.96468260708079\n",
      "Prédiction du vote de La République En Marche dans le département 89: 31.58077046079928\n"
     ]
    }
   ],
   "source": [
    "from matplotlib import pyplot as plt\n",
    "import psycopg2\n",
    "import pandas as pd\n",
    "import numpy as np\n",
    "from sklearn.model_selection import train_test_split\n",
    "from sklearn.linear_model import LinearRegression\n",
    "from sklearn.metrics import mean_squared_error\n",
    "\n",
    "# Paramètres de connexion à la base de données PostgreSQL\n",
    "conn_params = {\n",
    "    \"host\": \"localhost\",\n",
    "    \"port\": \"15432\", \n",
    "    \"database\": \"postgres\",\n",
    "    \"user\": \"admin\",\n",
    "    \"password\": \"admin\"\n",
    "}\n",
    "\n",
    "# Connexion à la base de données\n",
    "conn = psycopg2.connect(**conn_params)\n",
    "\n",
    "# Création d'un curseur pour exécuter des requêtes SQL\n",
    "cur = conn.cursor()\n",
    "\n",
    "# Requête SQL pour sélectionner les données de la table économie\n",
    "query_economie = \"SELECT * FROM economie;\"\n",
    "cur.execute(query_economie)\n",
    "rows_economie = cur.fetchall()\n",
    "\n",
    "# Requête SQL pour sélectionner les données du premier tour (ou du second tour si nécessaire)\n",
    "query_election = \"SELECT code_postal, \\\"% Voix/Ins 1\\\", \\\"% Voix/Ins 2\\\" FROM election_2022_t2\"\n",
    "cur.execute(query_election)\n",
    "rows_election = cur.fetchall()\n",
    "\n",
    "# Fermeture du curseur et de la connexion à la base de données\n",
    "cur.close()\n",
    "conn.close()\n",
    "\n",
    "# Création des DataFrames à partir des résultats des requêtes\n",
    "df_economie = pd.DataFrame(rows_economie, columns=['avg_1982', 'avg_1983', 'avg_1984', 'avg_1985', 'avg_1986', 'avg_1987', 'avg_1988', 'avg_1989', 'avg_1990', 'avg_1991', 'avg_1992', 'avg_1993', 'avg_1994', 'avg_1995', 'avg_1996', 'avg_1997', 'avg_1998', 'avg_1999', 'avg_2000', 'avg_2001', 'avg_2002', 'avg_2003', 'avg_2004', 'avg_2005', 'avg_2006', 'avg_2007', 'avg_2008', 'avg_2009', 'avg_2010', 'avg_2011', 'avg_2012', 'avg_2013', 'avg_2014', 'avg_2015', 'avg_2016', 'avg_2017', 'avg_2018', 'avg_2019', 'avg_2020', 'avg_2021', 'avg_2022', 'avg_2023', 'code_postal', 'Nb_de_ménages_fiscaux_2021', 'Médiane_du_niveau_de_vie_2021', 'Part_des_minima_sociaux_dans_le_rev_disp_2021', 'Part_des_prestations_familiales_dans_le_rev_disp_2021', 'Part_des_prestations_sociales_dans_le_rev_disp_2021', 'Part_des_prestations_logement_dans_le_rev_disp_2021', 'Part_des_indemnités_de_chômage_dans_le_rev_disp_2021', '2022', '2005', '2000', 'id_economie'])\n",
    "df_election = pd.DataFrame(rows_election, columns=['code_postal', '% Voix/Ins 1', '% Voix/Ins 2'])\n",
    "\n",
    "# Supprimer les colonnes non désirées dans df_economie\n",
    "df_economie.drop(['id_economie'], axis=1, inplace=True)\n",
    "\n",
    "# Fusionner les données économiques avec les données de l'élection sur la colonne code_postal\n",
    "df_merged = pd.merge(df_economie, df_election, on='code_postal')\n",
    "\n",
    "# Sélectionner uniquement les données pour La République En Marche\n",
    "df_party = df_merged\n",
    "\n",
    "# Séparer les features (X) et la target (y)\n",
    "X = df_party.drop(['code_postal', '% Voix/Ins 1', '% Voix/Ins 2'], axis=1)\n",
    "y = df_party['% Voix/Ins 1']\n",
    "\n",
    "# Diviser les données en ensemble d'entraînement et ensemble de test\n",
    "X_train, X_test, y_train, y_test = train_test_split(X, y, test_size=0.2, random_state=42)\n",
    "\n",
    "# Entraîner le modèle de régression linéaire sur l'ensemble d'entraînement\n",
    "model = LinearRegression()\n",
    "model.fit(X_train, y_train)\n",
    "\n",
    "# Prédire les résultats sur l'ensemble de test pour évaluer la performance du modèle\n",
    "y_pred = model.predict(X_test)\n",
    "mse = mean_squared_error(y_test, y_pred)\n",
    "print(\"Erreur quadratique moyenne sur l'ensemble de test:\", mse)\n",
    "\n",
    "# Utiliser le modèle entraîné pour prédire le vote de La République En Marche dans le département 89\n",
    "dept_89_economie = df_economie[df_economie['code_postal'] == 89].drop('code_postal', axis=1)\n",
    "prediction_dept_89 = model.predict(dept_89_economie)\n",
    "print(\"Prédiction du vote de La République En Marche dans le département 89:\", prediction_dept_89[0])\n"
   ],
   "metadata": {
    "collapsed": false,
    "ExecuteTime": {
     "end_time": "2024-03-18T11:28:06.633698Z",
     "start_time": "2024-03-18T11:28:05.314324Z"
    }
   },
   "id": "75544a7462b2bf5f",
   "execution_count": 1
  },
  {
   "cell_type": "code",
   "outputs": [],
   "source": [],
   "metadata": {
    "collapsed": false,
    "ExecuteTime": {
     "end_time": "2024-03-18T11:28:06.637868Z",
     "start_time": "2024-03-18T11:28:06.635807Z"
    }
   },
   "id": "d8cd99fe203e8f1b",
   "execution_count": 1
  }
 ],
 "metadata": {
  "kernelspec": {
   "display_name": "Python 3",
   "language": "python",
   "name": "python3"
  },
  "language_info": {
   "codemirror_mode": {
    "name": "ipython",
    "version": 2
   },
   "file_extension": ".py",
   "mimetype": "text/x-python",
   "name": "python",
   "nbconvert_exporter": "python",
   "pygments_lexer": "ipython2",
   "version": "2.7.6"
  }
 },
 "nbformat": 4,
 "nbformat_minor": 5
}
