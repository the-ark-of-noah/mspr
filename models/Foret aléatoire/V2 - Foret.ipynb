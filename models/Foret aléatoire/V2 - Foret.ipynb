{
 "cells": [
  {
   "cell_type": "code",
   "execution_count": 3,
   "id": "initial_id",
   "metadata": {
    "collapsed": true,
    "ExecuteTime": {
     "end_time": "2024-04-03T05:14:03.053568Z",
     "start_time": "2024-04-03T05:14:01.829030Z"
    }
   },
   "outputs": [
    {
     "name": "stderr",
     "output_type": "stream",
     "text": [
      "/var/folders/9z/lnzs0dyx0k1g2nvs92hf0syr0000gn/T/ipykernel_3092/3612143465.py:13: UserWarning: pandas only supports SQLAlchemy connectable (engine/connection) or database string URI or sqlite3 DBAPI2 connection. Other DBAPI2 objects are not tested. Please consider using SQLAlchemy.\n",
      "  df_election = pd.read_sql(query_election, conn)\n",
      "/var/folders/9z/lnzs0dyx0k1g2nvs92hf0syr0000gn/T/ipykernel_3092/3612143465.py:25: UserWarning: pandas only supports SQLAlchemy connectable (engine/connection) or database string URI or sqlite3 DBAPI2 connection. Other DBAPI2 objects are not tested. Please consider using SQLAlchemy.\n",
      "  df_economie = pd.read_sql(query_economie, conn)\n",
      "/var/folders/9z/lnzs0dyx0k1g2nvs92hf0syr0000gn/T/ipykernel_3092/3612143465.py:32: UserWarning: pandas only supports SQLAlchemy connectable (engine/connection) or database string URI or sqlite3 DBAPI2 connection. Other DBAPI2 objects are not tested. Please consider using SQLAlchemy.\n",
      "  df_securite = pd.read_sql(query_securite, conn)\n",
      "/var/folders/9z/lnzs0dyx0k1g2nvs92hf0syr0000gn/T/ipykernel_3092/3612143465.py:39: UserWarning: pandas only supports SQLAlchemy connectable (engine/connection) or database string URI or sqlite3 DBAPI2 connection. Other DBAPI2 objects are not tested. Please consider using SQLAlchemy.\n",
      "  df_densite = pd.read_sql(query_densite, conn)\n"
     ]
    },
    {
     "name": "stdout",
     "output_type": "stream",
     "text": [
      "Dépassement des 5% pour chaque parti dans l'Yonne :\n",
      "Le parti La France Insoumise va-t-il dépasser les 5% de votants ? : False\n",
      "Le parti La République En Marche va-t-il dépasser les 5% de votants ? : True\n",
      "Le parti Rassemblement National va-t-il dépasser les 5% de votants ? : True\n"
     ]
    },
    {
     "name": "stderr",
     "output_type": "stream",
     "text": [
      "/var/folders/9z/lnzs0dyx0k1g2nvs92hf0syr0000gn/T/ipykernel_3092/3612143465.py:63: UserWarning: pandas only supports SQLAlchemy connectable (engine/connection) or database string URI or sqlite3 DBAPI2 connection. Other DBAPI2 objects are not tested. Please consider using SQLAlchemy.\n",
      "  df_election_yonne = pd.read_sql(query_election_yonne, conn)\n",
      "/var/folders/9z/lnzs0dyx0k1g2nvs92hf0syr0000gn/T/ipykernel_3092/3612143465.py:75: UserWarning: pandas only supports SQLAlchemy connectable (engine/connection) or database string URI or sqlite3 DBAPI2 connection. Other DBAPI2 objects are not tested. Please consider using SQLAlchemy.\n",
      "  df_economie = pd.read_sql(query_economie, conn)\n"
     ]
    }
   ],
   "source": [
    "import pandas as pd\n",
    "from sklearn.ensemble import RandomForestClassifier\n",
    "from models.managers.db_manager import connect_to_bdd\n",
    "\n",
    "# Connexion à la base de données\n",
    "conn = connect_to_bdd()\n",
    "\n",
    "# Requête pour election_2022_t1 et sauvegarde dans df_election\n",
    "query_election = \"\"\"\n",
    "    SELECT winner, code_postal, \"Libellé de la commune\"\n",
    "    FROM election_2022_t1\n",
    "\"\"\"\n",
    "df_election = pd.read_sql(query_election, conn)\n",
    "\n",
    "# Requête pour economie et sauvegarde dans df_economie\n",
    "query_economie = \"\"\"\n",
    "    SELECT avg_1982, avg_1983, avg_1984, avg_1985, avg_1986, avg_1987, avg_1988, avg_1989,\n",
    "           avg_1990, avg_1991, avg_1992, avg_1993, avg_1994, avg_1995, avg_1996, avg_1997,\n",
    "           avg_1998, avg_1999, avg_2000, avg_2001, avg_2002, avg_2003, avg_2004, avg_2005,\n",
    "           avg_2006, avg_2007, avg_2008, avg_2009, avg_2010, avg_2011, avg_2012, avg_2013,\n",
    "           avg_2014, avg_2015, avg_2016, avg_2017, avg_2018, avg_2019, avg_2020, avg_2021,\n",
    "           avg_2022, avg_2023, code_postal\n",
    "    FROM economie\n",
    "\"\"\"\n",
    "df_economie = pd.read_sql(query_economie, conn)\n",
    "\n",
    "# Requête pour securite et sauvegarde dans df_securite\n",
    "query_securite = \"\"\"\n",
    "    SELECT code_postal, tauxpourcent\n",
    "    FROM securite\n",
    "\"\"\"\n",
    "df_securite = pd.read_sql(query_securite, conn)\n",
    "\n",
    "# Requête pour densite et sauvegarde dans df_densite\n",
    "query_densite = \"\"\"\n",
    "    SELECT code_postal, dens_pop\n",
    "    FROM demographie\n",
    "\"\"\"\n",
    "df_densite = pd.read_sql(query_densite, conn)\n",
    "\n",
    "\n",
    "# Fusionner les données\n",
    "df_combined = pd.merge(df_election, df_economie, on=\"code_postal\")\n",
    "#df_combined = pd.merge(df_combined, df_securite, on=\"code_postal\")\n",
    "#df_combined = pd.merge(df_combined, df_densite, on=\"code_postal\")\n",
    "\n",
    "# Séparer les caractéristiques et la cible\n",
    "X = df_combined.drop(columns=[\"winner\", \"Libellé de la commune\"])\n",
    "y = df_combined[\"winner\"]\n",
    "\n",
    "# Créer le modèle RandomForestClassifier\n",
    "clf = RandomForestClassifier()\n",
    "\n",
    "# Entraîner le modèle sur l'ensemble des données\n",
    "clf.fit(X, y)\n",
    "\n",
    "# Requête pour les données de l'Yonne pour les élections\n",
    "query_election_yonne = \"\"\"\n",
    "    SELECT winner, code_postal, \"Libellé de la commune\"\n",
    "    FROM election_2022_t1\n",
    "    WHERE code_postal = '89'\n",
    "\"\"\"\n",
    "df_election_yonne = pd.read_sql(query_election_yonne, conn)\n",
    "\n",
    "# Requête pour economie et sauvegarde dans df_economie\n",
    "query_economie = \"\"\"\n",
    "    SELECT avg_1982, avg_1983, avg_1984, avg_1985, avg_1986, avg_1987, avg_1988, avg_1989,\n",
    "           avg_1990, avg_1991, avg_1992, avg_1993, avg_1994, avg_1995, avg_1996, avg_1997,\n",
    "           avg_1998, avg_1999, avg_2000, avg_2001, avg_2002, avg_2003, avg_2004, avg_2005,\n",
    "           avg_2006, avg_2007, avg_2008, avg_2009, avg_2010, avg_2011, avg_2012, avg_2013,\n",
    "           avg_2014, avg_2015, avg_2016, avg_2017, avg_2018, avg_2019, avg_2020, avg_2021,\n",
    "           avg_2022, avg_2023, code_postal\n",
    "    FROM economie\n",
    "\"\"\"\n",
    "df_economie = pd.read_sql(query_economie, conn)\n",
    "\n",
    "# Fermeture de la connexion\n",
    "conn.close()\n",
    "\n",
    "# Fusionner les données\n",
    "df_combined = pd.merge(df_election_yonne, df_economie, on=\"code_postal\")\n",
    "\n",
    "# Séparer les caractéristiques et la cible\n",
    "X = df_combined.drop(columns=[\"winner\", \"Libellé de la commune\"])\n",
    "y = df_combined[\"winner\"]\n",
    "\n",
    "# Créer le modèle RandomForestClassifier\n",
    "clf = RandomForestClassifier()\n",
    "\n",
    "# Entraîner le modèle sur l'ensemble des données\n",
    "clf.fit(X, y)\n",
    "\n",
    "# Prédire les probabilités pour chaque classe\n",
    "y_pred_proba = clf.predict_proba(X)\n",
    "\n",
    "# Déterminer si chaque parti va dépasser les 5% de votants\n",
    "parties_depassant_5pct = []\n",
    "for party_index, party_name in enumerate(clf.classes_):\n",
    "    proba_threshold = 0.05\n",
    "    party_proba = y_pred_proba[:, party_index]\n",
    "    if any(party_proba > proba_threshold):\n",
    "        parties_depassant_5pct.append((party_name, True))\n",
    "    else:\n",
    "        parties_depassant_5pct.append((party_name, False))\n",
    "\n",
    "# Afficher les résultats\n",
    "print(\"Dépassement des 5% pour chaque parti dans l'Yonne :\")\n",
    "for party_name, is_above_5pct in parties_depassant_5pct:\n",
    "    print(f\"Le parti {party_name} va-t-il dépasser les 5% de votants ? : {is_above_5pct}\")\n"
   ]
  },
  {
   "cell_type": "code",
   "outputs": [],
   "source": [],
   "metadata": {
    "collapsed": false
   },
   "id": "7bb232b270d359fa"
  }
 ],
 "metadata": {
  "kernelspec": {
   "display_name": "Python 3",
   "language": "python",
   "name": "python3"
  },
  "language_info": {
   "codemirror_mode": {
    "name": "ipython",
    "version": 2
   },
   "file_extension": ".py",
   "mimetype": "text/x-python",
   "name": "python",
   "nbconvert_exporter": "python",
   "pygments_lexer": "ipython2",
   "version": "2.7.6"
  }
 },
 "nbformat": 4,
 "nbformat_minor": 5
}
