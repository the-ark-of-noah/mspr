{
 "cells": [
  {
   "cell_type": "code",
   "execution_count": 1,
   "id": "initial_id",
   "metadata": {
    "collapsed": true,
    "ExecuteTime": {
     "end_time": "2024-03-23T11:40:02.638511Z",
     "start_time": "2024-03-23T11:40:00.860467Z"
    }
   },
   "outputs": [
    {
     "name": "stderr",
     "output_type": "stream",
     "text": [
      "/var/folders/00/t_t93b0n0wx8m9fcms_xg6640000gn/T/ipykernel_60021/1518155942.py:24: UserWarning: pandas only supports SQLAlchemy connectable (engine/connection) or database string URI or sqlite3 DBAPI2 connection. Other DBAPI2 objects are not tested. Please consider using SQLAlchemy.\n",
      "  df_election = pd.read_sql(query_election, conn)\n"
     ]
    },
    {
     "ename": "DatabaseError",
     "evalue": "Execution failed on sql '\n    SELECT winner, code_postal\n    FROM election_2022_t1\n': column \"winner\" does not exist\nLINE 2:     SELECT winner, code_postal\n                   ^\n",
     "output_type": "error",
     "traceback": [
      "\u001B[0;31m---------------------------------------------------------------------------\u001B[0m",
      "\u001B[0;31mUndefinedColumn\u001B[0m                           Traceback (most recent call last)",
      "File \u001B[0;32m~/anaconda3/lib/python3.11/site-packages/pandas/io/sql.py:2672\u001B[0m, in \u001B[0;36mSQLiteDatabase.execute\u001B[0;34m(self, sql, params)\u001B[0m\n\u001B[1;32m   2671\u001B[0m \u001B[38;5;28;01mtry\u001B[39;00m:\n\u001B[0;32m-> 2672\u001B[0m     cur\u001B[38;5;241m.\u001B[39mexecute(sql, \u001B[38;5;241m*\u001B[39margs)\n\u001B[1;32m   2673\u001B[0m     \u001B[38;5;28;01mreturn\u001B[39;00m cur\n",
      "\u001B[0;31mUndefinedColumn\u001B[0m: column \"winner\" does not exist\nLINE 2:     SELECT winner, code_postal\n                   ^\n",
      "\nThe above exception was the direct cause of the following exception:\n",
      "\u001B[0;31mDatabaseError\u001B[0m                             Traceback (most recent call last)",
      "Cell \u001B[0;32mIn[1], line 24\u001B[0m\n\u001B[1;32m     19\u001B[0m \u001B[38;5;66;03m# Requête SQL pour récupérer les données des élections\u001B[39;00m\n\u001B[1;32m     20\u001B[0m query_election \u001B[38;5;241m=\u001B[39m \u001B[38;5;124m\"\"\"\u001B[39m\n\u001B[1;32m     21\u001B[0m \u001B[38;5;124m    SELECT winner, code_postal\u001B[39m\n\u001B[1;32m     22\u001B[0m \u001B[38;5;124m    FROM election_2022_t1\u001B[39m\n\u001B[1;32m     23\u001B[0m \u001B[38;5;124m\"\"\"\u001B[39m\n\u001B[0;32m---> 24\u001B[0m df_election \u001B[38;5;241m=\u001B[39m pd\u001B[38;5;241m.\u001B[39mread_sql(query_election, conn)\n\u001B[1;32m     26\u001B[0m \u001B[38;5;66;03m# Requête SQL pour récupérer les données économiques\u001B[39;00m\n\u001B[1;32m     27\u001B[0m query_economie \u001B[38;5;241m=\u001B[39m \u001B[38;5;124m\"\"\"\u001B[39m\n\u001B[1;32m     28\u001B[0m \u001B[38;5;124m    SELECT *\u001B[39m\n\u001B[1;32m     29\u001B[0m \u001B[38;5;124m    FROM economie\u001B[39m\n\u001B[1;32m     30\u001B[0m \u001B[38;5;124m\"\"\"\u001B[39m\n",
      "File \u001B[0;32m~/anaconda3/lib/python3.11/site-packages/pandas/io/sql.py:706\u001B[0m, in \u001B[0;36mread_sql\u001B[0;34m(sql, con, index_col, coerce_float, params, parse_dates, columns, chunksize, dtype_backend, dtype)\u001B[0m\n\u001B[1;32m    704\u001B[0m \u001B[38;5;28;01mwith\u001B[39;00m pandasSQL_builder(con) \u001B[38;5;28;01mas\u001B[39;00m pandas_sql:\n\u001B[1;32m    705\u001B[0m     \u001B[38;5;28;01mif\u001B[39;00m \u001B[38;5;28misinstance\u001B[39m(pandas_sql, SQLiteDatabase):\n\u001B[0;32m--> 706\u001B[0m         \u001B[38;5;28;01mreturn\u001B[39;00m pandas_sql\u001B[38;5;241m.\u001B[39mread_query(\n\u001B[1;32m    707\u001B[0m             sql,\n\u001B[1;32m    708\u001B[0m             index_col\u001B[38;5;241m=\u001B[39mindex_col,\n\u001B[1;32m    709\u001B[0m             params\u001B[38;5;241m=\u001B[39mparams,\n\u001B[1;32m    710\u001B[0m             coerce_float\u001B[38;5;241m=\u001B[39mcoerce_float,\n\u001B[1;32m    711\u001B[0m             parse_dates\u001B[38;5;241m=\u001B[39mparse_dates,\n\u001B[1;32m    712\u001B[0m             chunksize\u001B[38;5;241m=\u001B[39mchunksize,\n\u001B[1;32m    713\u001B[0m             dtype_backend\u001B[38;5;241m=\u001B[39mdtype_backend,\n\u001B[1;32m    714\u001B[0m             dtype\u001B[38;5;241m=\u001B[39mdtype,\n\u001B[1;32m    715\u001B[0m         )\n\u001B[1;32m    717\u001B[0m     \u001B[38;5;28;01mtry\u001B[39;00m:\n\u001B[1;32m    718\u001B[0m         _is_table_name \u001B[38;5;241m=\u001B[39m pandas_sql\u001B[38;5;241m.\u001B[39mhas_table(sql)\n",
      "File \u001B[0;32m~/anaconda3/lib/python3.11/site-packages/pandas/io/sql.py:2736\u001B[0m, in \u001B[0;36mSQLiteDatabase.read_query\u001B[0;34m(self, sql, index_col, coerce_float, parse_dates, params, chunksize, dtype, dtype_backend)\u001B[0m\n\u001B[1;32m   2725\u001B[0m \u001B[38;5;28;01mdef\u001B[39;00m \u001B[38;5;21mread_query\u001B[39m(\n\u001B[1;32m   2726\u001B[0m     \u001B[38;5;28mself\u001B[39m,\n\u001B[1;32m   2727\u001B[0m     sql,\n\u001B[0;32m   (...)\u001B[0m\n\u001B[1;32m   2734\u001B[0m     dtype_backend: DtypeBackend \u001B[38;5;241m|\u001B[39m Literal[\u001B[38;5;124m\"\u001B[39m\u001B[38;5;124mnumpy\u001B[39m\u001B[38;5;124m\"\u001B[39m] \u001B[38;5;241m=\u001B[39m \u001B[38;5;124m\"\u001B[39m\u001B[38;5;124mnumpy\u001B[39m\u001B[38;5;124m\"\u001B[39m,\n\u001B[1;32m   2735\u001B[0m ) \u001B[38;5;241m-\u001B[39m\u001B[38;5;241m>\u001B[39m DataFrame \u001B[38;5;241m|\u001B[39m Iterator[DataFrame]:\n\u001B[0;32m-> 2736\u001B[0m     cursor \u001B[38;5;241m=\u001B[39m \u001B[38;5;28mself\u001B[39m\u001B[38;5;241m.\u001B[39mexecute(sql, params)\n\u001B[1;32m   2737\u001B[0m     columns \u001B[38;5;241m=\u001B[39m [col_desc[\u001B[38;5;241m0\u001B[39m] \u001B[38;5;28;01mfor\u001B[39;00m col_desc \u001B[38;5;129;01min\u001B[39;00m cursor\u001B[38;5;241m.\u001B[39mdescription]\n\u001B[1;32m   2739\u001B[0m     \u001B[38;5;28;01mif\u001B[39;00m chunksize \u001B[38;5;129;01mis\u001B[39;00m \u001B[38;5;129;01mnot\u001B[39;00m \u001B[38;5;28;01mNone\u001B[39;00m:\n",
      "File \u001B[0;32m~/anaconda3/lib/python3.11/site-packages/pandas/io/sql.py:2684\u001B[0m, in \u001B[0;36mSQLiteDatabase.execute\u001B[0;34m(self, sql, params)\u001B[0m\n\u001B[1;32m   2681\u001B[0m     \u001B[38;5;28;01mraise\u001B[39;00m ex \u001B[38;5;28;01mfrom\u001B[39;00m \u001B[38;5;21;01minner_exc\u001B[39;00m\n\u001B[1;32m   2683\u001B[0m ex \u001B[38;5;241m=\u001B[39m DatabaseError(\u001B[38;5;124mf\u001B[39m\u001B[38;5;124m\"\u001B[39m\u001B[38;5;124mExecution failed on sql \u001B[39m\u001B[38;5;124m'\u001B[39m\u001B[38;5;132;01m{\u001B[39;00msql\u001B[38;5;132;01m}\u001B[39;00m\u001B[38;5;124m'\u001B[39m\u001B[38;5;124m: \u001B[39m\u001B[38;5;132;01m{\u001B[39;00mexc\u001B[38;5;132;01m}\u001B[39;00m\u001B[38;5;124m\"\u001B[39m)\n\u001B[0;32m-> 2684\u001B[0m \u001B[38;5;28;01mraise\u001B[39;00m ex \u001B[38;5;28;01mfrom\u001B[39;00m \u001B[38;5;21;01mexc\u001B[39;00m\n",
      "\u001B[0;31mDatabaseError\u001B[0m: Execution failed on sql '\n    SELECT winner, code_postal\n    FROM election_2022_t1\n': column \"winner\" does not exist\nLINE 2:     SELECT winner, code_postal\n                   ^\n"
     ]
    }
   ],
   "source": [
    "from matplotlib import pyplot as plt\n",
    "import psycopg2\n",
    "import pandas as pd\n",
    "from sklearn.cluster import KMeans\n",
    "from sklearn.preprocessing import StandardScaler\n",
    "\n",
    "# Paramètres de connexion à la base de données PostgreSQL\n",
    "conn_params = {\n",
    "    \"host\": \"localhost\",\n",
    "    \"port\": \"15432\", \n",
    "    \"database\": \"postgres\",\n",
    "    \"user\": \"admin\",\n",
    "    \"password\": \"admin\"\n",
    "}\n",
    "\n",
    "# Connexion à la base de données\n",
    "conn = psycopg2.connect(**conn_params)\n",
    "\n",
    "# Requête SQL pour récupérer les données des élections\n",
    "query_election = \"\"\"\n",
    "    SELECT winner, code_postal\n",
    "    FROM election_2022_t1\n",
    "\"\"\"\n",
    "df_election = pd.read_sql(query_election, conn)\n",
    "\n",
    "# Requête SQL pour récupérer les données économiques\n",
    "query_economie = \"\"\"\n",
    "    SELECT *\n",
    "    FROM economie\n",
    "\"\"\"\n",
    "df_economie = pd.read_sql(query_economie, conn)\n",
    "\n",
    "# Fermeture de la connexion à la base de données\n",
    "conn.close()\n",
    "\n",
    "# Combinaison des données des élections et économiques en fonction du code postal\n",
    "df_combined = pd.merge(df_election, df_economie, on=\"code_postal\", how=\"inner\")\n",
    "\n",
    "# Sélection des colonnes à utiliser pour le clustering\n",
    "X = df_combined.drop(columns=[\"winner\", \"code_postal\"])\n",
    "\n",
    "# Standardisation des données\n",
    "scaler = StandardScaler()\n",
    "X_scaled = scaler.fit_transform(X)\n",
    "\n",
    "# Entraînement du modèle de clustering K-means\n",
    "kmeans = KMeans(n_clusters=5, random_state=42)\n",
    "kmeans.fit(X_scaled)\n",
    "\n",
    "# Ajout des clusters prédits au DataFrame combiné\n",
    "df_combined[\"cluster\"] = kmeans.labels_\n",
    "\n",
    "# Analyse des clusters\n",
    "cluster_summary = df_combined.groupby(\"cluster\")[\"winner\"].value_counts()\n",
    "\n",
    "# Affichage du résultat de l'analyse\n",
    "print(cluster_summary)\n",
    "\n",
    "# Visualisation des clusters en fonction des variables économiques (par exemple, \"avg_2022\" et \"Médiane du niveau de vie 2021\")\n",
    "plt.figure(figsize=(10, 6))\n",
    "for cluster in range(5):\n",
    "    cluster_data = df_combined[df_combined[\"cluster\"] == cluster]\n",
    "    plt.scatter(cluster_data[\"avg_2022\"], cluster_data[\"Médiane du niveau de vie 2021\"], label=f\"Cluster {cluster}\", alpha=0.7)\n",
    "\n",
    "plt.xlabel(\"Moyenne de l'année 2022\")\n",
    "plt.ylabel(\"Médiane du niveau de vie 2021\")\n",
    "plt.title(\"Clusters en fonction des variables économiques\")\n",
    "plt.legend()\n",
    "plt.grid(True)\n",
    "plt.show()"
   ]
  },
  {
   "cell_type": "code",
   "outputs": [],
   "source": [],
   "metadata": {
    "collapsed": false
   },
   "id": "8e9016baef17bb2b"
  }
 ],
 "metadata": {
  "kernelspec": {
   "display_name": "Python 3",
   "language": "python",
   "name": "python3"
  },
  "language_info": {
   "codemirror_mode": {
    "name": "ipython",
    "version": 2
   },
   "file_extension": ".py",
   "mimetype": "text/x-python",
   "name": "python",
   "nbconvert_exporter": "python",
   "pygments_lexer": "ipython2",
   "version": "2.7.6"
  }
 },
 "nbformat": 4,
 "nbformat_minor": 5
}
