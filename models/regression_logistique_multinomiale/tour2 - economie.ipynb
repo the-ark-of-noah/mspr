{
 "cells": [
  {
   "cell_type": "code",
   "execution_count": 1,
   "id": "initial_id",
   "metadata": {
    "collapsed": true,
    "ExecuteTime": {
     "end_time": "2024-03-30T09:12:26.439848Z",
     "start_time": "2024-03-30T09:12:22.195344Z"
    }
   },
   "outputs": [
    {
     "name": "stdout",
     "output_type": "stream",
     "text": [
      "Précision du modèle sur l'ensemble de test: 0.9001420136034083\n",
      "Prédiction du vote de La République En Marche dans le département 89: Perdu\n"
     ]
    }
   ],
   "source": [
    "from matplotlib import pyplot as plt\n",
    "import psycopg2\n",
    "import pandas as pd\n",
    "import numpy as np\n",
    "from sklearn.model_selection import train_test_split\n",
    "from sklearn.linear_model import LogisticRegression\n",
    "from sklearn.metrics import accuracy_score\n",
    "\n",
    "# Paramètres de connexion à la base de données PostgreSQL\n",
    "conn_params = {\n",
    "    \"host\": \"localhost\",\n",
    "    \"port\": \"15432\", \n",
    "    \"database\": \"postgres\",\n",
    "    \"user\": \"admin\",\n",
    "    \"password\": \"admin\"\n",
    "}\n",
    "\n",
    "# Connexion à la base de données\n",
    "conn = psycopg2.connect(**conn_params)\n",
    "\n",
    "# Création d'un curseur pour exécuter des requêtes SQL\n",
    "cur = conn.cursor()\n",
    "\n",
    "# Requête SQL pour sélectionner les données de la table économie\n",
    "query_economie = \"SELECT avg_1982, avg_1983, avg_1984, avg_1985, avg_1986, avg_1987, avg_1988, avg_1989, avg_1990, avg_1991, avg_1992, avg_1993, avg_1994, avg_1995, avg_1996, avg_1997, avg_1998, avg_1999, avg_2000, avg_2001, avg_2002, avg_2003, avg_2004, avg_2005, avg_2006, avg_2007, avg_2008, avg_2009, avg_2010, avg_2011, avg_2012, avg_2013, avg_2014, avg_2015, avg_2016, avg_2017, avg_2018, avg_2019, avg_2020, avg_2021, avg_2022, avg_2023, code_postal, id_economie FROM economie;\"\n",
    "cur.execute(query_economie)\n",
    "rows_economie = cur.fetchall()\n",
    "\n",
    "# Requête SQL pour sélectionner les données du premier tour (ou du second tour si nécessaire)\n",
    "query_election = \"SELECT code_postal, \\\"% Voix/Ins 1\\\", \\\"% Voix/Ins 2\\\" FROM election_2022_t2\"\n",
    "cur.execute(query_election)\n",
    "rows_election = cur.fetchall()\n",
    "\n",
    "# Fermeture du curseur et de la connexion à la base de données\n",
    "cur.close()\n",
    "conn.close()\n",
    "\n",
    "# Création des DataFrames à partir des résultats des requêtes\n",
    "df_economie = pd.DataFrame(rows_economie, columns=['avg_1982', 'avg_1983', 'avg_1984', 'avg_1985', 'avg_1986', 'avg_1987', 'avg_1988', 'avg_1989', 'avg_1990', 'avg_1991', 'avg_1992', 'avg_1993', 'avg_1994', 'avg_1995', 'avg_1996', 'avg_1997', 'avg_1998', 'avg_1999', 'avg_2000', 'avg_2001', 'avg_2002', 'avg_2003', 'avg_2004', 'avg_2005', 'avg_2006', 'avg_2007', 'avg_2008', 'avg_2009', 'avg_2010', 'avg_2011', 'avg_2012', 'avg_2013', 'avg_2014', 'avg_2015', 'avg_2016', 'avg_2017', 'avg_2018', 'avg_2019', 'avg_2020', 'avg_2021', 'avg_2022', 'avg_2023', 'code_postal', 'id_economie'])\n",
    "df_election = pd.DataFrame(rows_election, columns=['code_postal', '% Voix/Ins 1', '% Voix/Ins 2'])\n",
    "\n",
    "# Fusionner les données économiques avec les données de l'élection sur la colonne code_postal\n",
    "df_merged = pd.merge(df_economie, df_election, on='code_postal')\n",
    "\n",
    "# Sélectionner uniquement les données pour La République En Marche\n",
    "df_party = df_merged\n",
    "\n",
    "# Ajout d'une colonne 'Résultat' pour indiquer Gagné (1) ou Perdu (0)\n",
    "df_party['Résultat'] = df_party['% Voix/Ins 1'].apply(lambda x: 1 if x > 50 else 0)\n",
    "\n",
    "# Séparer les features (X) et la target (y)\n",
    "X = df_party.drop(['code_postal', 'id_economie', '% Voix/Ins 1', '% Voix/Ins 2', 'Résultat'], axis=1)\n",
    "y = df_party['Résultat']\n",
    "\n",
    "# Diviser les données en ensemble d'entraînement et ensemble de test\n",
    "X_train, X_test, y_train, y_test = train_test_split(X, y, test_size=0.2, random_state=42)\n",
    "\n",
    "# Entraîner le modèle de régression logistique multinomiale sur l'ensemble d'entraînement\n",
    "model = LogisticRegression(max_iter=1000)\n",
    "model.fit(X_train, y_train)\n",
    "\n",
    "# Prédire les résultats sur l'ensemble de test pour évaluer la performance du modèle\n",
    "y_pred = model.predict(X_test)\n",
    "accuracy = accuracy_score(y_test, y_pred)\n",
    "print(\"Précision du modèle sur l'ensemble de test:\", accuracy)\n",
    "    \n",
    "# Utiliser le modèle entraîné pour prédire le résultat de La République En Marche dans le département 89\n",
    "dept_89_economie = df_economie[df_economie['code_postal'] == 89].drop(['code_postal', 'id_economie'], axis=1)\n",
    "prediction_dept_89 = model.predict(dept_89_economie)\n",
    "if prediction_dept_89[0] == 1:\n",
    "    print(\"Prédiction du vote de La République En Marche dans le département 89: Gagné\")\n",
    "else:\n",
    "    print(\"Prédiction du vote de La République En Marche dans le département 89: Perdu\")\n"
   ]
  },
  {
   "cell_type": "code",
   "outputs": [],
   "source": [],
   "metadata": {
    "collapsed": false
   },
   "id": "e52a49289a74df71"
  }
 ],
 "metadata": {
  "kernelspec": {
   "display_name": "Python 3",
   "language": "python",
   "name": "python3"
  },
  "language_info": {
   "codemirror_mode": {
    "name": "ipython",
    "version": 2
   },
   "file_extension": ".py",
   "mimetype": "text/x-python",
   "name": "python",
   "nbconvert_exporter": "python",
   "pygments_lexer": "ipython2",
   "version": "2.7.6"
  }
 },
 "nbformat": 4,
 "nbformat_minor": 5
}
