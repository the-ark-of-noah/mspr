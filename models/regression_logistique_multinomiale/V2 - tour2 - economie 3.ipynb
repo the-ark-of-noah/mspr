{
 "cells": [
  {
   "cell_type": "code",
   "execution_count": 1,
   "id": "initial_id",
   "metadata": {
    "collapsed": true,
    "ExecuteTime": {
     "end_time": "2024-03-30T08:46:49.124991Z",
     "start_time": "2024-03-30T08:46:41.845460Z"
    }
   },
   "outputs": [
    {
     "name": "stderr",
     "output_type": "stream",
     "text": [
      "/var/folders/9z/lnzs0dyx0k1g2nvs92hf0syr0000gn/T/ipykernel_2966/4013575320.py:15: UserWarning: pandas only supports SQLAlchemy connectable (engine/connection) or database string URI or sqlite3 DBAPI2 connection. Other DBAPI2 objects are not tested. Please consider using SQLAlchemy.\n",
      "  df_election = pd.read_sql(query_election, conn)\n"
     ]
    },
    {
     "name": "stdout",
     "output_type": "stream",
     "text": [
      "Précision du modèle sur l'ensemble d'entraînement: 0.5706934114642025\n",
      "Précision du modèle sur les données de l'Yonne: 0.5981589958158996\n"
     ]
    }
   ],
   "source": [
    "import pandas as pd\n",
    "from sklearn.preprocessing import LabelEncoder\n",
    "from sklearn.linear_model import LogisticRegression\n",
    "from sklearn.metrics import accuracy_score\n",
    "from models.managers.db_manager import connect_to_bdd\n",
    "from src.data.utils.constants import id_to_party_dict\n",
    "\n",
    "conn = connect_to_bdd()\n",
    "\n",
    "# Requête pour election_2022_t1 et sauvegarde dans df_election\n",
    "query_election = \"\"\"\n",
    "    SELECT winner, code_postal, \"Libellé de la commune\"\n",
    "    FROM election_2022_t1\n",
    "\"\"\"\n",
    "df_election = pd.read_sql(query_election, conn)\n",
    "\n",
    "# Fermeture de la connexion\n",
    "conn.close()\n",
    "\n",
    "# Mapper les noms des partis politiques aux identifiants numériques\n",
    "party_to_id_dict = {v: k for k, v in id_to_party_dict.items()}\n",
    "df_election[\"winner\"] = df_election[\"winner\"].map(party_to_id_dict)\n",
    "\n",
    "# Convertir la colonne \"winner\" en float\n",
    "df_election[\"winner\"] = df_election[\"winner\"].astype(float)\n",
    "\n",
    "label_encoder = LabelEncoder()\n",
    "\n",
    "# Exclure les données du département de l'Yonne (89) du jeu d'entraînement\n",
    "df_train = df_election[df_election[\"code_postal\"] != 89]\n",
    "\n",
    "# Sélectionner uniquement les données du département de l'Yonne (89) pour les tests\n",
    "df_test_yonne = df_election[df_election[\"code_postal\"] == 89]\n",
    "\n",
    "# Ajout de 10 autres départements au département de l'Yonne (89) pour les tests\n",
    "other_departments = [90, 91, 92, 93, 94, 95, 1, 2, 3, 4, 5, 6, 7, 8, 9, 10, 11, 12, 13, 14, 15]\n",
    "for department in other_departments:\n",
    "    df_test_yonne = pd.concat([df_test_yonne, df_election[df_election[\"code_postal\"] == department]])\n",
    "\n",
    "# Exclure les données des départements ajoutés des données d'entraînement\n",
    "df_train = df_train[~df_train[\"code_postal\"].isin(other_departments)]\n",
    "\n",
    "# Séparation des features et de la target pour l'ensemble d'entraînement\n",
    "X_train = df_train.drop(columns=[\"Libellé de la commune\", \"winner\"])\n",
    "y_train = df_train[\"winner\"]\n",
    "\n",
    "# Séparation des features et de la target pour l'ensemble de test de l'Yonne\n",
    "X_test_yonne = df_test_yonne.drop(columns=[\"Libellé de la commune\", \"winner\"])\n",
    "y_test_yonne = df_test_yonne[\"winner\"]\n",
    "\n",
    "# Entraînement du modèle avec 30000 itérations\n",
    "model = LogisticRegression(max_iter=30000)\n",
    "model.fit(X_train, y_train)\n",
    "\n",
    "# Prédiction sur l'ensemble d'entraînement\n",
    "y_pred_train = model.predict(X_train)\n",
    "\n",
    "# Calcul de l'accuracy du modèle\n",
    "accuracy_train = accuracy_score(y_train, y_pred_train)\n",
    "print(\"Précision du modèle sur l'ensemble d'entraînement:\", accuracy_train)\n",
    "\n",
    "# Prédiction sur les données de test de l'Yonne\n",
    "y_pred_yonne = model.predict(X_test_yonne)\n",
    "\n",
    "# Calcul de l'accuracy du modèle sur les données de l'Yonne\n",
    "accuracy_yonne = accuracy_score(y_test_yonne, y_pred_yonne)\n",
    "print(\"Précision du modèle sur les données de l'Yonne:\", accuracy_yonne)"
   ]
  },
  {
   "cell_type": "code",
   "outputs": [],
   "source": [],
   "metadata": {
    "collapsed": false,
    "ExecuteTime": {
     "end_time": "2024-03-18T14:51:52.005337Z",
     "start_time": "2024-03-18T14:51:52.005297Z"
    }
   },
   "id": "e52a49289a74df71"
  }
 ],
 "metadata": {
  "kernelspec": {
   "display_name": "Python 3",
   "language": "python",
   "name": "python3"
  },
  "language_info": {
   "codemirror_mode": {
    "name": "ipython",
    "version": 2
   },
   "file_extension": ".py",
   "mimetype": "text/x-python",
   "name": "python",
   "nbconvert_exporter": "python",
   "pygments_lexer": "ipython2",
   "version": "2.7.6"
  }
 },
 "nbformat": 4,
 "nbformat_minor": 5
}
