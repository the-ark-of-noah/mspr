{
 "cells": [
  {
   "cell_type": "code",
   "execution_count": 3,
   "id": "initial_id",
   "metadata": {
    "collapsed": true,
    "ExecuteTime": {
     "end_time": "2024-03-30T09:53:02.367082Z",
     "start_time": "2024-03-30T09:52:52.827738Z"
    }
   },
   "outputs": [
    {
     "name": "stderr",
     "output_type": "stream",
     "text": [
      "/var/folders/9z/lnzs0dyx0k1g2nvs92hf0syr0000gn/T/ipykernel_3168/2275153318.py:15: UserWarning: pandas only supports SQLAlchemy connectable (engine/connection) or database string URI or sqlite3 DBAPI2 connection. Other DBAPI2 objects are not tested. Please consider using SQLAlchemy.\n",
      "  df_election = pd.read_sql(query_election, conn)\n",
      "/var/folders/9z/lnzs0dyx0k1g2nvs92hf0syr0000gn/T/ipykernel_3168/2275153318.py:27: UserWarning: pandas only supports SQLAlchemy connectable (engine/connection) or database string URI or sqlite3 DBAPI2 connection. Other DBAPI2 objects are not tested. Please consider using SQLAlchemy.\n",
      "  df_economie = pd.read_sql(query_economie, conn)\n",
      "/var/folders/9z/lnzs0dyx0k1g2nvs92hf0syr0000gn/T/ipykernel_3168/2275153318.py:34: UserWarning: pandas only supports SQLAlchemy connectable (engine/connection) or database string URI or sqlite3 DBAPI2 connection. Other DBAPI2 objects are not tested. Please consider using SQLAlchemy.\n",
      "  df_securite = pd.read_sql(query_securite, conn)\n",
      "/var/folders/9z/lnzs0dyx0k1g2nvs92hf0syr0000gn/T/ipykernel_3168/2275153318.py:41: UserWarning: pandas only supports SQLAlchemy connectable (engine/connection) or database string URI or sqlite3 DBAPI2 connection. Other DBAPI2 objects are not tested. Please consider using SQLAlchemy.\n",
      "  df_densite = pd.read_sql(query_densite, conn)\n"
     ]
    },
    {
     "name": "stdout",
     "output_type": "stream",
     "text": [
      "Précision du modèle sur l'ensemble d'entraînement: 0.6506358997791486\n",
      "Précision du modèle sur les données de l'Yonne: 0.6197489539748954\n"
     ]
    },
    {
     "name": "stderr",
     "output_type": "stream",
     "text": [
      "/Users/erwanbuisson/Library/Mobile Documents/com~apple~CloudDocs/Documents/Interpreteur Python/lib/python3.12/site-packages/sklearn/linear_model/_logistic.py:469: ConvergenceWarning: lbfgs failed to converge (status=1):\n",
      "STOP: TOTAL NO. of ITERATIONS REACHED LIMIT.\n",
      "\n",
      "Increase the number of iterations (max_iter) or scale the data as shown in:\n",
      "    https://scikit-learn.org/stable/modules/preprocessing.html\n",
      "Please also refer to the documentation for alternative solver options:\n",
      "    https://scikit-learn.org/stable/modules/linear_model.html#logistic-regression\n",
      "  n_iter_i = _check_optimize_result(\n"
     ]
    }
   ],
   "source": [
    "import pandas as pd\n",
    "from sklearn.preprocessing import LabelEncoder\n",
    "from sklearn.linear_model import LogisticRegression\n",
    "from sklearn.metrics import accuracy_score\n",
    "from models.managers.db_manager import connect_to_bdd\n",
    "from src.data.utils.constants import id_to_party_dict\n",
    "\n",
    "conn = connect_to_bdd()\n",
    "\n",
    "# Requête pour election_2022_t1 et sauvegarde dans df_election\n",
    "query_election = \"\"\"\n",
    "    SELECT winner, code_postal, \"Libellé de la commune\"\n",
    "    FROM election_2022_t1\n",
    "\"\"\"\n",
    "df_election = pd.read_sql(query_election, conn)\n",
    "\n",
    "# Requête pour economie et sauvegarde dans df_economie\n",
    "query_economie = \"\"\"\n",
    "    SELECT avg_1982, avg_1983, avg_1984, avg_1985, avg_1986, avg_1987, avg_1988, avg_1989,\n",
    "           avg_1990, avg_1991, avg_1992, avg_1993, avg_1994, avg_1995, avg_1996, avg_1997,\n",
    "           avg_1998, avg_1999, avg_2000, avg_2001, avg_2002, avg_2003, avg_2004, avg_2005,\n",
    "           avg_2006, avg_2007, avg_2008, avg_2009, avg_2010, avg_2011, avg_2012, avg_2013,\n",
    "           avg_2014, avg_2015, avg_2016, avg_2017, avg_2018, avg_2019, avg_2020, avg_2021,\n",
    "           avg_2022, avg_2023, code_postal\n",
    "    FROM economie\n",
    "\"\"\"\n",
    "df_economie = pd.read_sql(query_economie, conn)\n",
    "\n",
    "# Requête pour securite et sauvegarde dans df_securite\n",
    "query_securite = \"\"\"\n",
    "    SELECT code_postal, tauxpourcent\n",
    "    FROM securite\n",
    "\"\"\"\n",
    "df_securite = pd.read_sql(query_securite, conn)\n",
    "\n",
    "# Requête pour densite et sauvegarde dans df_densite\n",
    "query_densite = \"\"\"\n",
    "    SELECT code_postal, dens_pop\n",
    "    FROM demographie\n",
    "\"\"\"\n",
    "df_densite = pd.read_sql(query_densite, conn)\n",
    "\n",
    "# Fermeture de la connexion\n",
    "conn.close()\n",
    "\n",
    "# Calculer la moyenne de densité de population pour chaque département\n",
    "df_densite = df_densite.groupby('code_postal')['dens_pop'].mean().reset_index()\n",
    "\n",
    "# Calculer la moyenne du taux de pourcentage de sécurité pour chaque département\n",
    "df_securite = df_securite.groupby('code_postal')['tauxpourcent'].mean().reset_index()\n",
    "\n",
    "# Mapper les noms des partis politiques aux identifiants numériques\n",
    "party_to_id_dict = {v: k for k, v in id_to_party_dict.items()}\n",
    "df_election[\"winner\"] = df_election[\"winner\"].map(party_to_id_dict)\n",
    "\n",
    "# Convertir la colonne \"winner\" en float\n",
    "df_election[\"winner\"] = df_election[\"winner\"].astype(float)\n",
    "\n",
    "label_encoder = LabelEncoder()\n",
    "\n",
    "# Merge df_election et df_economie sur la colonne code_postal\n",
    "df_merged = pd.merge(df_election, df_economie, on=\"code_postal\", how=\"left\")\n",
    "\n",
    "# Merge df_merged et df_securite sur la colonne code_postal\n",
    "df_merged = pd.merge(df_merged, df_securite, on=\"code_postal\", how=\"left\")\n",
    "\n",
    "# Merge df_merged et df_densite sur la colonne code_postal\n",
    "df_merged = pd.merge(df_merged, df_densite, on=\"code_postal\", how=\"left\")\n",
    "\n",
    "# Supprimer les lignes contenant des valeurs NaN de df_merged\n",
    "df_merged.dropna(inplace=True)\n",
    "\n",
    "# Exclure les données du département de l'Yonne (89) du jeu d'entraînement\n",
    "df_train = df_merged[df_merged[\"code_postal\"] != 89]\n",
    "\n",
    "# Sélectionner uniquement les données du département de l'Yonne (89) pour les tests\n",
    "df_test_yonne = df_merged[df_merged[\"code_postal\"] == 89]\n",
    "\n",
    "# Ajouter 10 autres départements au département de l'Yonne (89) pour les tests\n",
    "other_departments = [90, 91, 92, 93, 94, 95, 1, 2, 3, 4, 5, 6, 7, 8, 9, 10, 11, 12, 13, 14, 15]\n",
    "for department in other_departments:\n",
    "    df_test_yonne = pd.concat([df_test_yonne, df_merged[df_merged[\"code_postal\"] == department]])\n",
    "\n",
    "# Exclure les données des départements ajoutés des données d'entraînement\n",
    "df_train = df_train[~df_train[\"code_postal\"].isin(other_departments)]\n",
    "\n",
    "# Séparation des features et de la target pour l'ensemble d'entraînement\n",
    "X_train = df_train.drop(columns=[\"Libellé de la commune\", \"winner\"])\n",
    "y_train = df_train[\"winner\"]\n",
    "\n",
    "# Séparation des features et de la target pour l'ensemble de test de l'Yonne\n",
    "X_test_yonne = df_test_yonne.drop(columns=[\"Libellé de la commune\", \"winner\"])\n",
    "y_test_yonne = df_test_yonne[\"winner\"]\n",
    "\n",
    "# Entraînement du modèle avec 1000 itérations\n",
    "model = LogisticRegression(max_iter=1000)\n",
    "model.fit(X_train, y_train)\n",
    "\n",
    "# Prédiction sur l'ensemble d'entraînement\n",
    "y_pred_train = model.predict(X_train)\n",
    "\n",
    "# Calcul de l'accuracy du modèle\n",
    "accuracy_train = accuracy_score(y_train, y_pred_train)\n",
    "print(\"Précision du modèle sur l'ensemble d'entraînement:\", accuracy_train)\n",
    "\n",
    "# Prédiction sur les données de test de l'Yonne\n",
    "y_pred_yonne = model.predict(X_test_yonne)\n",
    "\n",
    "# Calcul de l'accuracy du modèle sur les données de l'Yonne\n",
    "accuracy_yonne = accuracy_score(y_test_yonne, y_pred_yonne)\n",
    "print(\"Précision du modèle sur les données de l'Yonne:\", accuracy_yonne)"
   ]
  },
  {
   "cell_type": "code",
   "outputs": [],
   "source": [],
   "metadata": {
    "collapsed": false,
    "ExecuteTime": {
     "end_time": "2024-03-18T14:51:52.005337Z",
     "start_time": "2024-03-18T14:51:52.005297Z"
    }
   },
   "id": "e52a49289a74df71"
  }
 ],
 "metadata": {
  "kernelspec": {
   "display_name": "Python 3",
   "language": "python",
   "name": "python3"
  },
  "language_info": {
   "codemirror_mode": {
    "name": "ipython",
    "version": 2
   },
   "file_extension": ".py",
   "mimetype": "text/x-python",
   "name": "python",
   "nbconvert_exporter": "python",
   "pygments_lexer": "ipython2",
   "version": "2.7.6"
  }
 },
 "nbformat": 4,
 "nbformat_minor": 5
}
