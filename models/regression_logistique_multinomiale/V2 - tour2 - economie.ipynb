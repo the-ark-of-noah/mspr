{
 "cells": [
  {
   "cell_type": "code",
   "execution_count": 6,
   "id": "initial_id",
   "metadata": {
    "collapsed": true,
    "ExecuteTime": {
     "end_time": "2024-03-30T08:41:30.867185Z",
     "start_time": "2024-03-30T08:41:16.338512Z"
    }
   },
   "outputs": [
    {
     "name": "stderr",
     "output_type": "stream",
     "text": [
      "/var/folders/9z/lnzs0dyx0k1g2nvs92hf0syr0000gn/T/ipykernel_2445/1320304311.py:17: UserWarning: pandas only supports SQLAlchemy connectable (engine/connection) or database string URI or sqlite3 DBAPI2 connection. Other DBAPI2 objects are not tested. Please consider using SQLAlchemy.\n",
      "  df_election = pd.read_sql(query_election, conn)\n",
      "/var/folders/9z/lnzs0dyx0k1g2nvs92hf0syr0000gn/T/ipykernel_2445/1320304311.py:24: UserWarning: pandas only supports SQLAlchemy connectable (engine/connection) or database string URI or sqlite3 DBAPI2 connection. Other DBAPI2 objects are not tested. Please consider using SQLAlchemy.\n",
      "  df_economy = pd.read_sql(query_economy, conn)\n"
     ]
    },
    {
     "name": "stdout",
     "output_type": "stream",
     "text": [
      "Précision du modèle sur l'ensemble de test: 0.5742331288343558\n",
      "Précision du modèle sur les données de l'Yonne: 0.835820895522388\n"
     ]
    },
    {
     "name": "stderr",
     "output_type": "stream",
     "text": [
      "/Users/erwanbuisson/Library/Mobile Documents/com~apple~CloudDocs/Documents/Interpreteur Python/lib/python3.12/site-packages/sklearn/linear_model/_logistic.py:469: ConvergenceWarning: lbfgs failed to converge (status=1):\n",
      "STOP: TOTAL NO. of ITERATIONS REACHED LIMIT.\n",
      "\n",
      "Increase the number of iterations (max_iter) or scale the data as shown in:\n",
      "    https://scikit-learn.org/stable/modules/preprocessing.html\n",
      "Please also refer to the documentation for alternative solver options:\n",
      "    https://scikit-learn.org/stable/modules/linear_model.html#logistic-regression\n",
      "  n_iter_i = _check_optimize_result(\n"
     ]
    }
   ],
   "source": [
    "import pandas as pd\n",
    "from sklearn.model_selection import train_test_split\n",
    "from sklearn.preprocessing import LabelEncoder\n",
    "from sklearn.linear_model import LogisticRegression\n",
    "from sklearn.metrics import accuracy_score\n",
    "from models.managers.db_manager import connect_to_bdd\n",
    "from src.data.utils.constants import id_to_party_dict\n",
    "\n",
    "conn = connect_to_bdd()\n",
    "\n",
    "# Requête pour election_2022_t1 et sauvegarde dans df_election\n",
    "query_election = \"\"\"\n",
    "    SELECT winner, code_postal, \"Libellé de la commune\"\n",
    "    FROM election_2022_t1\n",
    "\"\"\"\n",
    "df_election = pd.read_sql(query_election, conn)\n",
    "\n",
    "# Requête pour economie et sauvegarde dans df_economy\n",
    "query_economy = \"\"\"\n",
    "    SELECT *\n",
    "    FROM economie\n",
    "\"\"\"\n",
    "df_economy = pd.read_sql(query_economy, conn)\n",
    "\n",
    "# Fermeture de la connexion\n",
    "conn.close()\n",
    "\n",
    "# Mapper les noms des partis politiques aux identifiants numériques\n",
    "party_to_id_dict = {v: k for k, v in id_to_party_dict.items()}\n",
    "df_election[\"winner\"] = df_election[\"winner\"].map(party_to_id_dict)\n",
    "\n",
    "# Convertir la colonne \"winner\" en float\n",
    "df_election[\"winner\"] = df_election[\"winner\"].astype(float)\n",
    "\n",
    "# Fusionner les données électorales avec les données économiques\n",
    "df_combined = pd.merge(df_election, df_economy, on=\"code_postal\")\n",
    "\n",
    "# Encodage des variables catégorielles\n",
    "label_encoder = LabelEncoder()\n",
    "\n",
    "# Séparation des features et de la target\n",
    "X = df_combined.drop(columns=[\"Libellé de la commune\", \"winner\"])\n",
    "y = df_combined[\"winner\"]\n",
    "\n",
    "X_train, X_test, y_train, y_test = train_test_split(X, y, test_size=0.2, random_state=42)\n",
    "\n",
    "# Entraînement du modèle avec 1000 itérations\n",
    "model = LogisticRegression(max_iter=1000)\n",
    "model.fit(X_train, y_train)\n",
    "\n",
    "# Prédiction sur l'ensemble de test\n",
    "y_pred = model.predict(X_test)\n",
    "\n",
    "# Calcul de l'accuracy du modèle\n",
    "accuracy = accuracy_score(y_test, y_pred)\n",
    "print(\"Précision du modèle sur l'ensemble de test:\", accuracy)\n",
    "\n",
    "# Filtre sur les données de test pour conserver uniquement les données de l'Yonne\n",
    "X_test_yonne = X_test[X_test[\"code_postal\"] == 89]\n",
    "y_test_yonne = y_test[X_test[\"code_postal\"] == 89]\n",
    "\n",
    "# Prédiction sur les données de test pour l'Yonne\n",
    "y_pred_yonne = model.predict(X_test_yonne)\n",
    "\n",
    "# Calcul de l'accuracy du modèle sur les données de l'Yonne\n",
    "accuracy_yonne = accuracy_score(y_test_yonne, y_pred_yonne)\n",
    "print(\"Précision du modèle sur les données de l'Yonne:\", accuracy_yonne)"
   ]
  },
  {
   "cell_type": "code",
   "outputs": [],
   "source": [],
   "metadata": {
    "collapsed": false
   },
   "id": "e52a49289a74df71"
  }
 ],
 "metadata": {
  "kernelspec": {
   "display_name": "Python 3",
   "language": "python",
   "name": "python3"
  },
  "language_info": {
   "codemirror_mode": {
    "name": "ipython",
    "version": 2
   },
   "file_extension": ".py",
   "mimetype": "text/x-python",
   "name": "python",
   "nbconvert_exporter": "python",
   "pygments_lexer": "ipython2",
   "version": "2.7.6"
  }
 },
 "nbformat": 4,
 "nbformat_minor": 5
}
