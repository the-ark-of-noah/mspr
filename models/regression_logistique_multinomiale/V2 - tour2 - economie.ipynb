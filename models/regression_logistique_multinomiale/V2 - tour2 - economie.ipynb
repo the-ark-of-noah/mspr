{
 "cells": [
  {
   "cell_type": "code",
   "execution_count": 46,
   "id": "initial_id",
   "metadata": {
    "collapsed": true,
    "ExecuteTime": {
     "end_time": "2024-03-18T15:01:28.000027Z",
     "start_time": "2024-03-18T15:00:57.878993Z"
    }
   },
   "outputs": [
    {
     "name": "stderr",
     "output_type": "stream",
     "text": [
      "/var/folders/9z/lnzs0dyx0k1g2nvs92hf0syr0000gn/T/ipykernel_8412/3258273224.py:41: UserWarning: pandas only supports SQLAlchemy connectable (engine/connection) or database string URI or sqlite3 DBAPI2 connection. Other DBAPI2 objects are not tested. Please consider using SQLAlchemy.\n",
      "  df_election = pd.read_sql(query_election, conn)\n",
      "/var/folders/9z/lnzs0dyx0k1g2nvs92hf0syr0000gn/T/ipykernel_8412/3258273224.py:48: UserWarning: pandas only supports SQLAlchemy connectable (engine/connection) or database string URI or sqlite3 DBAPI2 connection. Other DBAPI2 objects are not tested. Please consider using SQLAlchemy.\n",
      "  df_economy = pd.read_sql(query_economy, conn)\n",
      "/var/folders/9z/lnzs0dyx0k1g2nvs92hf0syr0000gn/T/ipykernel_8412/3258273224.py:58: FutureWarning: A value is trying to be set on a copy of a DataFrame or Series through chained assignment using an inplace method.\n",
      "The behavior will change in pandas 3.0. This inplace method will never work because the intermediate object on which we are setting values always behaves as a copy.\n",
      "\n",
      "For example, when doing 'df[col].method(value, inplace=True)', try using 'df.method({col: value}, inplace=True)' or df[col] = df[col].method(value) instead, to perform the operation inplace on the original object.\n",
      "\n",
      "\n",
      "  df_election[\"winner\"].fillna(-1, inplace=True)\n"
     ]
    },
    {
     "name": "stdout",
     "output_type": "stream",
     "text": [
      "Précision du modèle sur l'ensemble de test: 0.5742331288343558\n",
      "Précision du modèle sur les données de l'Yonne: 0.835820895522388\n",
      "Prédictions du modèle sur les données de l'Yonne:\n",
      "[5. 5. 5. 5. 5. 5. 5. 5. 5. 5. 5. 5. 5. 5. 5. 5. 5. 5. 5. 5. 5. 5. 5. 5.\n",
      " 5. 5. 5. 5. 5. 5. 5. 5. 5. 5. 5. 5. 5. 5. 5. 5. 5. 5. 5. 5. 5. 5. 5. 5.\n",
      " 5. 5. 5. 5. 5. 5. 5. 5. 5. 5. 5. 5. 5. 5. 5. 5. 5. 5. 5.]\n"
     ]
    },
    {
     "name": "stderr",
     "output_type": "stream",
     "text": [
      "/Users/erwanbuisson/Documents/GitHub/mspr/venv/lib/python3.12/site-packages/sklearn/linear_model/_logistic.py:469: ConvergenceWarning: lbfgs failed to converge (status=1):\n",
      "STOP: TOTAL NO. of ITERATIONS REACHED LIMIT.\n",
      "\n",
      "Increase the number of iterations (max_iter) or scale the data as shown in:\n",
      "    https://scikit-learn.org/stable/modules/preprocessing.html\n",
      "Please also refer to the documentation for alternative solver options:\n",
      "    https://scikit-learn.org/stable/modules/linear_model.html#logistic-regression\n",
      "  n_iter_i = _check_optimize_result(\n"
     ]
    }
   ],
   "source": [
    "import psycopg2\n",
    "import pandas as pd\n",
    "from sklearn.model_selection import train_test_split\n",
    "from sklearn.preprocessing import LabelEncoder\n",
    "from sklearn.linear_model import LogisticRegression\n",
    "from sklearn.metrics import accuracy_score\n",
    "\n",
    "# Dictionnaire de correspondance entre les noms des partis politiques et leurs identifiants numériques\n",
    "id_to_party_dict = {\n",
    "    1: \"Lutte Ouvrière\",\n",
    "    2: \"Parti Communiste Français\",\n",
    "    3: \"La République En Marche\",\n",
    "    4: \"Résistons\",\n",
    "    5: \"Rassemblement National\",\n",
    "    6: \"Reconquête\",\n",
    "    7: \"La France Insoumise\",\n",
    "    8: \"Parti Socialiste\",\n",
    "    9: \"Europe Écologie Les Verts\",\n",
    "    10: \"Les Républicains\",\n",
    "    11: \"Nouveau Parti Anticapitaliste\",\n",
    "    12: \"Debout La France\"\n",
    "}\n",
    "\n",
    "# Paramètres de connexion à la base de données PostgreSQL\n",
    "conn_params = {\n",
    "    \"host\": \"localhost\",\n",
    "    \"port\": \"15432\", \n",
    "    \"database\": \"postgres\",\n",
    "    \"user\": \"admin\",\n",
    "    \"password\": \"admin\"\n",
    "}\n",
    "\n",
    "# Connexion à la base de données\n",
    "conn = psycopg2.connect(**conn_params)\n",
    "\n",
    "# Requête SQL pour sélectionner les données de la table election_2022_t1\n",
    "query_election = \"\"\"\n",
    "    SELECT winner, code_postal, \"Libellé de la commune\"\n",
    "    FROM election_2022_t1\n",
    "\"\"\"\n",
    "df_election = pd.read_sql(query_election, conn)\n",
    "\n",
    "# Requête SQL pour sélectionner les données de la table économique\n",
    "query_economy = \"\"\"\n",
    "    SELECT *\n",
    "    FROM economie\n",
    "\"\"\"\n",
    "df_economy = pd.read_sql(query_economy, conn)\n",
    "\n",
    "# Fermeture de la connexion\n",
    "conn.close()\n",
    "\n",
    "# Mapper les noms des partis politiques aux identifiants numériques\n",
    "party_to_id_dict = {v: k for k, v in id_to_party_dict.items()}\n",
    "df_election[\"winner\"] = df_election[\"winner\"].map(party_to_id_dict)\n",
    "\n",
    "# Remplacer les valeurs manquantes dans la colonne \"winner\" par une valeur arbitraire\n",
    "df_election[\"winner\"].fillna(-1, inplace=True)\n",
    "\n",
    "# Convertir la colonne \"winner\" en float\n",
    "df_election[\"winner\"] = df_election[\"winner\"].astype(float)\n",
    "\n",
    "# Fusionner les données électorales avec les données économiques\n",
    "df_combined = pd.merge(df_election, df_economy, on=\"code_postal\")\n",
    "\n",
    "# Encodage des variables catégorielles\n",
    "label_encoder = LabelEncoder()\n",
    "\n",
    "# Séparation des features et de la target\n",
    "X = df_combined.drop(columns=[\"Libellé de la commune\", \"winner\"])\n",
    "y = df_combined[\"winner\"]\n",
    "\n",
    "# Division des données en ensemble d'entraînement et ensemble de test\n",
    "X_train, X_test, y_train, y_test = train_test_split(X, y, test_size=0.2, random_state=42)\n",
    "\n",
    "# Entraînement du modèle de régression logistique multinomiale\n",
    "model = LogisticRegression(max_iter=1000)\n",
    "model.fit(X_train, y_train)\n",
    "\n",
    "# Prédiction sur l'ensemble de test\n",
    "y_pred = model.predict(X_test)\n",
    "\n",
    "# Évaluation de la précision du modèle\n",
    "accuracy = accuracy_score(y_test, y_pred)\n",
    "print(\"Précision du modèle sur l'ensemble de test:\", accuracy)\n",
    "\n",
    "# Utilisation du modèle pour prédire le parti gagnant dans la colonne \"winner\" pour le département de l'Yonne\n",
    "# Vous devez remplacer les valeurs de X_yonne avec les données spécifiques de l'Yonne\n",
    "# Filtrer les données de test pour ne conserver que celles du département 89\n",
    "X_test_yonne = X_test[X_test[\"code_postal\"] == 89]\n",
    "y_test_yonne = y_test[X_test[\"code_postal\"] == 89]\n",
    "\n",
    "# Prédiction sur les données de test de l'Yonne\n",
    "y_pred_yonne = model.predict(X_test_yonne)\n",
    "\n",
    "# Évaluation de la précision du modèle sur les données de l'Yonne\n",
    "accuracy_yonne = accuracy_score(y_test_yonne, y_pred_yonne)\n",
    "print(\"Précision du modèle sur les données de l'Yonne:\", accuracy_yonne)\n",
    "\n",
    "# Afficher les prédictions du modèle sur les données de l'Yonne\n",
    "print(\"Prédictions du modèle sur les données de l'Yonne:\")\n",
    "print(y_pred_yonne)\n"
   ]
  },
  {
   "cell_type": "code",
   "outputs": [],
   "source": [],
   "metadata": {
    "collapsed": false
   },
   "id": "e52a49289a74df71"
  }
 ],
 "metadata": {
  "kernelspec": {
   "display_name": "Python 3",
   "language": "python",
   "name": "python3"
  },
  "language_info": {
   "codemirror_mode": {
    "name": "ipython",
    "version": 2
   },
   "file_extension": ".py",
   "mimetype": "text/x-python",
   "name": "python",
   "nbconvert_exporter": "python",
   "pygments_lexer": "ipython2",
   "version": "2.7.6"
  }
 },
 "nbformat": 4,
 "nbformat_minor": 5
}
