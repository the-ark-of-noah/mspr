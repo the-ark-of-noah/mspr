{
 "cells": [
  {
   "cell_type": "code",
   "execution_count": null,
   "id": "initial_id",
   "metadata": {
    "collapsed": true
   },
   "outputs": [],
   "source": "# Quelle est l'influence combinée des facteurs démographiques, économiques, de sécurité et sociaux sur les résultats des élections présidentielles de 2022 en France, par code postal?"
  },
  {
   "metadata": {},
   "cell_type": "code",
   "outputs": [],
   "execution_count": null,
   "source": [
    "# Feature Engineering\n",
    "\n",
    "# Ajout d'une tranche d'age dans la démographie\n",
    "# Faire le ratio entre le niveau de vie et le niveau de chomage\n",
    "# Ajouter le taux de criminalité"
   ],
   "id": "977dbff1c3ec5090"
  },
  {
   "metadata": {},
   "cell_type": "code",
   "outputs": [],
   "execution_count": null,
   "source": "# Ajout d'une tranche d'age dans la démographie",
   "id": "c950326e6b0933d0"
  },
  {
   "metadata": {
    "ExecuteTime": {
     "end_time": "2024-04-17T08:14:31.010820Z",
     "start_time": "2024-04-17T08:14:27.888754Z"
    }
   },
   "cell_type": "code",
   "source": [
    "from models.managers.db_manager import connect_to_bdd\n",
    "import xgboost as xgb\n",
    "from sklearn.model_selection import train_test_split\n",
    "from sklearn.metrics import accuracy_score, confusion_matrix, classification_report\n",
    "import pandas as pd\n",
    "from sklearn.model_selection import GridSearchCV\n",
    "\n",
    "\n",
    "# Création des requêtes SQL et des dataframes\n",
    "conn = connect_to_bdd()\n",
    "\n",
    "query_demo = \"SELECT * FROM demographie\"\n",
    "df_demo = pd.read_sql(query_demo, conn)\n",
    "\n",
    "query_economie = \"SELECT * FROM economie\"\n",
    "df_economie = pd.read_sql(query_economie, conn)\n",
    "\n",
    "query_securite = \"SELECT * FROM securite\"\n",
    "df_securite = pd.read_sql(query_securite, conn)\n",
    "\n",
    "query_social = \"SELECT * FROM social\"\n",
    "df_social = pd.read_sql(query_social, conn)\n",
    "\n",
    "query_election_t1 = \"SELECT * FROM election_2022_t1\"\n",
    "df_election_t1 = pd.read_sql(query_election_t1, conn)\n",
    "\n",
    "# Fermer la connexion\n",
    "conn.close()\n",
    "\n",
    "# Fusionner les dataframes sur 'code_postal'\n",
    "df_merged = df_demo.merge(df_economie, on='code_postal', how='inner')\n",
    "df_merged = df_merged.merge(df_securite, on='code_postal', how='inner')\n",
    "df_merged = df_merged.merge(df_social, on='code_postal', how='inner')\n"
   ],
   "id": "db19ce01f9f181af",
   "outputs": [
    {
     "name": "stderr",
     "output_type": "stream",
     "text": [
      "/var/folders/00/t_t93b0n0wx8m9fcms_xg6640000gn/T/ipykernel_75632/1931027635.py:7: UserWarning: pandas only supports SQLAlchemy connectable (engine/connection) or database string URI or sqlite3 DBAPI2 connection. Other DBAPI2 objects are not tested. Please consider using SQLAlchemy.\n",
      "  df_demo = pd.read_sql(query_demo, conn)\n",
      "/var/folders/00/t_t93b0n0wx8m9fcms_xg6640000gn/T/ipykernel_75632/1931027635.py:10: UserWarning: pandas only supports SQLAlchemy connectable (engine/connection) or database string URI or sqlite3 DBAPI2 connection. Other DBAPI2 objects are not tested. Please consider using SQLAlchemy.\n",
      "  df_economie = pd.read_sql(query_economie, conn)\n",
      "/var/folders/00/t_t93b0n0wx8m9fcms_xg6640000gn/T/ipykernel_75632/1931027635.py:13: UserWarning: pandas only supports SQLAlchemy connectable (engine/connection) or database string URI or sqlite3 DBAPI2 connection. Other DBAPI2 objects are not tested. Please consider using SQLAlchemy.\n",
      "  df_securite = pd.read_sql(query_securite, conn)\n",
      "/var/folders/00/t_t93b0n0wx8m9fcms_xg6640000gn/T/ipykernel_75632/1931027635.py:16: UserWarning: pandas only supports SQLAlchemy connectable (engine/connection) or database string URI or sqlite3 DBAPI2 connection. Other DBAPI2 objects are not tested. Please consider using SQLAlchemy.\n",
      "  df_social = pd.read_sql(query_social, conn)\n",
      "/var/folders/00/t_t93b0n0wx8m9fcms_xg6640000gn/T/ipykernel_75632/1931027635.py:19: UserWarning: pandas only supports SQLAlchemy connectable (engine/connection) or database string URI or sqlite3 DBAPI2 connection. Other DBAPI2 objects are not tested. Please consider using SQLAlchemy.\n",
      "  df_election_t1 = pd.read_sql(query_election_t1, conn)\n"
     ]
    }
   ],
   "execution_count": 2
  },
  {
   "metadata": {},
   "cell_type": "code",
   "outputs": [],
   "execution_count": null,
   "source": [
    "# Ajout d'une tranche d'age dans la démographie (pas sur que sa fonctionne)\n",
    "df_merged['jeunes_adultes'] = df_merged['0-24_2023'] + df_merged['25-59_2023']\n",
    "df_merged['seniors'] = df_merged['60-74_2023'] + df_merged['75+_2023']"
   ],
   "id": "afe4f49a5ce51645"
  },
  {
   "metadata": {},
   "cell_type": "code",
   "outputs": [],
   "execution_count": null,
   "source": [
    "# Calculer le ratio entre le niveau de vie médian et le taux de chômage (simplification hypothétique)\n",
    "df_merged['ratio_vie_chomage'] = df_merged['Médiane du niveau de vie 2021'] / df_merged['avg_2022']\n",
    "\n",
    "# Ajouter le taux de criminalité (supposons que 'tauxpourcent' représente cela)\n",
    "df_merged['taux_criminalite'] = df_merged['tauxpourcent']\n",
    "\n",
    "# Afficher les premières lignes du dataframe\n",
    "print(df_merged.head())"
   ],
   "id": "62298323a1ce4390"
  },
  {
   "metadata": {},
   "cell_type": "code",
   "outputs": [],
   "execution_count": null,
   "source": [
    "# Préparation des données\n",
    "\n",
    "X = df_merged.drop(['parti_gagnant', 'code_postal'], axis=1)  # Supprimez 'code_postal' s'il ne sert pas de feature\n",
    "y = df_merged['parti_gagnant']\n",
    "\n",
    "# Diviser les données en ensembles d'entraînement et de test\n",
    "X_train, X_test, y_train, y_test = train_test_split(X, y, test_size=0.2, random_state=42)\n"
   ],
   "id": "ee4dadc756ab7785"
  },
  {
   "metadata": {},
   "cell_type": "code",
   "outputs": [],
   "execution_count": null,
   "source": [
    "# Configuration du modèle XGBoost\n",
    "# Entrainement du model\n",
    "model = xgb.XGBClassifier(objective='multi:softmax', num_class=len(y.unique()), seed=42)\n",
    "\n",
    "# Entraînement du modèle\n",
    "model.fit(X_train, y_train)"
   ],
   "id": "d8fe1affc8a1620b"
  },
  {
   "metadata": {},
   "cell_type": "code",
   "outputs": [],
   "execution_count": null,
   "source": [
    "# prédiction\n",
    "y_pred = model.predict(X_test)\n",
    "\n",
    "# Évaluer le modèle\n",
    "accuracy = accuracy_score(y_test, y_pred)\n",
    "print(\"Accuracy: {:.2f}%\".format(accuracy * 100))\n",
    "\n",
    "# Rapport de classification et matrice de confusion\n",
    "print(classification_report(y_test, y_pred))\n",
    "print(confusion_matrix(y_test, y_pred))"
   ],
   "id": "c934b460fcd4fe01"
  },
  {
   "metadata": {},
   "cell_type": "code",
   "outputs": [],
   "execution_count": null,
   "source": [
    "# Importance des features pour comprendre les résultats, et qu'elles variables influent le plus sur les résultats\n",
    "\n",
    "# Pourrais être assimilé à une phase de visualisation\n",
    "\n",
    "importance = model.feature_importances_\n",
    "features = pd.DataFrame({\n",
    "    'Feature': X.columns,\n",
    "    'Importance': importance\n",
    "}).sort_values(by='Importance', ascending=False)\n",
    "\n",
    "print(features)\n"
   ],
   "id": "1b341a0b49c9233b"
  },
  {
   "metadata": {},
   "cell_type": "code",
   "outputs": [],
   "execution_count": null,
   "source": [
    "# Test de GridSearchCV pour trouver les meilleurs hyperparamètres, histoire d'améliorer les performances du modèle\n",
    "\n",
    "param_grid = {\n",
    "    'max_depth': [3, 5, 7],\n",
    "    'learning_rate': [0.01, 0.1, 0.2],\n",
    "    'subsample': [0.7, 0.8, 0.9],\n",
    "    'colsample_bytree': [0.7, 0.8, 0.9],\n",
    "    'n_estimators': [100, 200],\n",
    "    'objective': ['multi:softmax']\n",
    "}\n"
   ],
   "id": "57fb711f03686619"
  },
  {
   "metadata": {},
   "cell_type": "code",
   "outputs": [],
   "execution_count": null,
   "source": [
    "# Configuration du model\n",
    "\n",
    "# Créer le modèle XGBoost\n",
    "xgb_model = xgb.XGBClassifier()\n",
    "\n",
    "# Configurer la recherche de grille avec validation croisée\n",
    "grid_search = GridSearchCV(estimator=xgb_model, param_grid=param_grid, scoring='accuracy', cv=3, verbose=2)\n",
    "\n",
    "# Exécuter la recherche de grille\n",
    "grid_search.fit(X_train, y_train)\n",
    "\n",
    "# Afficher les meilleurs paramètres\n",
    "\n",
    "print(\"Meilleurs paramètres: \", grid_search.best_params_)\n",
    "print(\"Meilleure précision: {:.2f}%\".format(grid_search.best_score_ * 100))"
   ],
   "id": "d2d006aee8247072"
  },
  {
   "metadata": {},
   "cell_type": "code",
   "outputs": [],
   "execution_count": null,
   "source": [
    "# Utiliser le meilleur modèle pour faire des prédictions\n",
    "best_model = grid_search.best_estimator_\n",
    "y_pred = best_model.predict(X_test)\n",
    "\n",
    "# Évaluer le meilleur modèle\n",
    "accuracy = accuracy_score(y_test, y_pred)\n",
    "print(\"Précision du meilleur modèle: {:.2f}%\".format(accuracy * 100))\n"
   ],
   "id": "8f4f3fa5ed585903"
  }
 ],
 "metadata": {
  "kernelspec": {
   "display_name": "Python 3",
   "language": "python",
   "name": "python3"
  },
  "language_info": {
   "codemirror_mode": {
    "name": "ipython",
    "version": 2
   },
   "file_extension": ".py",
   "mimetype": "text/x-python",
   "name": "python",
   "nbconvert_exporter": "python",
   "pygments_lexer": "ipython2",
   "version": "2.7.6"
  }
 },
 "nbformat": 4,
 "nbformat_minor": 5
}
