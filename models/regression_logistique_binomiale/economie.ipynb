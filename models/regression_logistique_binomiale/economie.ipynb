{
 "cells": [
  {
   "cell_type": "code",
   "execution_count": null,
   "id": "initial_id",
   "metadata": {
    "collapsed": true,
    "ExecuteTime": {
     "end_time": "2024-03-18T11:28:05.313361Z",
     "start_time": "2024-03-18T11:28:05.312025Z"
    }
   },
   "outputs": [],
   "source": []
  },
  {
   "cell_type": "code",
   "source": [
    "from models.db_manager import query_db\n",
    "import pandas as pd\n",
    "from sklearn.model_selection import train_test_split\n",
    "from sklearn.linear_model import LinearRegression\n",
    "from sklearn.metrics import mean_squared_error\n",
    "\n",
    "# Importez la fonction query_db depuis db_manager.py\n",
    "\n",
    "# Requête SQL pour sélectionner les données de la table économie\n",
    "query_economie = \"SELECT * FROM economie;\"\n",
    "df_economie = query_db(query_economie)\n",
    "\n",
    "# Requête SQL pour sélectionner les données du premier tour (ou du second tour si nécessaire)\n",
    "query_election = \"SELECT code_postal, \\\"% Voix/Ins 1\\\", \\\"% Voix/Ins 2\\\" FROM election_2022_t2\"\n",
    "df_election = query_db(query_election)\n",
    "\n",
    "# Supprimer les colonnes non désirées dans df_economie\n",
    "df_economie.drop(['id_economie'], axis=1, inplace=True)\n",
    "\n",
    "# Fusionner les données économiques avec les données de l'élection sur la colonne code_postal\n",
    "df_merged = pd.merge(df_economie, df_election, on='code_postal')\n",
    "\n",
    "# Sélectionner uniquement les données pour La République En Marche\n",
    "df_party = df_merged\n",
    "\n",
    "# Séparer les features (X) et la target (y)\n",
    "X = df_party.drop(['code_postal', '% Voix/Ins 1', '% Voix/Ins 2'], axis=1)\n",
    "y = df_party['% Voix/Ins 1']\n",
    "\n",
    "# Diviser les données en ensemble d'entraînement et ensemble de test\n",
    "X_train, X_test, y_train, y_test = train_test_split(X, y, test_size=0.2, random_state=42)\n",
    "\n",
    "# Entraîner le modèle de régression linéaire sur l'ensemble d'entraînement\n",
    "model = LinearRegression()\n",
    "model.fit(X_train, y_train)\n",
    "\n",
    "# Prédire les résultats sur l'ensemble de test pour évaluer la performance du modèle\n",
    "y_pred = model.predict(X_test)\n",
    "mse = mean_squared_error(y_test, y_pred)\n",
    "print(\"Erreur quadratique moyenne sur l'ensemble de test:\", mse)\n",
    "\n",
    "# Utiliser le modèle entraîné pour prédire le vote de La République En Marche dans le département 89\n",
    "dept_89_economie = df_economie[df_economie['code_postal'] == 89].drop('code_postal', axis=1)\n",
    "prediction_dept_89 = model.predict(dept_89_economie)\n",
    "print(\"Prédiction du vote de La République En Marche dans le département 89:\", prediction_dept_89[0])\n"
   ],
   "metadata": {
    "collapsed": false,
    "ExecuteTime": {
     "end_time": "2024-04-17T08:22:06.175328Z",
     "start_time": "2024-04-17T08:22:06.155933Z"
    }
   },
   "id": "75544a7462b2bf5f",
   "outputs": [
    {
     "ename": "ModuleNotFoundError",
     "evalue": "No module named 'models.db_manager'",
     "output_type": "error",
     "traceback": [
      "\u001B[0;31m---------------------------------------------------------------------------\u001B[0m",
      "\u001B[0;31mModuleNotFoundError\u001B[0m                       Traceback (most recent call last)",
      "Cell \u001B[0;32mIn[2], line 1\u001B[0m\n\u001B[0;32m----> 1\u001B[0m \u001B[38;5;28;01mfrom\u001B[39;00m \u001B[38;5;21;01mmodels\u001B[39;00m\u001B[38;5;21;01m.\u001B[39;00m\u001B[38;5;21;01mdb_manager\u001B[39;00m \u001B[38;5;28;01mimport\u001B[39;00m query_db\n\u001B[1;32m      2\u001B[0m \u001B[38;5;28;01mimport\u001B[39;00m \u001B[38;5;21;01mpandas\u001B[39;00m \u001B[38;5;28;01mas\u001B[39;00m \u001B[38;5;21;01mpd\u001B[39;00m\n\u001B[1;32m      3\u001B[0m \u001B[38;5;28;01mfrom\u001B[39;00m \u001B[38;5;21;01msklearn\u001B[39;00m\u001B[38;5;21;01m.\u001B[39;00m\u001B[38;5;21;01mmodel_selection\u001B[39;00m \u001B[38;5;28;01mimport\u001B[39;00m train_test_split\n",
      "\u001B[0;31mModuleNotFoundError\u001B[0m: No module named 'models.db_manager'"
     ]
    }
   ],
   "execution_count": 2
  },
  {
   "cell_type": "code",
   "outputs": [],
   "source": [],
   "metadata": {
    "collapsed": false,
    "ExecuteTime": {
     "end_time": "2024-03-23T14:32:20.302422Z",
     "start_time": "2024-03-23T14:32:20.300535Z"
    }
   },
   "id": "d8cd99fe203e8f1b",
   "execution_count": 23
  },
  {
   "cell_type": "code",
   "outputs": [],
   "source": [],
   "metadata": {
    "collapsed": false
   },
   "id": "91d16997c802c812",
   "execution_count": null
  }
 ],
 "metadata": {
  "kernelspec": {
   "display_name": "Python 3",
   "language": "python",
   "name": "python3"
  },
  "language_info": {
   "codemirror_mode": {
    "name": "ipython",
    "version": 2
   },
   "file_extension": ".py",
   "mimetype": "text/x-python",
   "name": "python",
   "nbconvert_exporter": "python",
   "pygments_lexer": "ipython2",
   "version": "2.7.6"
  }
 },
 "nbformat": 4,
 "nbformat_minor": 5
}
