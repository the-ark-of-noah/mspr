{
 "cells": [
  {
   "cell_type": "code",
   "execution_count": null,
   "id": "initial_id",
   "metadata": {
    "collapsed": true
   },
   "outputs": [],
   "source": [
    "# Import des librairies\n",
    "import pandas as pd\n",
    "from models.managers.db_manager import connect_to_bdd\n",
    "from sklearn.model_selection import train_test_split\n",
    "from sklearn.linear_model import LogisticRegression\n",
    "from sklearn.metrics import accuracy_score, roc_auc_score\n",
    "import matplotlib.pyplot as plt\n",
    "import seaborn as sns\n",
    "from sklearn.metrics import roc_curve, auc\n"
   ]
  },
  {
   "metadata": {},
   "cell_type": "code",
   "outputs": [],
   "execution_count": null,
   "source": [
    "conn = connect_to_bdd()\n",
    "\n",
    "# Requête pour election_2022_t1 et sauvegarde dans df_election\n",
    "query_election = \"\"\"\n",
    "    SELECT winner, code_postal, \"Libellé de la commune\"\n",
    "    FROM election_2022_t1\n",
    "\"\"\"\n",
    "df_election = pd.read_sql(query_election, conn)\n",
    "\n",
    "# Requête pour economie et sauvegarde dans df_economie\n",
    "query_economie = \"\"\"\n",
    "    SELECT avg_1982, avg_1983, avg_1984, avg_1985, avg_1986, avg_1987, avg_1988, avg_1989,\n",
    "           avg_1990, avg_1991, avg_1992, avg_1993, avg_1994, avg_1995, avg_1996, avg_1997,\n",
    "           avg_1998, avg_1999, avg_2000, avg_2001, avg_2002, avg_2003, avg_2004, avg_2005,\n",
    "           avg_2006, avg_2007, avg_2008, avg_2009, avg_2010, avg_2011, avg_2012, avg_2013,\n",
    "           avg_2014, avg_2015, avg_2016, avg_2017, avg_2018, avg_2019, avg_2020, avg_2021,\n",
    "           avg_2022, avg_2023, code_postal\n",
    "    FROM economie\n",
    "\"\"\"\n",
    "df_economie = pd.read_sql(query_economie, conn)\n",
    "\n",
    "# Requête pour securite et sauvegarde dans df_securite\n",
    "query_securite = \"\"\"\n",
    "    SELECT code_postal, tauxpourcent\n",
    "    FROM securite\n",
    "\"\"\"\n",
    "df_securite = pd.read_sql(query_securite, conn)\n",
    "\n",
    "# Requête pour densite et sauvegarde dans df_densite\n",
    "query_densite = \"\"\"\n",
    "    SELECT code_postal, dens_pop\n",
    "    FROM demographie\n",
    "\"\"\"\n",
    "df_densite = pd.read_sql(query_densite, conn)\n",
    "\n",
    "# Fermeture de la connexion\n",
    "conn.close()"
   ],
   "id": "932504d8d8f3fc58"
  },
  {
   "metadata": {},
   "cell_type": "code",
   "outputs": [],
   "execution_count": null,
   "source": [
    "# Fusion des dataframes sur le code_postal\n",
    "df_final = df_election.merge(df_economie, on='code_postal', how='inner')\n",
    "df_final = df_final.merge(df_securite, on='code_postal', how='inner')\n",
    "df_final = df_final.merge(df_densite, on='code_postal', how='inner')\n"
   ],
   "id": "a94da6794170b650"
  },
  {
   "metadata": {},
   "cell_type": "code",
   "outputs": [],
   "execution_count": null,
   "source": [
    "# Création de la variable cible\n",
    "df_final['target'] = (df_final['% Vot/Ins'] > 50).astype(int)"
   ],
   "id": "157cd7c3d1964341"
  },
  {
   "metadata": {},
   "cell_type": "code",
   "outputs": [],
   "execution_count": null,
   "source": [
    "# Sélection des variables explicatives pouvant influencer le vote\n",
    "\n",
    "features = df_final[['dens_pop', 'avg_2023', 'tauxpourcent']]  # Exemple simplifié, ajoutez d'autres variables pertinentes"
   ],
   "id": "c0039fe47008ad7d"
  },
  {
   "metadata": {},
   "cell_type": "code",
   "outputs": [],
   "execution_count": null,
   "source": [
    "# Création et évaluation du modèle\n",
    "\n",
    "# Division des données en ensemble d'apprentissage et de test\n",
    "X_train, X_test, y_train, y_test = train_test_split(features, df_final['target'], test_size=0.3, random_state=42)\n",
    "\n",
    "# Création du modèle de régression logistique\n",
    "model = LogisticRegression()\n",
    "model.fit(X_train, y_train)\n",
    "\n",
    "# Prédiction sur l'ensemble de test\n",
    "y_pred = model.predict(X_test)\n",
    "\n",
    "# Évaluation du modèle\n",
    "accuracy = accuracy_score(y_test, y_pred)\n",
    "roc_auc = roc_auc_score(y_test, model.predict_proba(X_test)[:, 1])\n",
    "\n",
    "print(f'Accuracy: {accuracy}')\n",
    "print(f'ROC AUC Score: {roc_auc}')"
   ],
   "id": "e7b1f878d6191e83"
  },
  {
   "metadata": {},
   "cell_type": "code",
   "outputs": [],
   "execution_count": null,
   "source": [
    "# Interprétation des résultats\n",
    "\n",
    "# Affichage des coefficients\n",
    "coefs = pd.DataFrame({\n",
    "    'Variable': features.columns,\n",
    "    'Coefficient': model.coef_[0]\n",
    "})\n",
    "print(coefs)\n"
   ],
   "id": "736d23dc60ee4cea"
  },
  {
   "metadata": {},
   "cell_type": "code",
   "outputs": [],
   "execution_count": null,
   "source": [
    "# Histogramme des probabilités de participation\n",
    "\n",
    "# Prédictions de probabilité\n",
    "y_prob = model.predict_proba(X_test)[:, 1]\n",
    "\n",
    "# Création de l'histogramme\n",
    "plt.figure(figsize=(8, 6))\n",
    "sns.histplot(y_prob, bins=30, kde=False, color='blue')\n",
    "plt.title('Distribution des probabilités de participation supérieure à 50%')\n",
    "plt.xlabel('Probabilité de participation > 50%')\n",
    "plt.ylabel('Nombre d\\'observations')\n",
    "plt.show()\n"
   ],
   "id": "43fd6a66b68d5496"
  },
  {
   "metadata": {},
   "cell_type": "code",
   "outputs": [],
   "execution_count": null,
   "source": [
    "# Courbe ROC\n",
    "\n",
    "# Calcul des taux pour la courbe ROC\n",
    "fpr, tpr, thresholds = roc_curve(y_test, y_prob)\n",
    "roc_auc = auc(fpr, tpr)\n",
    "\n",
    "# Création de la courbe ROC\n",
    "plt.figure(figsize=(8, 6))\n",
    "plt.plot(fpr, tpr, color='darkorange', lw=2, label='ROC curve (area = %0.2f)' % roc_auc)\n",
    "plt.plot([0, 1], [0, 1], color='navy', lw=2, linestyle='--')\n",
    "plt.xlim([0.0, 1.0])\n",
    "plt.ylim([0.0, 1.05])\n",
    "plt.xlabel('False Positive Rate')\n",
    "plt.ylabel('True Positive Rate')\n",
    "plt.title('Receiver Operating Characteristic')\n",
    "plt.legend(loc=\"lower right\")\n",
    "plt.show()"
   ],
   "id": "492167108f24a978"
  },
  {
   "metadata": {},
   "cell_type": "code",
   "outputs": [],
   "execution_count": null,
   "source": [
    "# Affichage des coefficients dans un diagramme à barres\n",
    "coefs = pd.DataFrame({\n",
    "    'Variable': X_train.columns,\n",
    "    'Coefficient': model.coef_[0]\n",
    "}).sort_values(by='Coefficient', ascending=False)\n",
    "\n",
    "plt.figure(figsize=(8, 6))\n",
    "sns.barplot(x='Coefficient', y='Variable', data=coefs)\n",
    "plt.title('Impact des Variables sur la prédiction')\n",
    "plt.xlabel('Coefficient')\n",
    "plt.ylabel('Variable')\n",
    "plt.show()\n"
   ],
   "id": "ee4e667b45e2fe61"
  }
 ],
 "metadata": {
  "kernelspec": {
   "display_name": "Python 3",
   "language": "python",
   "name": "python3"
  },
  "language_info": {
   "codemirror_mode": {
    "name": "ipython",
    "version": 2
   },
   "file_extension": ".py",
   "mimetype": "text/x-python",
   "name": "python",
   "nbconvert_exporter": "python",
   "pygments_lexer": "ipython2",
   "version": "2.7.6"
  }
 },
 "nbformat": 4,
 "nbformat_minor": 5
}
