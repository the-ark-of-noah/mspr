{
 "cells": [
  {
   "cell_type": "code",
   "execution_count": null,
   "id": "initial_id",
   "metadata": {
    "collapsed": true
   },
   "outputs": [],
   "source": [
    "import pandas as pd"
   ]
  },
  {
   "cell_type": "code",
   "outputs": [
    {
     "data": {
      "text/plain": "      code_postal,departement,Libellé de la commune,Code du b.vote,Inscrits,Abstentions,% Abs/Ins,Votants,% Vot/Ins,Blancs,% Blancs/Ins,% Blancs/Vot,Nuls,% Nuls/Ins,% Nuls/Vot,Exprimés,% Exp/Ins,% Exp/Vot,Sexe 1,Parti 1,Voix 1,% Voix/Ins 1,% Voix/Exp 1,Sexe 2,Parti 2,Voix 2,% Voix/Ins 2,% Voix/Exp 2,Sexe 3,Parti 3,Voix 3,% Voix/Ins 3,% Voix/Exp 3,Sexe 4,Parti 4,Voix 4,% Voix/Ins 4,% Voix/Exp 4,Sexe 5,Parti 5,Voix 5,% Voix/Ins 5,% Voix/Exp 5,Sexe 6,Parti 6,Voix 6,% Voix/Ins 6,% Voix/Exp 6,Sexe 7,Parti 7,Voix 7,% Voix/Ins 7,% Voix/Exp 7,Sexe 8,Parti 8,Voix 8,% Voix/Ins 8,% Voix/Exp 8,Sexe 9,Parti 9,Voix 9,% Voix/Ins 9,% Voix/Exp 9,Sexe 10,Parti 10,Voix 10,% Voix/Ins 10,% Voix/Exp 10,Sexe 11,Parti 11,Voix 11,% Voix/Ins 11,% Voix/Exp 11,Sexe 12,Parti 12,Voix 12,% Voix/Ins 12,% Voix/Exp 12\n0      01,Ain,L'Abergement-Clémenciat,0001,645,108,16...                                                                                                                                                                                                                                                                                                                                                                                                                                                                                                                                                                                                                                                                                                                                                                   \n1      01,Ain,L'Abergement-de-Varey,0001,213,38,17.84...                                                                                                                                                                                                                                                                                                                                                                                                                                                                                                                                                                                                                                                                                                                                                                   \n2      01,Ain,Ambérieu-en-Bugey,0001,1129,266,23.56,8...                                                                                                                                                                                                                                                                                                                                                                                                                                                                                                                                                                                                                                                                                                                                                                   \n3      01,Ain,Ambérieu-en-Bugey,0002,1128,265,23.49,8...                                                                                                                                                                                                                                                                                                                                                                                                                                                                                                                                                                                                                                                                                                                                                                   \n4      01,Ain,Ambérieu-en-Bugey,0003,1213,246,20.28,9...                                                                                                                                                                                                                                                                                                                                                                                                                                                                                                                                                                                                                                                                                                                                                                   \n...                                                  ...                                                                                                                                                                                                                                                                                                                                                                                                                                                                                                                                                                                                                                                                                                                                                                   \n66888  95,Val-d'Oise,Villiers-le-Bel,0011,1226,397,32...                                                                                                                                                                                                                                                                                                                                                                                                                                                                                                                                                                                                                                                                                                                                                                   \n66889  95,Val-d'Oise,Villiers-le-Bel,0012,910,257,28....                                                                                                                                                                                                                                                                                                                                                                                                                                                                                                                                                                                                                                                                                                                                                                   \n66890  95,Val-d'Oise,Villiers-le-Bel,0013,681,222,32....                                                                                                                                                                                                                                                                                                                                                                                                                                                                                                                                                                                                                                                                                                                                                                   \n66891  95,Val-d'Oise,Villiers-le-Sec,0001,110,14,12.7...                                                                                                                                                                                                                                                                                                                                                                                                                                                                                                                                                                                                                                                                                                                                                                   \n66892  95,Val-d'Oise,Wy-dit-Joli-Village,0001,285,48,...                                                                                                                                                                                                                                                                                                                                                                                                                                                                                                                                                                                                                                                                                                                                                                   \n\n[66893 rows x 1 columns]",
      "text/html": "<div>\n<style scoped>\n    .dataframe tbody tr th:only-of-type {\n        vertical-align: middle;\n    }\n\n    .dataframe tbody tr th {\n        vertical-align: top;\n    }\n\n    .dataframe thead th {\n        text-align: right;\n    }\n</style>\n<table border=\"1\" class=\"dataframe\">\n  <thead>\n    <tr style=\"text-align: right;\">\n      <th></th>\n      <th>code_postal,departement,Libellé de la commune,Code du b.vote,Inscrits,Abstentions,% Abs/Ins,Votants,% Vot/Ins,Blancs,% Blancs/Ins,% Blancs/Vot,Nuls,% Nuls/Ins,% Nuls/Vot,Exprimés,% Exp/Ins,% Exp/Vot,Sexe 1,Parti 1,Voix 1,% Voix/Ins 1,% Voix/Exp 1,Sexe 2,Parti 2,Voix 2,% Voix/Ins 2,% Voix/Exp 2,Sexe 3,Parti 3,Voix 3,% Voix/Ins 3,% Voix/Exp 3,Sexe 4,Parti 4,Voix 4,% Voix/Ins 4,% Voix/Exp 4,Sexe 5,Parti 5,Voix 5,% Voix/Ins 5,% Voix/Exp 5,Sexe 6,Parti 6,Voix 6,% Voix/Ins 6,% Voix/Exp 6,Sexe 7,Parti 7,Voix 7,% Voix/Ins 7,% Voix/Exp 7,Sexe 8,Parti 8,Voix 8,% Voix/Ins 8,% Voix/Exp 8,Sexe 9,Parti 9,Voix 9,% Voix/Ins 9,% Voix/Exp 9,Sexe 10,Parti 10,Voix 10,% Voix/Ins 10,% Voix/Exp 10,Sexe 11,Parti 11,Voix 11,% Voix/Ins 11,% Voix/Exp 11,Sexe 12,Parti 12,Voix 12,% Voix/Ins 12,% Voix/Exp 12</th>\n    </tr>\n  </thead>\n  <tbody>\n    <tr>\n      <th>0</th>\n      <td>01,Ain,L'Abergement-Clémenciat,0001,645,108,16...</td>\n    </tr>\n    <tr>\n      <th>1</th>\n      <td>01,Ain,L'Abergement-de-Varey,0001,213,38,17.84...</td>\n    </tr>\n    <tr>\n      <th>2</th>\n      <td>01,Ain,Ambérieu-en-Bugey,0001,1129,266,23.56,8...</td>\n    </tr>\n    <tr>\n      <th>3</th>\n      <td>01,Ain,Ambérieu-en-Bugey,0002,1128,265,23.49,8...</td>\n    </tr>\n    <tr>\n      <th>4</th>\n      <td>01,Ain,Ambérieu-en-Bugey,0003,1213,246,20.28,9...</td>\n    </tr>\n    <tr>\n      <th>...</th>\n      <td>...</td>\n    </tr>\n    <tr>\n      <th>66888</th>\n      <td>95,Val-d'Oise,Villiers-le-Bel,0011,1226,397,32...</td>\n    </tr>\n    <tr>\n      <th>66889</th>\n      <td>95,Val-d'Oise,Villiers-le-Bel,0012,910,257,28....</td>\n    </tr>\n    <tr>\n      <th>66890</th>\n      <td>95,Val-d'Oise,Villiers-le-Bel,0013,681,222,32....</td>\n    </tr>\n    <tr>\n      <th>66891</th>\n      <td>95,Val-d'Oise,Villiers-le-Sec,0001,110,14,12.7...</td>\n    </tr>\n    <tr>\n      <th>66892</th>\n      <td>95,Val-d'Oise,Wy-dit-Joli-Village,0001,285,48,...</td>\n    </tr>\n  </tbody>\n</table>\n<p>66893 rows × 1 columns</p>\n</div>"
     },
     "execution_count": 28,
     "metadata": {},
     "output_type": "execute_result"
    }
   ],
   "source": [
    "# Visualisation des données\n",
    "cleaned_2022_t1 = pd.read_csv(\"../../data/processed/2022_elections_tour_1_cleaned.csv\", sep=';')\n",
    "cleaned_2022_t1"
   ],
   "metadata": {
    "collapsed": false,
    "ExecuteTime": {
     "end_time": "2024-02-18T19:52:01.290496Z",
     "start_time": "2024-02-18T19:52:00.923423Z"
    }
   },
   "id": "2a4279f36a7e3a8a",
   "execution_count": 28
  },
  {
   "cell_type": "code",
   "outputs": [
    {
     "data": {
      "text/plain": "      code_postal,departement,Libellé de la commune,Code du b.vote,Inscrits,Abstentions,% Abs/Ins,Votants,% Vot/Ins,Blancs,% Blancs/Ins,% Blancs/Vot,Nuls,% Nuls/Ins,% Nuls/Vot,Exprimés,% Exp/Ins,% Exp/Vot,Sexe 1,Parti 1,Voix 1,% Voix/Ins 1,% Voix/Exp 1,Sexe 2,Parti 2,Voix 2,% Voix/Ins 2,% Voix/Exp 2\n0      01,Ain,L'Abergement-Clémenciat,0001,643,146,22...                                                                                                                                                                                                                                                    \n1      01,Ain,L'Abergement-de-Varey,0001,213,45,21.13...                                                                                                                                                                                                                                                    \n2      01,Ain,Ambérieu-en-Bugey,0001,1130,322,28.5,80...                                                                                                                                                                                                                                                    \n3      01,Ain,Ambérieu-en-Bugey,0002,1129,313,27.72,8...                                                                                                                                                                                                                                                    \n4      01,Ain,Ambérieu-en-Bugey,0003,1213,303,24.98,9...                                                                                                                                                                                                                                                    \n...                                                  ...                                                                                                                                                                                                                                                    \n66888  95,Val-d'Oise,Villiers-le-Bel,0011,1227,496,40...                                                                                                                                                                                                                                                    \n66889  95,Val-d'Oise,Villiers-le-Bel,0012,912,327,35....                                                                                                                                                                                                                                                    \n66890  95,Val-d'Oise,Villiers-le-Bel,0013,682,307,45....                                                                                                                                                                                                                                                    \n66891  95,Val-d'Oise,Villiers-le-Sec,0001,110,26,23.6...                                                                                                                                                                                                                                                    \n66892  95,Val-d'Oise,Wy-dit-Joli-Village,0001,285,53,...                                                                                                                                                                                                                                                    \n\n[66893 rows x 1 columns]",
      "text/html": "<div>\n<style scoped>\n    .dataframe tbody tr th:only-of-type {\n        vertical-align: middle;\n    }\n\n    .dataframe tbody tr th {\n        vertical-align: top;\n    }\n\n    .dataframe thead th {\n        text-align: right;\n    }\n</style>\n<table border=\"1\" class=\"dataframe\">\n  <thead>\n    <tr style=\"text-align: right;\">\n      <th></th>\n      <th>code_postal,departement,Libellé de la commune,Code du b.vote,Inscrits,Abstentions,% Abs/Ins,Votants,% Vot/Ins,Blancs,% Blancs/Ins,% Blancs/Vot,Nuls,% Nuls/Ins,% Nuls/Vot,Exprimés,% Exp/Ins,% Exp/Vot,Sexe 1,Parti 1,Voix 1,% Voix/Ins 1,% Voix/Exp 1,Sexe 2,Parti 2,Voix 2,% Voix/Ins 2,% Voix/Exp 2</th>\n    </tr>\n  </thead>\n  <tbody>\n    <tr>\n      <th>0</th>\n      <td>01,Ain,L'Abergement-Clémenciat,0001,643,146,22...</td>\n    </tr>\n    <tr>\n      <th>1</th>\n      <td>01,Ain,L'Abergement-de-Varey,0001,213,45,21.13...</td>\n    </tr>\n    <tr>\n      <th>2</th>\n      <td>01,Ain,Ambérieu-en-Bugey,0001,1130,322,28.5,80...</td>\n    </tr>\n    <tr>\n      <th>3</th>\n      <td>01,Ain,Ambérieu-en-Bugey,0002,1129,313,27.72,8...</td>\n    </tr>\n    <tr>\n      <th>4</th>\n      <td>01,Ain,Ambérieu-en-Bugey,0003,1213,303,24.98,9...</td>\n    </tr>\n    <tr>\n      <th>...</th>\n      <td>...</td>\n    </tr>\n    <tr>\n      <th>66888</th>\n      <td>95,Val-d'Oise,Villiers-le-Bel,0011,1227,496,40...</td>\n    </tr>\n    <tr>\n      <th>66889</th>\n      <td>95,Val-d'Oise,Villiers-le-Bel,0012,912,327,35....</td>\n    </tr>\n    <tr>\n      <th>66890</th>\n      <td>95,Val-d'Oise,Villiers-le-Bel,0013,682,307,45....</td>\n    </tr>\n    <tr>\n      <th>66891</th>\n      <td>95,Val-d'Oise,Villiers-le-Sec,0001,110,26,23.6...</td>\n    </tr>\n    <tr>\n      <th>66892</th>\n      <td>95,Val-d'Oise,Wy-dit-Joli-Village,0001,285,53,...</td>\n    </tr>\n  </tbody>\n</table>\n<p>66893 rows × 1 columns</p>\n</div>"
     },
     "execution_count": 27,
     "metadata": {},
     "output_type": "execute_result"
    }
   ],
   "source": [
    "cleaned_2022_t2 = pd.read_csv(\"../../data/processed/2022_elections_tour_2_cleaned.csv\", sep=';')\n",
    "cleaned_2022_t2"
   ],
   "metadata": {
    "collapsed": false,
    "ExecuteTime": {
     "end_time": "2024-02-18T19:51:47.444115Z",
     "start_time": "2024-02-18T19:51:47.310286Z"
    }
   },
   "id": "152b8c45f46fec23",
   "execution_count": 27
  },
  {
   "cell_type": "code",
   "outputs": [
    {
     "name": "stdout",
     "output_type": "stream",
     "text": [
      "Index(['Code du département', 'Département', 'Code de la circonscription',\n",
      "       'Circonscription', 'Code de la commune', 'Commune', 'Bureau de vote',\n",
      "       'Inscrits', 'Abstentions', '% Abs/Ins', 'Votants', '% Vot/Ins',\n",
      "       'Blancs', '% Blancs/Ins', '% Blancs/Vot', 'Nuls', '% Nuls/Ins',\n",
      "       '% Nuls/Vot', 'Exprimés', '% Exp/Ins', '% Exp/Vot', 'N°Panneau', 'Sexe',\n",
      "       'Nom', 'Prénom', 'Voix', '% Voix/Ins', '% Voix/Exp', 'Code Insee',\n",
      "       'Coordonnées', 'Nom Bureau Vote', 'Adresse', 'Code Postal', 'Ville',\n",
      "       'uniq_bdv'],\n",
      "      dtype='object')\n"
     ]
    }
   ],
   "source": [
    "taux_chomage = pd.read_csv(\"../../data/raw/2017_resultats_par_burvot_tour_1.csv\", sep=';')\n",
    "print(taux_chomage.columns)"
   ],
   "metadata": {
    "collapsed": false,
    "ExecuteTime": {
     "end_time": "2024-02-18T18:54:33.663431Z",
     "start_time": "2024-02-18T18:54:30.600619Z"
    }
   },
   "id": "b247f2ba919d3c97",
   "execution_count": 17
  },
  {
   "cell_type": "code",
   "outputs": [
    {
     "name": "stdout",
     "output_type": "stream",
     "text": [
      "Index(['Code du département,Libellé du département,Code de la circonscription,Libellé de la circonscription,Code de la commune,Libellé de la commune,Code du b.vote,Inscrits,Abstentions,% Abs/Ins,Votants,% Vot/Ins,Blancs,% Blancs/Ins,% Blancs/Vot,Nuls,% Nuls/Ins,% Nuls/Vot,Exprimés,% Exp/Ins,% Exp/Vot,N°Panneau,Sexe,Nom,Prénom,Voix,% Voix/Ins,% Voix/Exp,,,,,,,,,,,,,,,,,,,,,,,,,,,,,,,,,,,,,,,,,,,,,,,,,,,,,,,,,,,,,,,,,,,,,,,,,,,,,'], dtype='object')\n"
     ]
    }
   ],
   "source": [
    "resultats_par_burvot_tour_1 = pd.read_csv(\"../../data/raw/2022_resultats_par_burvot_tour_1.csv\", sep=';')\n",
    "print(resultats_par_burvot_tour_1.columns)"
   ],
   "metadata": {
    "collapsed": false,
    "ExecuteTime": {
     "end_time": "2024-02-18T18:54:08.079495Z",
     "start_time": "2024-02-18T18:54:07.701076Z"
    }
   },
   "id": "78072f6eb657db4f",
   "execution_count": 16
  },
  {
   "cell_type": "code",
   "outputs": [
    {
     "data": {
      "text/plain": "       Code du département     Département  Code de la circonscription  \\\n0                       77  Seine-et-Marne                           7   \n2                       52     Haute-Marne                           2   \n4                       83             Var                           6   \n5                       83             Var                           5   \n9                       57         Moselle                           1   \n...                    ...             ...                         ...   \n761798                  52     Haute-Marne                           1   \n761801                  69           Rhône                           9   \n761802                  62   Pas-de-Calais                           6   \n761803                  51           Marne                           1   \n761804                  76  Seine-Maritime                          10   \n\n              Circonscription  Code de la commune                    Commune  \\\n0        7ème circonscription                 438  Saint-Thibault-des-Vignes   \n2        2ème circonscription                 331            La Porte du Der   \n4        6ème circonscription                  16                Le Beausset   \n5        5ème circonscription                  61                     Fréjus   \n9        1ère circonscription                 645                  Semécourt   \n...                       ...                 ...                        ...   \n761798   1ère circonscription                 193                 Euffigneix   \n761801   9ème circonscription                 264     Villefranche-sur-Saône   \n761802   6ème circonscription                 566                 Menneville   \n761803   1ère circonscription                 454                      Reims   \n761804  10ème circonscription                 225     Ecretteville-lès-Baons   \n\n       Bureau de vote  Inscrits  Abstentions  % Abs/Ins  ...  Voix  \\\n0                0003      1063          283      26.62  ...   101   \n2                0001      1383          295      21.33  ...   198   \n4                0007       869          149      17.15  ...     2   \n5                0030       940          217      23.09  ...    11   \n9                0001       752          114      15.16  ...     5   \n...               ...       ...          ...        ...  ...   ...   \n761798           0001       240           27      11.25  ...    60   \n761801           0014       991          331      33.40  ...   193   \n761802           0001       526           49       9.32  ...     0   \n761803           0605       919          249      27.09  ...     3   \n761804           0001       305           56      18.36  ...     1   \n\n        % Voix/Ins  % Voix/Exp  Code Insee          Coordonnées  \\\n0             9.50       13.32       77438  48.854007, 2.668821   \n2            14.32       18.66       52331  48.476677, 4.771312   \n4             0.23        0.28       83016  43.196343, 5.796027   \n5             1.17        1.55       83061   43.39106, 6.728505   \n9             0.66        0.80       57645  49.193569, 6.134758   \n...            ...         ...         ...                  ...   \n761798       25.00       29.56       52193  48.129863, 5.045702   \n761801       19.48       30.16       69264  45.989475, 4.726876   \n761802        0.00        0.00       62566  50.674481, 1.861362   \n761803        0.33        0.46       51454   49.270171, 4.01713   \n761804        0.33        0.41       76225  49.625773, 0.671146   \n\n                                Nom Bureau Vote                       Adresse  \\\n0                   Groupe scolaire Marie Curie   26 rue de l'Etang de la Loy   \n2                                  Halle au blé  10 place de l’Hôtel de ville   \n4       Réféctoire de l'école maternelle Pagnol           Avenue des Tilleuls   \n5                  Ecole primaire de Villeneuve           Rue de l'Argentière   \n9                                        Mairie      3 Place de la République   \n...                                         ...                           ...   \n761798      Bibliothèque, bâtiment de la Mairie                 17 grande rue   \n761801         Ecole Maternelle Anne de Beaujeu          58 rue de la Liberté   \n761802                                    Ecole                Rue de l'école   \n761803                                    Ecole         15 rue Roger Jardelle   \n761804                                   Mairie         1 rue des Troubadours   \n\n        Code Postal                      Ville  \\\n0           77400.0  Saint-Thibault-des-Vignes   \n2           52220.0            La Porte du Der   \n4           83330.0                Le Beausset   \n5           83370.0                     Fréjus   \n9           57280.0                  Semécourt   \n...             ...                        ...   \n761798      52000.0                 Euffigneix   \n761801      69400.0     Villefranche-sur-Saône   \n761802      62240.0                 Menneville   \n761803      51100.0                      Reims   \n761804      76190.0     Écretteville-lès-Baons   \n\n                                                 uniq_bdv  \n0       Groupe scolaire Marie Curie -  Saint-Thibault-...  \n2                         Halle au blé -  La Porte du Der  \n4       Réféctoire de l'école maternelle Pagnol -  Le ...  \n5                  Ecole primaire de Villeneuve -  Fréjus  \n9                                     Mairie -  Semécourt  \n...                                                   ...  \n761798  Bibliothèque, bâtiment de la Mairie -  Euffigneix  \n761801  Ecole Maternelle Anne de Beaujeu -  Villefranc...  \n761802                                Ecole -  Menneville  \n761803                                     Ecole -  Reims  \n761804                   Mairie -  Écretteville-lès-Baons  \n\n[488158 rows x 35 columns]",
      "text/html": "<div>\n<style scoped>\n    .dataframe tbody tr th:only-of-type {\n        vertical-align: middle;\n    }\n\n    .dataframe tbody tr th {\n        vertical-align: top;\n    }\n\n    .dataframe thead th {\n        text-align: right;\n    }\n</style>\n<table border=\"1\" class=\"dataframe\">\n  <thead>\n    <tr style=\"text-align: right;\">\n      <th></th>\n      <th>Code du département</th>\n      <th>Département</th>\n      <th>Code de la circonscription</th>\n      <th>Circonscription</th>\n      <th>Code de la commune</th>\n      <th>Commune</th>\n      <th>Bureau de vote</th>\n      <th>Inscrits</th>\n      <th>Abstentions</th>\n      <th>% Abs/Ins</th>\n      <th>...</th>\n      <th>Voix</th>\n      <th>% Voix/Ins</th>\n      <th>% Voix/Exp</th>\n      <th>Code Insee</th>\n      <th>Coordonnées</th>\n      <th>Nom Bureau Vote</th>\n      <th>Adresse</th>\n      <th>Code Postal</th>\n      <th>Ville</th>\n      <th>uniq_bdv</th>\n    </tr>\n  </thead>\n  <tbody>\n    <tr>\n      <th>0</th>\n      <td>77</td>\n      <td>Seine-et-Marne</td>\n      <td>7</td>\n      <td>7ème circonscription</td>\n      <td>438</td>\n      <td>Saint-Thibault-des-Vignes</td>\n      <td>0003</td>\n      <td>1063</td>\n      <td>283</td>\n      <td>26.62</td>\n      <td>...</td>\n      <td>101</td>\n      <td>9.50</td>\n      <td>13.32</td>\n      <td>77438</td>\n      <td>48.854007, 2.668821</td>\n      <td>Groupe scolaire Marie Curie</td>\n      <td>26 rue de l'Etang de la Loy</td>\n      <td>77400.0</td>\n      <td>Saint-Thibault-des-Vignes</td>\n      <td>Groupe scolaire Marie Curie -  Saint-Thibault-...</td>\n    </tr>\n    <tr>\n      <th>2</th>\n      <td>52</td>\n      <td>Haute-Marne</td>\n      <td>2</td>\n      <td>2ème circonscription</td>\n      <td>331</td>\n      <td>La Porte du Der</td>\n      <td>0001</td>\n      <td>1383</td>\n      <td>295</td>\n      <td>21.33</td>\n      <td>...</td>\n      <td>198</td>\n      <td>14.32</td>\n      <td>18.66</td>\n      <td>52331</td>\n      <td>48.476677, 4.771312</td>\n      <td>Halle au blé</td>\n      <td>10 place de l’Hôtel de ville</td>\n      <td>52220.0</td>\n      <td>La Porte du Der</td>\n      <td>Halle au blé -  La Porte du Der</td>\n    </tr>\n    <tr>\n      <th>4</th>\n      <td>83</td>\n      <td>Var</td>\n      <td>6</td>\n      <td>6ème circonscription</td>\n      <td>16</td>\n      <td>Le Beausset</td>\n      <td>0007</td>\n      <td>869</td>\n      <td>149</td>\n      <td>17.15</td>\n      <td>...</td>\n      <td>2</td>\n      <td>0.23</td>\n      <td>0.28</td>\n      <td>83016</td>\n      <td>43.196343, 5.796027</td>\n      <td>Réféctoire de l'école maternelle Pagnol</td>\n      <td>Avenue des Tilleuls</td>\n      <td>83330.0</td>\n      <td>Le Beausset</td>\n      <td>Réféctoire de l'école maternelle Pagnol -  Le ...</td>\n    </tr>\n    <tr>\n      <th>5</th>\n      <td>83</td>\n      <td>Var</td>\n      <td>5</td>\n      <td>5ème circonscription</td>\n      <td>61</td>\n      <td>Fréjus</td>\n      <td>0030</td>\n      <td>940</td>\n      <td>217</td>\n      <td>23.09</td>\n      <td>...</td>\n      <td>11</td>\n      <td>1.17</td>\n      <td>1.55</td>\n      <td>83061</td>\n      <td>43.39106, 6.728505</td>\n      <td>Ecole primaire de Villeneuve</td>\n      <td>Rue de l'Argentière</td>\n      <td>83370.0</td>\n      <td>Fréjus</td>\n      <td>Ecole primaire de Villeneuve -  Fréjus</td>\n    </tr>\n    <tr>\n      <th>9</th>\n      <td>57</td>\n      <td>Moselle</td>\n      <td>1</td>\n      <td>1ère circonscription</td>\n      <td>645</td>\n      <td>Semécourt</td>\n      <td>0001</td>\n      <td>752</td>\n      <td>114</td>\n      <td>15.16</td>\n      <td>...</td>\n      <td>5</td>\n      <td>0.66</td>\n      <td>0.80</td>\n      <td>57645</td>\n      <td>49.193569, 6.134758</td>\n      <td>Mairie</td>\n      <td>3 Place de la République</td>\n      <td>57280.0</td>\n      <td>Semécourt</td>\n      <td>Mairie -  Semécourt</td>\n    </tr>\n    <tr>\n      <th>...</th>\n      <td>...</td>\n      <td>...</td>\n      <td>...</td>\n      <td>...</td>\n      <td>...</td>\n      <td>...</td>\n      <td>...</td>\n      <td>...</td>\n      <td>...</td>\n      <td>...</td>\n      <td>...</td>\n      <td>...</td>\n      <td>...</td>\n      <td>...</td>\n      <td>...</td>\n      <td>...</td>\n      <td>...</td>\n      <td>...</td>\n      <td>...</td>\n      <td>...</td>\n      <td>...</td>\n    </tr>\n    <tr>\n      <th>761798</th>\n      <td>52</td>\n      <td>Haute-Marne</td>\n      <td>1</td>\n      <td>1ère circonscription</td>\n      <td>193</td>\n      <td>Euffigneix</td>\n      <td>0001</td>\n      <td>240</td>\n      <td>27</td>\n      <td>11.25</td>\n      <td>...</td>\n      <td>60</td>\n      <td>25.00</td>\n      <td>29.56</td>\n      <td>52193</td>\n      <td>48.129863, 5.045702</td>\n      <td>Bibliothèque, bâtiment de la Mairie</td>\n      <td>17 grande rue</td>\n      <td>52000.0</td>\n      <td>Euffigneix</td>\n      <td>Bibliothèque, bâtiment de la Mairie -  Euffigneix</td>\n    </tr>\n    <tr>\n      <th>761801</th>\n      <td>69</td>\n      <td>Rhône</td>\n      <td>9</td>\n      <td>9ème circonscription</td>\n      <td>264</td>\n      <td>Villefranche-sur-Saône</td>\n      <td>0014</td>\n      <td>991</td>\n      <td>331</td>\n      <td>33.40</td>\n      <td>...</td>\n      <td>193</td>\n      <td>19.48</td>\n      <td>30.16</td>\n      <td>69264</td>\n      <td>45.989475, 4.726876</td>\n      <td>Ecole Maternelle Anne de Beaujeu</td>\n      <td>58 rue de la Liberté</td>\n      <td>69400.0</td>\n      <td>Villefranche-sur-Saône</td>\n      <td>Ecole Maternelle Anne de Beaujeu -  Villefranc...</td>\n    </tr>\n    <tr>\n      <th>761802</th>\n      <td>62</td>\n      <td>Pas-de-Calais</td>\n      <td>6</td>\n      <td>6ème circonscription</td>\n      <td>566</td>\n      <td>Menneville</td>\n      <td>0001</td>\n      <td>526</td>\n      <td>49</td>\n      <td>9.32</td>\n      <td>...</td>\n      <td>0</td>\n      <td>0.00</td>\n      <td>0.00</td>\n      <td>62566</td>\n      <td>50.674481, 1.861362</td>\n      <td>Ecole</td>\n      <td>Rue de l'école</td>\n      <td>62240.0</td>\n      <td>Menneville</td>\n      <td>Ecole -  Menneville</td>\n    </tr>\n    <tr>\n      <th>761803</th>\n      <td>51</td>\n      <td>Marne</td>\n      <td>1</td>\n      <td>1ère circonscription</td>\n      <td>454</td>\n      <td>Reims</td>\n      <td>0605</td>\n      <td>919</td>\n      <td>249</td>\n      <td>27.09</td>\n      <td>...</td>\n      <td>3</td>\n      <td>0.33</td>\n      <td>0.46</td>\n      <td>51454</td>\n      <td>49.270171, 4.01713</td>\n      <td>Ecole</td>\n      <td>15 rue Roger Jardelle</td>\n      <td>51100.0</td>\n      <td>Reims</td>\n      <td>Ecole -  Reims</td>\n    </tr>\n    <tr>\n      <th>761804</th>\n      <td>76</td>\n      <td>Seine-Maritime</td>\n      <td>10</td>\n      <td>10ème circonscription</td>\n      <td>225</td>\n      <td>Ecretteville-lès-Baons</td>\n      <td>0001</td>\n      <td>305</td>\n      <td>56</td>\n      <td>18.36</td>\n      <td>...</td>\n      <td>1</td>\n      <td>0.33</td>\n      <td>0.41</td>\n      <td>76225</td>\n      <td>49.625773, 0.671146</td>\n      <td>Mairie</td>\n      <td>1 rue des Troubadours</td>\n      <td>76190.0</td>\n      <td>Écretteville-lès-Baons</td>\n      <td>Mairie -  Écretteville-lès-Baons</td>\n    </tr>\n  </tbody>\n</table>\n<p>488158 rows × 35 columns</p>\n</div>"
     },
     "execution_count": 13,
     "metadata": {},
     "output_type": "execute_result"
    }
   ],
   "source": [
    "# Nettoyage des données\n",
    "taux_chomage = taux_chomage.dropna()\n",
    "taux_chomage"
   ],
   "metadata": {
    "collapsed": false,
    "ExecuteTime": {
     "end_time": "2024-02-18T18:49:58.400516Z",
     "start_time": "2024-02-18T18:49:57.948794Z"
    }
   },
   "id": "c735d8d89518d655",
   "execution_count": 13
  },
  {
   "cell_type": "code",
   "outputs": [
    {
     "data": {
      "text/plain": "        Code_departement           Nom_departement  Part d'immigrés   \\\n0                     01                      Ain               11.0   \n1                     02                    Aisne                5.0   \n2                     03                   Allier                5.8   \n3                     04  Alpes-de-Haute-Provence                8.1   \n4                     05             Hautes-Alpes                5.9   \n..                   ...                       ...               ...   \n92                    92           Hauts-de-Seine               19.0   \n93                    93        Seine-Saint-Denis               31.6   \n94                    94             Val-de-Marne               22.7   \n95                    95               Val-d'Oise               21.1   \n96  France hors Mayotte                        NaN              10.1   \n\n   Part_descendants_immigres  \n0                       14.1  \n1                        5.7  \n2                        5.7  \n3                         ns  \n4                        8.5  \n..                       ...  \n92                      17.9  \n93                      31.6  \n94                      18.5  \n95                      25.5  \n96                      11.2  \n\n[97 rows x 4 columns]",
      "text/html": "<div>\n<style scoped>\n    .dataframe tbody tr th:only-of-type {\n        vertical-align: middle;\n    }\n\n    .dataframe tbody tr th {\n        vertical-align: top;\n    }\n\n    .dataframe thead th {\n        text-align: right;\n    }\n</style>\n<table border=\"1\" class=\"dataframe\">\n  <thead>\n    <tr style=\"text-align: right;\">\n      <th></th>\n      <th>Code_departement</th>\n      <th>Nom_departement</th>\n      <th>Part d'immigrés</th>\n      <th>Part_descendants_immigres</th>\n    </tr>\n  </thead>\n  <tbody>\n    <tr>\n      <th>0</th>\n      <td>01</td>\n      <td>Ain</td>\n      <td>11.0</td>\n      <td>14.1</td>\n    </tr>\n    <tr>\n      <th>1</th>\n      <td>02</td>\n      <td>Aisne</td>\n      <td>5.0</td>\n      <td>5.7</td>\n    </tr>\n    <tr>\n      <th>2</th>\n      <td>03</td>\n      <td>Allier</td>\n      <td>5.8</td>\n      <td>5.7</td>\n    </tr>\n    <tr>\n      <th>3</th>\n      <td>04</td>\n      <td>Alpes-de-Haute-Provence</td>\n      <td>8.1</td>\n      <td>ns</td>\n    </tr>\n    <tr>\n      <th>4</th>\n      <td>05</td>\n      <td>Hautes-Alpes</td>\n      <td>5.9</td>\n      <td>8.5</td>\n    </tr>\n    <tr>\n      <th>...</th>\n      <td>...</td>\n      <td>...</td>\n      <td>...</td>\n      <td>...</td>\n    </tr>\n    <tr>\n      <th>92</th>\n      <td>92</td>\n      <td>Hauts-de-Seine</td>\n      <td>19.0</td>\n      <td>17.9</td>\n    </tr>\n    <tr>\n      <th>93</th>\n      <td>93</td>\n      <td>Seine-Saint-Denis</td>\n      <td>31.6</td>\n      <td>31.6</td>\n    </tr>\n    <tr>\n      <th>94</th>\n      <td>94</td>\n      <td>Val-de-Marne</td>\n      <td>22.7</td>\n      <td>18.5</td>\n    </tr>\n    <tr>\n      <th>95</th>\n      <td>95</td>\n      <td>Val-d'Oise</td>\n      <td>21.1</td>\n      <td>25.5</td>\n    </tr>\n    <tr>\n      <th>96</th>\n      <td>France hors Mayotte</td>\n      <td>NaN</td>\n      <td>10.1</td>\n      <td>11.2</td>\n    </tr>\n  </tbody>\n</table>\n<p>97 rows × 4 columns</p>\n</div>"
     },
     "execution_count": 33,
     "metadata": {},
     "output_type": "execute_result"
    }
   ],
   "source": [
    "immigres_deptmt = pd.read_excel(\"../../data/raw/2021_2022_immigre_departement.xlsx\")\n",
    "immigres_deptmt_processed = pd.read_csv(\"../../data/processed/immigres_et_descendants_par_departement_2020_2021.csv\")\n",
    "immigres_deptmt_processed"
   ],
   "metadata": {
    "collapsed": false,
    "ExecuteTime": {
     "end_time": "2024-02-18T20:19:59.828523Z",
     "start_time": "2024-02-18T20:19:59.744299Z"
    }
   },
   "id": "8ae3ec8facd040d8",
   "execution_count": 33
  },
  {
   "cell_type": "code",
   "outputs": [
    {
     "data": {
      "text/plain": "Index(['Code', 'Libellé', 'Nb de ménages fiscaux 2021',\n       'Part des revenus des activités non salariées dans le rev. disp. 2021',\n       'Médiane du niveau de vie 2021',\n       'Part des impôts dans le rev. disp. 2021',\n       '1er décile du niv. de vie 2021', '9e décile du niv. de vie 2021',\n       'Part des minima sociaux dans le rev. disp. 2021',\n       'Part des prestations familiales dans le rev. disp. 2021',\n       'Part des revenus du patrimoine et autres dans le rev. disp. 2021',\n       'Part des prestations sociales dans le rev. disp. 2021',\n       'Part des prestations logement dans le rev. disp. 2021',\n       'Part des revenus d'activité dans le rev. disp. 2021',\n       'Part des salaires et traitements hors chômage dans le rev. disp. 2021',\n       'Part des indemnités de chômage dans le rev. disp. 2021'],\n      dtype='object')"
     },
     "execution_count": 42,
     "metadata": {},
     "output_type": "execute_result"
    }
   ],
   "source": [
    "standart_living = pd.read_excel(\"../../data/raw/2021_niveau_de_vie.xlsx\", skiprows=3)\n",
    "standart_living.columns"
   ],
   "metadata": {
    "collapsed": false,
    "ExecuteTime": {
     "end_time": "2024-02-18T20:45:50.961982Z",
     "start_time": "2024-02-18T20:45:50.935286Z"
    }
   },
   "id": "4eeb12a8558d7205",
   "execution_count": 42
  },
  {
   "cell_type": "code",
   "outputs": [
    {
     "data": {
      "text/plain": "    Code  Nb de ménages fiscaux 2021  Médiane du niveau de vie 2021  \\\n0      1                      270138                          24810   \n1      2                      224492                          20920   \n2      3                      160041                          21500   \n3      4                       72855                          21790   \n4      5                       65683                          22010   \n..   ...                         ...                            ...   \n91    91                      520852                          25040   \n92    92                      695869                          29720   \n93    93                      603965                          19020   \n94    94                      570874                          24270   \n95    95                      472649                          23290   \n\n    Part des minima sociaux dans le rev. disp. 2021  \\\n0                                               1.4   \n1                                               3.6   \n2                                               3.4   \n3                                               2.7   \n4                                               2.5   \n..                                              ...   \n91                                              1.8   \n92                                              1.2   \n93                                              4.2   \n94                                              2.2   \n95                                              2.2   \n\n    Part des prestations familiales dans le rev. disp. 2021  \\\n0                                                 1.7         \n1                                                 2.6         \n2                                                 1.8         \n3                                                 1.6         \n4                                                 1.7         \n..                                                ...         \n91                                                2.2         \n92                                                1.1         \n93                                                3.5         \n94                                                1.9         \n95                                                2.6         \n\n    Part des prestations sociales dans le rev. disp. 2021  \\\n0                                                 3.8       \n1                                                 7.7       \n2                                                 6.5       \n3                                                 5.5       \n4                                                 5.2       \n..                                                ...       \n91                                                4.9       \n92                                                2.9       \n93                                                9.7       \n94                                                5.2       \n95                                                5.9       \n\n    Part des prestations logement dans le rev. disp. 2021  \\\n0                                                 0.7       \n1                                                 1.5       \n2                                                 1.3       \n3                                                 1.2       \n4                                                 1.0       \n..                                                ...       \n91                                                0.9       \n92                                                0.6       \n93                                                2.0       \n94                                                1.1       \n95                                                1.1       \n\n    Part des indemnités de chômage dans le rev. disp. 2021  \n0                                                 2.8       \n1                                                 3.0       \n2                                                 2.5       \n3                                                 3.1       \n4                                                 3.5       \n..                                                ...       \n91                                                2.9       \n92                                                2.9       \n93                                                4.4       \n94                                                3.2       \n95                                                3.4       \n\n[96 rows x 8 columns]",
      "text/html": "<div>\n<style scoped>\n    .dataframe tbody tr th:only-of-type {\n        vertical-align: middle;\n    }\n\n    .dataframe tbody tr th {\n        vertical-align: top;\n    }\n\n    .dataframe thead th {\n        text-align: right;\n    }\n</style>\n<table border=\"1\" class=\"dataframe\">\n  <thead>\n    <tr style=\"text-align: right;\">\n      <th></th>\n      <th>Code</th>\n      <th>Nb de ménages fiscaux 2021</th>\n      <th>Médiane du niveau de vie 2021</th>\n      <th>Part des minima sociaux dans le rev. disp. 2021</th>\n      <th>Part des prestations familiales dans le rev. disp. 2021</th>\n      <th>Part des prestations sociales dans le rev. disp. 2021</th>\n      <th>Part des prestations logement dans le rev. disp. 2021</th>\n      <th>Part des indemnités de chômage dans le rev. disp. 2021</th>\n    </tr>\n  </thead>\n  <tbody>\n    <tr>\n      <th>0</th>\n      <td>1</td>\n      <td>270138</td>\n      <td>24810</td>\n      <td>1.4</td>\n      <td>1.7</td>\n      <td>3.8</td>\n      <td>0.7</td>\n      <td>2.8</td>\n    </tr>\n    <tr>\n      <th>1</th>\n      <td>2</td>\n      <td>224492</td>\n      <td>20920</td>\n      <td>3.6</td>\n      <td>2.6</td>\n      <td>7.7</td>\n      <td>1.5</td>\n      <td>3.0</td>\n    </tr>\n    <tr>\n      <th>2</th>\n      <td>3</td>\n      <td>160041</td>\n      <td>21500</td>\n      <td>3.4</td>\n      <td>1.8</td>\n      <td>6.5</td>\n      <td>1.3</td>\n      <td>2.5</td>\n    </tr>\n    <tr>\n      <th>3</th>\n      <td>4</td>\n      <td>72855</td>\n      <td>21790</td>\n      <td>2.7</td>\n      <td>1.6</td>\n      <td>5.5</td>\n      <td>1.2</td>\n      <td>3.1</td>\n    </tr>\n    <tr>\n      <th>4</th>\n      <td>5</td>\n      <td>65683</td>\n      <td>22010</td>\n      <td>2.5</td>\n      <td>1.7</td>\n      <td>5.2</td>\n      <td>1.0</td>\n      <td>3.5</td>\n    </tr>\n    <tr>\n      <th>...</th>\n      <td>...</td>\n      <td>...</td>\n      <td>...</td>\n      <td>...</td>\n      <td>...</td>\n      <td>...</td>\n      <td>...</td>\n      <td>...</td>\n    </tr>\n    <tr>\n      <th>91</th>\n      <td>91</td>\n      <td>520852</td>\n      <td>25040</td>\n      <td>1.8</td>\n      <td>2.2</td>\n      <td>4.9</td>\n      <td>0.9</td>\n      <td>2.9</td>\n    </tr>\n    <tr>\n      <th>92</th>\n      <td>92</td>\n      <td>695869</td>\n      <td>29720</td>\n      <td>1.2</td>\n      <td>1.1</td>\n      <td>2.9</td>\n      <td>0.6</td>\n      <td>2.9</td>\n    </tr>\n    <tr>\n      <th>93</th>\n      <td>93</td>\n      <td>603965</td>\n      <td>19020</td>\n      <td>4.2</td>\n      <td>3.5</td>\n      <td>9.7</td>\n      <td>2.0</td>\n      <td>4.4</td>\n    </tr>\n    <tr>\n      <th>94</th>\n      <td>94</td>\n      <td>570874</td>\n      <td>24270</td>\n      <td>2.2</td>\n      <td>1.9</td>\n      <td>5.2</td>\n      <td>1.1</td>\n      <td>3.2</td>\n    </tr>\n    <tr>\n      <th>95</th>\n      <td>95</td>\n      <td>472649</td>\n      <td>23290</td>\n      <td>2.2</td>\n      <td>2.6</td>\n      <td>5.9</td>\n      <td>1.1</td>\n      <td>3.4</td>\n    </tr>\n  </tbody>\n</table>\n<p>96 rows × 8 columns</p>\n</div>"
     },
     "execution_count": 44,
     "metadata": {},
     "output_type": "execute_result"
    }
   ],
   "source": [
    "standart_living = pd.read_csv(\"../../data/processed/niveau_de_vie_par_departement_2021.csv\")\n",
    "\n",
    "standart_living"
   ],
   "metadata": {
    "collapsed": false,
    "ExecuteTime": {
     "end_time": "2024-02-18T20:59:03.146274Z",
     "start_time": "2024-02-18T20:59:03.129641Z"
    }
   },
   "id": "13b9199c279ab450",
   "execution_count": 44
  },
  {
   "cell_type": "code",
   "outputs": [],
   "source": [],
   "metadata": {
    "collapsed": false
   },
   "id": "b67b3f4832db3e88"
  }
 ],
 "metadata": {
  "kernelspec": {
   "display_name": "Python 3",
   "language": "python",
   "name": "python3"
  },
  "language_info": {
   "codemirror_mode": {
    "name": "ipython",
    "version": 2
   },
   "file_extension": ".py",
   "mimetype": "text/x-python",
   "name": "python",
   "nbconvert_exporter": "python",
   "pygments_lexer": "ipython2",
   "version": "2.7.6"
  }
 },
 "nbformat": 4,
 "nbformat_minor": 5
}
