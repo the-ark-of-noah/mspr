{
 "cells": [
  {
   "cell_type": "code",
   "execution_count": 1,
   "id": "initial_id",
   "metadata": {
    "collapsed": true,
    "ExecuteTime": {
     "end_time": "2024-03-01T15:36:36.897617Z",
     "start_time": "2024-03-01T15:36:36.428877Z"
    }
   },
   "outputs": [],
   "source": [
    "import pandas as pd"
   ]
  },
  {
   "cell_type": "code",
   "outputs": [
    {
     "name": "stdout",
     "output_type": "stream",
     "text": [
      "Index(['code_postal', 'departement', 'Libellé de la commune', 'Code du b.vote',\n",
      "       'Inscrits', 'Abstentions', '% Abs/Ins', 'Votants', '% Vot/Ins',\n",
      "       'Blancs', '% Blancs/Ins', '% Blancs/Vot', 'Nuls', '% Nuls/Ins',\n",
      "       '% Nuls/Vot', 'Exprimés', '% Exp/Ins', '% Exp/Vot', 'Sexe 1', 'Parti 1',\n",
      "       'Voix 1', '% Voix/Ins 1', '% Voix/Exp 1', 'Sexe 2', 'Parti 2', 'Voix 2',\n",
      "       '% Voix/Ins 2', '% Voix/Exp 2', 'Sexe 3', 'Parti 3', 'Voix 3',\n",
      "       '% Voix/Ins 3', '% Voix/Exp 3', 'Sexe 4', 'Parti 4', 'Voix 4',\n",
      "       '% Voix/Ins 4', '% Voix/Exp 4', 'Sexe 5', 'Parti 5', 'Voix 5',\n",
      "       '% Voix/Ins 5', '% Voix/Exp 5', 'Sexe 6', 'Parti 6', 'Voix 6',\n",
      "       '% Voix/Ins 6', '% Voix/Exp 6', 'Sexe 7', 'Parti 7', 'Voix 7',\n",
      "       '% Voix/Ins 7', '% Voix/Exp 7', 'Sexe 8', 'Parti 8', 'Voix 8',\n",
      "       '% Voix/Ins 8', '% Voix/Exp 8', 'Sexe 9', 'Parti 9', 'Voix 9',\n",
      "       '% Voix/Ins 9', '% Voix/Exp 9', 'Sexe 10', 'Parti 10', 'Voix 10',\n",
      "       '% Voix/Ins 10', '% Voix/Exp 10', 'Sexe 11', 'Parti 11', 'Voix 11',\n",
      "       '% Voix/Ins 11', '% Voix/Exp 11', 'Sexe 12', 'Parti 12', 'Voix 12',\n",
      "       '% Voix/Ins 12', '% Voix/Exp 12'],\n",
      "      dtype='object')\n"
     ]
    },
    {
     "name": "stderr",
     "output_type": "stream",
     "text": [
      "/var/folders/00/t_t93b0n0wx8m9fcms_xg6640000gn/T/ipykernel_38676/3598652570.py:2: DtypeWarning: Columns (3) have mixed types. Specify dtype option on import or set low_memory=False.\n",
      "  cleaned_2022_t1 = pd.read_csv(\"../../data/processed/2022_elections_tour_1_cleaned.csv\")\n"
     ]
    }
   ],
   "source": [
    "# Visualisation des données\n",
    "cleaned_2022_t1 = pd.read_csv(\"../../data/processed/2022_elections_tour_1_cleaned.csv\")\n",
    "print(cleaned_2022_t1.columns)"
   ],
   "metadata": {
    "collapsed": false,
    "ExecuteTime": {
     "end_time": "2024-03-01T15:36:37.315590Z",
     "start_time": "2024-03-01T15:36:36.897298Z"
    }
   },
   "id": "2a4279f36a7e3a8a",
   "execution_count": 2
  },
  {
   "cell_type": "code",
   "outputs": [
    {
     "name": "stderr",
     "output_type": "stream",
     "text": [
      "/var/folders/00/t_t93b0n0wx8m9fcms_xg6640000gn/T/ipykernel_38676/1157136583.py:1: DtypeWarning: Columns (3) have mixed types. Specify dtype option on import or set low_memory=False.\n",
      "  cleaned_2022_t2 = pd.read_csv(\"../../data/processed/2022_elections_tour_2_cleaned.csv\")\n"
     ]
    },
    {
     "name": "stdout",
     "output_type": "stream",
     "text": [
      "Index(['code_postal', 'departement', 'Libellé de la commune', 'Code du b.vote',\n",
      "       'Inscrits', 'Abstentions', '% Abs/Ins', 'Votants', '% Vot/Ins',\n",
      "       'Blancs', '% Blancs/Ins', '% Blancs/Vot', 'Nuls', '% Nuls/Ins',\n",
      "       '% Nuls/Vot', 'Exprimés', '% Exp/Ins', '% Exp/Vot', 'Sexe 1', 'Parti 1',\n",
      "       'Voix 1', '% Voix/Ins 1', '% Voix/Exp 1', 'Sexe 2', 'Parti 2', 'Voix 2',\n",
      "       '% Voix/Ins 2', '% Voix/Exp 2'],\n",
      "      dtype='object')\n"
     ]
    }
   ],
   "source": [
    "cleaned_2022_t2 = pd.read_csv(\"../../data/processed/2022_elections_tour_2_cleaned.csv\")\n",
    "print(cleaned_2022_t2.columns)"
   ],
   "metadata": {
    "collapsed": false,
    "ExecuteTime": {
     "end_time": "2024-03-01T15:36:37.467642Z",
     "start_time": "2024-03-01T15:36:37.315384Z"
    }
   },
   "id": "152b8c45f46fec23",
   "execution_count": 3
  },
  {
   "cell_type": "code",
   "outputs": [
    {
     "name": "stdout",
     "output_type": "stream",
     "text": [
      "Index(['Code du département', 'Département', 'Code de la circonscription',\n",
      "       'Circonscription', 'Code de la commune', 'Commune', 'Bureau de vote',\n",
      "       'Inscrits', 'Abstentions', '% Abs/Ins', 'Votants', '% Vot/Ins',\n",
      "       'Blancs', '% Blancs/Ins', '% Blancs/Vot', 'Nuls', '% Nuls/Ins',\n",
      "       '% Nuls/Vot', 'Exprimés', '% Exp/Ins', '% Exp/Vot', 'N°Panneau', 'Sexe',\n",
      "       'Nom', 'Prénom', 'Voix', '% Voix/Ins', '% Voix/Exp', 'Code Insee',\n",
      "       'Coordonnées', 'Nom Bureau Vote', 'Adresse', 'Code Postal', 'Ville',\n",
      "       'uniq_bdv'],\n",
      "      dtype='object')\n"
     ]
    }
   ],
   "source": [
    "burvot_2017 = pd.read_csv(\"../../data/raw/2017_resultats_par_burvot_tour_1.csv\", sep=';')\n",
    "print(burvot_2017.columns)"
   ],
   "metadata": {
    "collapsed": false,
    "ExecuteTime": {
     "end_time": "2024-03-01T15:36:40.398612Z",
     "start_time": "2024-03-01T15:36:37.469392Z"
    }
   },
   "id": "b247f2ba919d3c97",
   "execution_count": 4
  },
  {
   "cell_type": "code",
   "outputs": [
    {
     "name": "stdout",
     "output_type": "stream",
     "text": [
      "Index(['Code du département', 'Département', 'Code de la circonscription',\n",
      "       'Circonscription', 'Code de la commune', 'Commune', 'Bureau de vote',\n",
      "       'Inscrits', 'Abstentions', '% Abs/Ins', 'Votants', '% Vot/Ins',\n",
      "       'Blancs', '% Blancs/Ins', '% Blancs/Vot', 'Nuls', '% Nuls/Ins',\n",
      "       '% Nuls/Vot', 'Exprimés', '% Exp/Ins', '% Exp/Vot', 'N°Panneau', 'Sexe',\n",
      "       'Nom', 'Prénom', 'Voix', '% Voix/Ins', '% Voix/Exp', 'Code Insee',\n",
      "       'Coordonnées', 'Nom Bureau Vote', 'Adresse', 'Code Postal', 'Ville',\n",
      "       'uniq_bdv'],\n",
      "      dtype='object')\n"
     ]
    }
   ],
   "source": [
    "burvot_2017_2 = pd.read_csv(\"../../data/raw/2017_resultats_par_burvot_tour_2.csv\", sep=';')\n",
    "print(burvot_2017_2.columns)"
   ],
   "metadata": {
    "collapsed": false,
    "ExecuteTime": {
     "end_time": "2024-03-01T15:36:41.109320Z",
     "start_time": "2024-03-01T15:36:40.396652Z"
    }
   },
   "id": "78072f6eb657db4f",
   "execution_count": 5
  },
  {
   "cell_type": "code",
   "outputs": [
    {
     "name": "stdout",
     "output_type": "stream",
     "text": [
      "Index(['code_postal', 'departement', 'Part_immigres',\n",
      "       'Part_descendants_immigres'],\n",
      "      dtype='object')\n"
     ]
    }
   ],
   "source": [
    "immigres_deptmt_processed = pd.read_csv(\"../../data/processed/immigres_et_descendants_par_departement_2020_2021.csv\")\n",
    "print(immigres_deptmt_processed.columns)"
   ],
   "metadata": {
    "collapsed": false,
    "ExecuteTime": {
     "end_time": "2024-03-01T15:36:41.119785Z",
     "start_time": "2024-03-01T15:36:41.109546Z"
    }
   },
   "id": "8ae3ec8facd040d8",
   "execution_count": 6
  },
  {
   "cell_type": "code",
   "outputs": [
    {
     "name": "stdout",
     "output_type": "stream",
     "text": [
      "Index(['classe', 'annee', 'code_postal', 'code_region', 'faits',\n",
      "       'tauxpourcent', 'departement'],\n",
      "      dtype='object')\n"
     ]
    }
   ],
   "source": [
    "delinquance_cleaned = pd.read_csv(\"../../data/processed/delinquance_cleaned.csv\")\n",
    "print(delinquance_cleaned.columns)"
   ],
   "metadata": {
    "collapsed": false,
    "ExecuteTime": {
     "end_time": "2024-03-01T15:36:41.155002Z",
     "start_time": "2024-03-01T15:36:41.117408Z"
    }
   },
   "id": "4eeb12a8558d7205",
   "execution_count": 7
  },
  {
   "cell_type": "code",
   "outputs": [
    {
     "name": "stdout",
     "output_type": "stream",
     "text": [
      "Index(['code_postal', 'Nb de ménages fiscaux 2021',\n",
      "       'Médiane du niveau de vie 2021',\n",
      "       'Part des minima sociaux dans le rev. disp. 2021',\n",
      "       'Part des prestations familiales dans le rev. disp. 2021',\n",
      "       'Part des prestations sociales dans le rev. disp. 2021',\n",
      "       'Part des prestations logement dans le rev. disp. 2021',\n",
      "       'Part des indemnités de chômage dans le rev. disp. 2021',\n",
      "       'departement'],\n",
      "      dtype='object')\n"
     ]
    }
   ],
   "source": [
    "standart_living = pd.read_csv(\"../../data/processed/niveau_de_vie_par_departement_2021.csv\")\n",
    "print(standart_living.columns)"
   ],
   "metadata": {
    "collapsed": false,
    "ExecuteTime": {
     "end_time": "2024-03-01T15:36:41.156290Z",
     "start_time": "2024-03-01T15:36:41.137496Z"
    }
   },
   "id": "13b9199c279ab450",
   "execution_count": 8
  },
  {
   "cell_type": "code",
   "outputs": [
    {
     "name": "stdout",
     "output_type": "stream",
     "text": [
      "Index(['code_postal', 'departement', 'an', 'dens_pop'], dtype='object')\n"
     ]
    }
   ],
   "source": [
    "density_pop = pd.read_csv(\"../../data/processed/densite_population_depuis_1968.csv\")\n",
    "print(density_pop.columns)"
   ],
   "metadata": {
    "collapsed": false,
    "ExecuteTime": {
     "end_time": "2024-03-01T15:36:41.157702Z",
     "start_time": "2024-03-01T15:36:41.141465Z"
    }
   },
   "id": "b67b3f4832db3e88",
   "execution_count": 9
  },
  {
   "cell_type": "code",
   "outputs": [
    {
     "name": "stdout",
     "output_type": "stream",
     "text": [
      "Index(['departement', '2022', '2005', '2000', 'code_departement'], dtype='object')\n"
     ]
    }
   ],
   "source": [
    "pib_habitant = pd.read_csv(\"../../data/processed/pib_par_habitant.csv\")\n",
    "print(pib_habitant.columns)"
   ],
   "metadata": {
    "collapsed": false,
    "ExecuteTime": {
     "end_time": "2024-03-01T15:36:41.159137Z",
     "start_time": "2024-03-01T15:36:41.150994Z"
    }
   },
   "id": "48f1eade041e0f6f",
   "execution_count": 10
  },
  {
   "cell_type": "code",
   "outputs": [
    {
     "data": {
      "text/plain": "                departement  code_departement  avg_1982  avg_1983  avg_1984  \\\n0                       ain                 1      3.95      4.35      5.22   \n1                     aisne                 2      8.45      8.75     10.22   \n2                    allier                 3      7.55      7.90     10.20   \n3   alpes-de-haute-provence                 4      5.72      6.28      7.10   \n4              hautes-alpes                 5      5.03      5.98      6.75   \n..                      ...               ...       ...       ...       ...   \n91                  essonne                91      5.32      5.25      5.72   \n92           hauts-de-seine                92      5.07      5.10      5.90   \n93        seine-saint-denis                93      7.05      7.02      8.05   \n94             val-de-marne                94      5.65      5.52      6.42   \n95               val-d'oise                95      5.42      5.67      6.60   \n\n    avg_1985  avg_1986  avg_1987  avg_1988  avg_1989  ...  avg_2014  avg_2015  \\\n0       5.48      5.38      5.32      4.92      4.35  ...      7.08      7.35   \n1      10.48     10.45     10.50     10.23      9.35  ...     13.88     13.88   \n2      10.60     10.78     10.95     10.58     10.05  ...     10.27     10.58   \n3       7.60      7.48      7.12      6.90      6.70  ...     11.23     11.32   \n4       6.75      6.78      6.70      6.65      6.72  ...      9.20      9.45   \n..       ...       ...       ...       ...       ...  ...       ...       ...   \n91      5.93      5.88      5.88      5.52      4.92  ...      7.52      7.70   \n92      6.65      6.95      7.18      6.72      6.02  ...      7.78      7.85   \n93      8.80      9.28      9.50      9.35      8.68  ...     12.98     13.08   \n94      6.90      7.32      7.52      7.10      6.38  ...      8.90      8.98   \n95      7.22      7.40      7.50      7.40      6.55  ...     10.12     10.28   \n\n    avg_2016  avg_2017  avg_2018  avg_2019  avg_2020  avg_2021  avg_2022  \\\n0       7.35      6.75      6.30      6.05      6.07      5.95      5.45   \n1      13.62     13.00     12.40     11.68     10.95     10.95     10.38   \n2      10.38      9.68      9.35      8.90      8.48      8.15      7.62   \n3      11.05     10.70     10.42      9.75      9.10      8.82      8.22   \n4       9.25      8.70      8.45      7.98      7.70      7.93      6.78   \n..       ...       ...       ...       ...       ...       ...       ...   \n91      7.65      7.22      7.00      6.62      6.65      6.72      6.38   \n92      7.55      7.08      6.88      6.50      6.38      6.55      5.92   \n93     12.73     11.98     11.65     10.92     10.60     10.90     10.23   \n94      8.83      8.38      8.05      7.45      7.45      7.70      7.18   \n95     10.07      9.52      9.18      8.50      8.45      8.70      8.07   \n\n    avg_2023  \n0       5.47  \n1      10.40  \n2       7.70  \n3       8.10  \n4       6.60  \n..       ...  \n91      6.30  \n92      5.73  \n93     10.13  \n94      7.03  \n95      7.93  \n\n[96 rows x 44 columns]",
      "text/html": "<div>\n<style scoped>\n    .dataframe tbody tr th:only-of-type {\n        vertical-align: middle;\n    }\n\n    .dataframe tbody tr th {\n        vertical-align: top;\n    }\n\n    .dataframe thead th {\n        text-align: right;\n    }\n</style>\n<table border=\"1\" class=\"dataframe\">\n  <thead>\n    <tr style=\"text-align: right;\">\n      <th></th>\n      <th>departement</th>\n      <th>code_departement</th>\n      <th>avg_1982</th>\n      <th>avg_1983</th>\n      <th>avg_1984</th>\n      <th>avg_1985</th>\n      <th>avg_1986</th>\n      <th>avg_1987</th>\n      <th>avg_1988</th>\n      <th>avg_1989</th>\n      <th>...</th>\n      <th>avg_2014</th>\n      <th>avg_2015</th>\n      <th>avg_2016</th>\n      <th>avg_2017</th>\n      <th>avg_2018</th>\n      <th>avg_2019</th>\n      <th>avg_2020</th>\n      <th>avg_2021</th>\n      <th>avg_2022</th>\n      <th>avg_2023</th>\n    </tr>\n  </thead>\n  <tbody>\n    <tr>\n      <th>0</th>\n      <td>ain</td>\n      <td>1</td>\n      <td>3.95</td>\n      <td>4.35</td>\n      <td>5.22</td>\n      <td>5.48</td>\n      <td>5.38</td>\n      <td>5.32</td>\n      <td>4.92</td>\n      <td>4.35</td>\n      <td>...</td>\n      <td>7.08</td>\n      <td>7.35</td>\n      <td>7.35</td>\n      <td>6.75</td>\n      <td>6.30</td>\n      <td>6.05</td>\n      <td>6.07</td>\n      <td>5.95</td>\n      <td>5.45</td>\n      <td>5.47</td>\n    </tr>\n    <tr>\n      <th>1</th>\n      <td>aisne</td>\n      <td>2</td>\n      <td>8.45</td>\n      <td>8.75</td>\n      <td>10.22</td>\n      <td>10.48</td>\n      <td>10.45</td>\n      <td>10.50</td>\n      <td>10.23</td>\n      <td>9.35</td>\n      <td>...</td>\n      <td>13.88</td>\n      <td>13.88</td>\n      <td>13.62</td>\n      <td>13.00</td>\n      <td>12.40</td>\n      <td>11.68</td>\n      <td>10.95</td>\n      <td>10.95</td>\n      <td>10.38</td>\n      <td>10.40</td>\n    </tr>\n    <tr>\n      <th>2</th>\n      <td>allier</td>\n      <td>3</td>\n      <td>7.55</td>\n      <td>7.90</td>\n      <td>10.20</td>\n      <td>10.60</td>\n      <td>10.78</td>\n      <td>10.95</td>\n      <td>10.58</td>\n      <td>10.05</td>\n      <td>...</td>\n      <td>10.27</td>\n      <td>10.58</td>\n      <td>10.38</td>\n      <td>9.68</td>\n      <td>9.35</td>\n      <td>8.90</td>\n      <td>8.48</td>\n      <td>8.15</td>\n      <td>7.62</td>\n      <td>7.70</td>\n    </tr>\n    <tr>\n      <th>3</th>\n      <td>alpes-de-haute-provence</td>\n      <td>4</td>\n      <td>5.72</td>\n      <td>6.28</td>\n      <td>7.10</td>\n      <td>7.60</td>\n      <td>7.48</td>\n      <td>7.12</td>\n      <td>6.90</td>\n      <td>6.70</td>\n      <td>...</td>\n      <td>11.23</td>\n      <td>11.32</td>\n      <td>11.05</td>\n      <td>10.70</td>\n      <td>10.42</td>\n      <td>9.75</td>\n      <td>9.10</td>\n      <td>8.82</td>\n      <td>8.22</td>\n      <td>8.10</td>\n    </tr>\n    <tr>\n      <th>4</th>\n      <td>hautes-alpes</td>\n      <td>5</td>\n      <td>5.03</td>\n      <td>5.98</td>\n      <td>6.75</td>\n      <td>6.75</td>\n      <td>6.78</td>\n      <td>6.70</td>\n      <td>6.65</td>\n      <td>6.72</td>\n      <td>...</td>\n      <td>9.20</td>\n      <td>9.45</td>\n      <td>9.25</td>\n      <td>8.70</td>\n      <td>8.45</td>\n      <td>7.98</td>\n      <td>7.70</td>\n      <td>7.93</td>\n      <td>6.78</td>\n      <td>6.60</td>\n    </tr>\n    <tr>\n      <th>...</th>\n      <td>...</td>\n      <td>...</td>\n      <td>...</td>\n      <td>...</td>\n      <td>...</td>\n      <td>...</td>\n      <td>...</td>\n      <td>...</td>\n      <td>...</td>\n      <td>...</td>\n      <td>...</td>\n      <td>...</td>\n      <td>...</td>\n      <td>...</td>\n      <td>...</td>\n      <td>...</td>\n      <td>...</td>\n      <td>...</td>\n      <td>...</td>\n      <td>...</td>\n      <td>...</td>\n    </tr>\n    <tr>\n      <th>91</th>\n      <td>essonne</td>\n      <td>91</td>\n      <td>5.32</td>\n      <td>5.25</td>\n      <td>5.72</td>\n      <td>5.93</td>\n      <td>5.88</td>\n      <td>5.88</td>\n      <td>5.52</td>\n      <td>4.92</td>\n      <td>...</td>\n      <td>7.52</td>\n      <td>7.70</td>\n      <td>7.65</td>\n      <td>7.22</td>\n      <td>7.00</td>\n      <td>6.62</td>\n      <td>6.65</td>\n      <td>6.72</td>\n      <td>6.38</td>\n      <td>6.30</td>\n    </tr>\n    <tr>\n      <th>92</th>\n      <td>hauts-de-seine</td>\n      <td>92</td>\n      <td>5.07</td>\n      <td>5.10</td>\n      <td>5.90</td>\n      <td>6.65</td>\n      <td>6.95</td>\n      <td>7.18</td>\n      <td>6.72</td>\n      <td>6.02</td>\n      <td>...</td>\n      <td>7.78</td>\n      <td>7.85</td>\n      <td>7.55</td>\n      <td>7.08</td>\n      <td>6.88</td>\n      <td>6.50</td>\n      <td>6.38</td>\n      <td>6.55</td>\n      <td>5.92</td>\n      <td>5.73</td>\n    </tr>\n    <tr>\n      <th>93</th>\n      <td>seine-saint-denis</td>\n      <td>93</td>\n      <td>7.05</td>\n      <td>7.02</td>\n      <td>8.05</td>\n      <td>8.80</td>\n      <td>9.28</td>\n      <td>9.50</td>\n      <td>9.35</td>\n      <td>8.68</td>\n      <td>...</td>\n      <td>12.98</td>\n      <td>13.08</td>\n      <td>12.73</td>\n      <td>11.98</td>\n      <td>11.65</td>\n      <td>10.92</td>\n      <td>10.60</td>\n      <td>10.90</td>\n      <td>10.23</td>\n      <td>10.13</td>\n    </tr>\n    <tr>\n      <th>94</th>\n      <td>val-de-marne</td>\n      <td>94</td>\n      <td>5.65</td>\n      <td>5.52</td>\n      <td>6.42</td>\n      <td>6.90</td>\n      <td>7.32</td>\n      <td>7.52</td>\n      <td>7.10</td>\n      <td>6.38</td>\n      <td>...</td>\n      <td>8.90</td>\n      <td>8.98</td>\n      <td>8.83</td>\n      <td>8.38</td>\n      <td>8.05</td>\n      <td>7.45</td>\n      <td>7.45</td>\n      <td>7.70</td>\n      <td>7.18</td>\n      <td>7.03</td>\n    </tr>\n    <tr>\n      <th>95</th>\n      <td>val-d'oise</td>\n      <td>95</td>\n      <td>5.42</td>\n      <td>5.67</td>\n      <td>6.60</td>\n      <td>7.22</td>\n      <td>7.40</td>\n      <td>7.50</td>\n      <td>7.40</td>\n      <td>6.55</td>\n      <td>...</td>\n      <td>10.12</td>\n      <td>10.28</td>\n      <td>10.07</td>\n      <td>9.52</td>\n      <td>9.18</td>\n      <td>8.50</td>\n      <td>8.45</td>\n      <td>8.70</td>\n      <td>8.07</td>\n      <td>7.93</td>\n    </tr>\n  </tbody>\n</table>\n<p>96 rows × 44 columns</p>\n</div>"
     },
     "execution_count": 20,
     "metadata": {},
     "output_type": "execute_result"
    }
   ],
   "source": [
    "moy_taux_chomage = pd.read_csv(\"../../data/processed/moyenne_taux_chomage_par_departement_1982_2023.csv\")\n",
    "moy_taux_chomage"
   ],
   "metadata": {
    "collapsed": false,
    "ExecuteTime": {
     "end_time": "2024-03-01T15:55:49.084521Z",
     "start_time": "2024-03-01T15:55:49.063400Z"
    }
   },
   "id": "cb17b2c4538d521b",
   "execution_count": 20
  },
  {
   "cell_type": "code",
   "outputs": [
    {
     "name": "stdout",
     "output_type": "stream",
     "text": [
      "Index(['code_postal', 'departement', 'annee', 'age', 'indicateur', 'valeurs'], dtype='object')\n"
     ]
    }
   ],
   "source": [
    "nv_edu = pd.read_csv(\"../../data/processed/niveau_education.csv\")\n",
    "print(nv_edu.columns)"
   ],
   "metadata": {
    "collapsed": false,
    "ExecuteTime": {
     "end_time": "2024-03-01T15:36:41.206156Z",
     "start_time": "2024-03-01T15:36:41.162966Z"
    }
   },
   "id": "9cb85743ee64e717",
   "execution_count": 12
  },
  {
   "cell_type": "code",
   "outputs": [
    {
     "name": "stdout",
     "output_type": "stream",
     "text": [
      "Index(['code_postal', 'departement', 'an', 'taux'], dtype='object')\n"
     ]
    }
   ],
   "source": [
    "pauvrete = pd.read_csv(\"../../data/processed/pauvreté_cleaned.csv\")\n",
    "print(pauvrete.columns)"
   ],
   "metadata": {
    "collapsed": false,
    "ExecuteTime": {
     "end_time": "2024-03-01T15:36:41.206639Z",
     "start_time": "2024-03-01T15:36:41.168075Z"
    }
   },
   "id": "8928cea54b79daa8",
   "execution_count": 13
  },
  {
   "cell_type": "code",
   "outputs": [
    {
     "name": "stdout",
     "output_type": "stream",
     "text": [
      "Index(['code_postal', 'departement', '2023',\n",
      "       'Part dans la population française (p) (en %)', '2020', '2015', '2010',\n",
      "       '1999'],\n",
      "      dtype='object')\n"
     ]
    }
   ],
   "source": [
    "pop_depart = pd.read_csv(\"../../data/processed/population_par_departement_1999_2023.csv\")\n",
    "print(pop_depart.columns)"
   ],
   "metadata": {
    "collapsed": false,
    "ExecuteTime": {
     "end_time": "2024-03-01T15:36:41.207174Z",
     "start_time": "2024-03-01T15:36:41.172162Z"
    }
   },
   "id": "9c6254f433bb4506",
   "execution_count": 14
  },
  {
   "cell_type": "code",
   "outputs": [
    {
     "name": "stdout",
     "output_type": "stream",
     "text": [
      "Index(['code_departement', 'departement', '65-99_2020', '60-99_2023',\n",
      "       '25-59_2023', '0-24_2023', '0-25_2020', '25-64_2020'],\n",
      "      dtype='object')\n"
     ]
    }
   ],
   "source": [
    "tranche_age = pd.read_csv(\"../../data/processed/tranche_age_cleaned.csv\")\n",
    "print(tranche_age.columns)"
   ],
   "metadata": {
    "collapsed": false,
    "ExecuteTime": {
     "end_time": "2024-03-01T15:36:41.207624Z",
     "start_time": "2024-03-01T15:36:41.177293Z"
    }
   },
   "id": "728113f1a1f1eba5",
   "execution_count": 15
  },
  {
   "cell_type": "code",
   "outputs": [],
   "source": [],
   "metadata": {
    "collapsed": false,
    "ExecuteTime": {
     "end_time": "2024-03-01T15:36:41.207935Z",
     "start_time": "2024-03-01T15:36:41.180767Z"
    }
   },
   "id": "257dce83b5e55448",
   "execution_count": 15
  }
 ],
 "metadata": {
  "kernelspec": {
   "display_name": "Python 3",
   "language": "python",
   "name": "python3"
  },
  "language_info": {
   "codemirror_mode": {
    "name": "ipython",
    "version": 2
   },
   "file_extension": ".py",
   "mimetype": "text/x-python",
   "name": "python",
   "nbconvert_exporter": "python",
   "pygments_lexer": "ipython2",
   "version": "2.7.6"
  }
 },
 "nbformat": 4,
 "nbformat_minor": 5
}
