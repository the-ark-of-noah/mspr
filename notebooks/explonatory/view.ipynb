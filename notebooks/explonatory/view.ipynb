{
 "cells": [
  {
   "cell_type": "code",
   "execution_count": 18,
   "id": "initial_id",
   "metadata": {
    "collapsed": true,
    "ExecuteTime": {
     "end_time": "2024-02-26T09:14:31.890411400Z",
     "start_time": "2024-02-26T09:14:31.859422100Z"
    }
   },
   "outputs": [],
   "source": [
    "import pandas as pd"
   ]
  },
  {
   "cell_type": "code",
   "outputs": [
    {
     "name": "stderr",
     "output_type": "stream",
     "text": [
      "C:\\Users\\erwan\\AppData\\Local\\Temp\\ipykernel_12428\\2682698792.py:2: DtypeWarning: Columns (3) have mixed types. Specify dtype option on import or set low_memory=False.\n",
      "  cleaned_2022_t1 = pd.read_csv(\"../../data/processed/2022_elections_tour_1_cleaned.csv\")\n"
     ]
    },
    {
     "data": {
      "text/plain": "       code_postal departement    Libellé de la commune Code du b.vote  \\\n0                1         Ain  L'Abergement-Clémenciat           0001   \n1                1         Ain    L'Abergement-de-Varey           0001   \n2                1         Ain        Ambérieu-en-Bugey           0001   \n3                1         Ain        Ambérieu-en-Bugey           0002   \n4                1         Ain        Ambérieu-en-Bugey           0003   \n...            ...         ...                      ...            ...   \n66888           95  Val-d'Oise          Villiers-le-Bel             11   \n66889           95  Val-d'Oise          Villiers-le-Bel             12   \n66890           95  Val-d'Oise          Villiers-le-Bel             13   \n66891           95  Val-d'Oise          Villiers-le-Sec              1   \n66892           95  Val-d'Oise      Wy-dit-Joli-Village              1   \n\n       Inscrits  Abstentions  % Abs/Ins  Votants  % Vot/Ins  Blancs  ...  \\\n0           645          108      16.74      537      83.26      16  ...   \n1           213           38      17.84      175      82.16       3  ...   \n2          1129          266      23.56      863      76.44      18  ...   \n3          1128          265      23.49      863      76.51      15  ...   \n4          1213          246      20.28      967      79.72      10  ...   \n...         ...          ...        ...      ...        ...     ...  ...   \n66888      1226          397      32.38      829      67.62       9  ...   \n66889       910          257      28.24      653      71.76       6  ...   \n66890       681          222      32.60      459      67.40       5  ...   \n66891       110           14      12.73       96      87.27       0  ...   \n66892       285           48      16.84      237      83.16       4  ...   \n\n       Sexe 11                       Parti 11  Voix 11  % Voix/Ins 11  \\\n0            M  Nouveau Parti Anticapitaliste        3           0.47   \n1            M  Nouveau Parti Anticapitaliste        3           1.41   \n2            M  Nouveau Parti Anticapitaliste        8           0.71   \n3            M  Nouveau Parti Anticapitaliste        4           0.35   \n4            M  Nouveau Parti Anticapitaliste        3           0.25   \n...        ...                            ...      ...            ...   \n66888        M  Nouveau Parti Anticapitaliste        6           0.49   \n66889        M  Nouveau Parti Anticapitaliste        3           0.33   \n66890        M  Nouveau Parti Anticapitaliste        3           0.44   \n66891        M  Nouveau Parti Anticapitaliste        1           0.91   \n66892        M  Nouveau Parti Anticapitaliste        2           0.70   \n\n       % Voix/Exp 11  Sexe 12          Parti 12  Voix 12 % Voix/Ins 12  \\\n0               0.58        M  Debout La France       21          3.26   \n1               1.75        M  Debout La France        0          0.00   \n2               0.95        M  Debout La France       13          1.15   \n3               0.48        M  Debout La France       20          1.77   \n4               0.32        M  Debout La France       19          1.57   \n...              ...      ...               ...      ...           ...   \n66888           0.73        M  Debout La France       14          1.14   \n66889           0.47        M  Debout La France        7          0.77   \n66890           0.67        M  Debout La France        3          0.44   \n66891           1.05        M  Debout La France        6          5.45   \n66892           0.87        M  Debout La France        8          2.81   \n\n      % Voix/Exp 12  \n0              4.04  \n1              0.00  \n2              1.55  \n3              2.38  \n4              2.00  \n...             ...  \n66888          1.71  \n66889          1.10  \n66890          0.67  \n66891          6.32  \n66892          3.46  \n\n[66893 rows x 78 columns]",
      "text/html": "<div>\n<style scoped>\n    .dataframe tbody tr th:only-of-type {\n        vertical-align: middle;\n    }\n\n    .dataframe tbody tr th {\n        vertical-align: top;\n    }\n\n    .dataframe thead th {\n        text-align: right;\n    }\n</style>\n<table border=\"1\" class=\"dataframe\">\n  <thead>\n    <tr style=\"text-align: right;\">\n      <th></th>\n      <th>code_postal</th>\n      <th>departement</th>\n      <th>Libellé de la commune</th>\n      <th>Code du b.vote</th>\n      <th>Inscrits</th>\n      <th>Abstentions</th>\n      <th>% Abs/Ins</th>\n      <th>Votants</th>\n      <th>% Vot/Ins</th>\n      <th>Blancs</th>\n      <th>...</th>\n      <th>Sexe 11</th>\n      <th>Parti 11</th>\n      <th>Voix 11</th>\n      <th>% Voix/Ins 11</th>\n      <th>% Voix/Exp 11</th>\n      <th>Sexe 12</th>\n      <th>Parti 12</th>\n      <th>Voix 12</th>\n      <th>% Voix/Ins 12</th>\n      <th>% Voix/Exp 12</th>\n    </tr>\n  </thead>\n  <tbody>\n    <tr>\n      <th>0</th>\n      <td>1</td>\n      <td>Ain</td>\n      <td>L'Abergement-Clémenciat</td>\n      <td>0001</td>\n      <td>645</td>\n      <td>108</td>\n      <td>16.74</td>\n      <td>537</td>\n      <td>83.26</td>\n      <td>16</td>\n      <td>...</td>\n      <td>M</td>\n      <td>Nouveau Parti Anticapitaliste</td>\n      <td>3</td>\n      <td>0.47</td>\n      <td>0.58</td>\n      <td>M</td>\n      <td>Debout La France</td>\n      <td>21</td>\n      <td>3.26</td>\n      <td>4.04</td>\n    </tr>\n    <tr>\n      <th>1</th>\n      <td>1</td>\n      <td>Ain</td>\n      <td>L'Abergement-de-Varey</td>\n      <td>0001</td>\n      <td>213</td>\n      <td>38</td>\n      <td>17.84</td>\n      <td>175</td>\n      <td>82.16</td>\n      <td>3</td>\n      <td>...</td>\n      <td>M</td>\n      <td>Nouveau Parti Anticapitaliste</td>\n      <td>3</td>\n      <td>1.41</td>\n      <td>1.75</td>\n      <td>M</td>\n      <td>Debout La France</td>\n      <td>0</td>\n      <td>0.00</td>\n      <td>0.00</td>\n    </tr>\n    <tr>\n      <th>2</th>\n      <td>1</td>\n      <td>Ain</td>\n      <td>Ambérieu-en-Bugey</td>\n      <td>0001</td>\n      <td>1129</td>\n      <td>266</td>\n      <td>23.56</td>\n      <td>863</td>\n      <td>76.44</td>\n      <td>18</td>\n      <td>...</td>\n      <td>M</td>\n      <td>Nouveau Parti Anticapitaliste</td>\n      <td>8</td>\n      <td>0.71</td>\n      <td>0.95</td>\n      <td>M</td>\n      <td>Debout La France</td>\n      <td>13</td>\n      <td>1.15</td>\n      <td>1.55</td>\n    </tr>\n    <tr>\n      <th>3</th>\n      <td>1</td>\n      <td>Ain</td>\n      <td>Ambérieu-en-Bugey</td>\n      <td>0002</td>\n      <td>1128</td>\n      <td>265</td>\n      <td>23.49</td>\n      <td>863</td>\n      <td>76.51</td>\n      <td>15</td>\n      <td>...</td>\n      <td>M</td>\n      <td>Nouveau Parti Anticapitaliste</td>\n      <td>4</td>\n      <td>0.35</td>\n      <td>0.48</td>\n      <td>M</td>\n      <td>Debout La France</td>\n      <td>20</td>\n      <td>1.77</td>\n      <td>2.38</td>\n    </tr>\n    <tr>\n      <th>4</th>\n      <td>1</td>\n      <td>Ain</td>\n      <td>Ambérieu-en-Bugey</td>\n      <td>0003</td>\n      <td>1213</td>\n      <td>246</td>\n      <td>20.28</td>\n      <td>967</td>\n      <td>79.72</td>\n      <td>10</td>\n      <td>...</td>\n      <td>M</td>\n      <td>Nouveau Parti Anticapitaliste</td>\n      <td>3</td>\n      <td>0.25</td>\n      <td>0.32</td>\n      <td>M</td>\n      <td>Debout La France</td>\n      <td>19</td>\n      <td>1.57</td>\n      <td>2.00</td>\n    </tr>\n    <tr>\n      <th>...</th>\n      <td>...</td>\n      <td>...</td>\n      <td>...</td>\n      <td>...</td>\n      <td>...</td>\n      <td>...</td>\n      <td>...</td>\n      <td>...</td>\n      <td>...</td>\n      <td>...</td>\n      <td>...</td>\n      <td>...</td>\n      <td>...</td>\n      <td>...</td>\n      <td>...</td>\n      <td>...</td>\n      <td>...</td>\n      <td>...</td>\n      <td>...</td>\n      <td>...</td>\n      <td>...</td>\n    </tr>\n    <tr>\n      <th>66888</th>\n      <td>95</td>\n      <td>Val-d'Oise</td>\n      <td>Villiers-le-Bel</td>\n      <td>11</td>\n      <td>1226</td>\n      <td>397</td>\n      <td>32.38</td>\n      <td>829</td>\n      <td>67.62</td>\n      <td>9</td>\n      <td>...</td>\n      <td>M</td>\n      <td>Nouveau Parti Anticapitaliste</td>\n      <td>6</td>\n      <td>0.49</td>\n      <td>0.73</td>\n      <td>M</td>\n      <td>Debout La France</td>\n      <td>14</td>\n      <td>1.14</td>\n      <td>1.71</td>\n    </tr>\n    <tr>\n      <th>66889</th>\n      <td>95</td>\n      <td>Val-d'Oise</td>\n      <td>Villiers-le-Bel</td>\n      <td>12</td>\n      <td>910</td>\n      <td>257</td>\n      <td>28.24</td>\n      <td>653</td>\n      <td>71.76</td>\n      <td>6</td>\n      <td>...</td>\n      <td>M</td>\n      <td>Nouveau Parti Anticapitaliste</td>\n      <td>3</td>\n      <td>0.33</td>\n      <td>0.47</td>\n      <td>M</td>\n      <td>Debout La France</td>\n      <td>7</td>\n      <td>0.77</td>\n      <td>1.10</td>\n    </tr>\n    <tr>\n      <th>66890</th>\n      <td>95</td>\n      <td>Val-d'Oise</td>\n      <td>Villiers-le-Bel</td>\n      <td>13</td>\n      <td>681</td>\n      <td>222</td>\n      <td>32.60</td>\n      <td>459</td>\n      <td>67.40</td>\n      <td>5</td>\n      <td>...</td>\n      <td>M</td>\n      <td>Nouveau Parti Anticapitaliste</td>\n      <td>3</td>\n      <td>0.44</td>\n      <td>0.67</td>\n      <td>M</td>\n      <td>Debout La France</td>\n      <td>3</td>\n      <td>0.44</td>\n      <td>0.67</td>\n    </tr>\n    <tr>\n      <th>66891</th>\n      <td>95</td>\n      <td>Val-d'Oise</td>\n      <td>Villiers-le-Sec</td>\n      <td>1</td>\n      <td>110</td>\n      <td>14</td>\n      <td>12.73</td>\n      <td>96</td>\n      <td>87.27</td>\n      <td>0</td>\n      <td>...</td>\n      <td>M</td>\n      <td>Nouveau Parti Anticapitaliste</td>\n      <td>1</td>\n      <td>0.91</td>\n      <td>1.05</td>\n      <td>M</td>\n      <td>Debout La France</td>\n      <td>6</td>\n      <td>5.45</td>\n      <td>6.32</td>\n    </tr>\n    <tr>\n      <th>66892</th>\n      <td>95</td>\n      <td>Val-d'Oise</td>\n      <td>Wy-dit-Joli-Village</td>\n      <td>1</td>\n      <td>285</td>\n      <td>48</td>\n      <td>16.84</td>\n      <td>237</td>\n      <td>83.16</td>\n      <td>4</td>\n      <td>...</td>\n      <td>M</td>\n      <td>Nouveau Parti Anticapitaliste</td>\n      <td>2</td>\n      <td>0.70</td>\n      <td>0.87</td>\n      <td>M</td>\n      <td>Debout La France</td>\n      <td>8</td>\n      <td>2.81</td>\n      <td>3.46</td>\n    </tr>\n  </tbody>\n</table>\n<p>66893 rows × 78 columns</p>\n</div>"
     },
     "execution_count": 19,
     "metadata": {},
     "output_type": "execute_result"
    }
   ],
   "source": [
    "# Visualisation des données\n",
    "cleaned_2022_t1 = pd.read_csv(\"../../data/processed/2022_elections_tour_1_cleaned.csv\")\n",
    "cleaned_2022_t1"
   ],
   "metadata": {
    "collapsed": false,
    "ExecuteTime": {
     "end_time": "2024-02-26T09:14:34.147655600Z",
     "start_time": "2024-02-26T09:14:31.895939500Z"
    }
   },
   "id": "2a4279f36a7e3a8a",
   "execution_count": 19
  },
  {
   "cell_type": "code",
   "outputs": [
    {
     "name": "stderr",
     "output_type": "stream",
     "text": [
      "C:\\Users\\erwan\\AppData\\Local\\Temp\\ipykernel_12428\\2164347244.py:1: DtypeWarning: Columns (3) have mixed types. Specify dtype option on import or set low_memory=False.\n",
      "  cleaned_2022_t2 = pd.read_csv(\"../../data/processed/2022_elections_tour_2_cleaned.csv\")\n"
     ]
    },
    {
     "data": {
      "text/plain": "       code_postal departement    Libellé de la commune Code du b.vote  \\\n0                1         Ain  L'Abergement-Clémenciat           0001   \n1                1         Ain    L'Abergement-de-Varey           0001   \n2                1         Ain        Ambérieu-en-Bugey           0001   \n3                1         Ain        Ambérieu-en-Bugey           0002   \n4                1         Ain        Ambérieu-en-Bugey           0003   \n...            ...         ...                      ...            ...   \n66888           95  Val-d'Oise          Villiers-le-Bel             11   \n66889           95  Val-d'Oise          Villiers-le-Bel             12   \n66890           95  Val-d'Oise          Villiers-le-Bel             13   \n66891           95  Val-d'Oise          Villiers-le-Sec              1   \n66892           95  Val-d'Oise      Wy-dit-Joli-Village              1   \n\n       Inscrits  Abstentions  % Abs/Ins  Votants  % Vot/Ins  Blancs  ...  \\\n0           643          146      22.71      497      77.29      42  ...   \n1           213           45      21.13      168      78.87      23  ...   \n2          1130          322      28.50      808      71.50      71  ...   \n3          1129          313      27.72      816      72.28      45  ...   \n4          1213          303      24.98      910      75.02      87  ...   \n...         ...          ...        ...      ...        ...     ...  ...   \n66888      1227          496      40.42      731      59.58      42  ...   \n66889       912          327      35.86      585      64.14      29  ...   \n66890       682          307      45.01      375      54.99      25  ...   \n66891       110           26      23.64       84      76.36       3  ...   \n66892       285           53      18.60      232      81.40      13  ...   \n\n       Sexe 1                  Parti 1  Voix 1  % Voix/Ins 1  % Voix/Exp 1  \\\n0           M  La République En Marche     237         36.86         52.67   \n1           M  La République En Marche      94         44.13         66.20   \n2           M  La République En Marche     360         31.86         50.35   \n3           M  La République En Marche     426         37.73         56.57   \n4           M  La République En Marche     449         37.02         55.99   \n...       ...                      ...     ...           ...           ...   \n66888       M  La République En Marche     432         35.21         63.91   \n66889       M  La République En Marche     338         37.06         63.18   \n66890       M  La République En Marche     245         35.92         72.06   \n66891       M  La République En Marche      50         45.45         62.50   \n66892       M  La République En Marche     129         45.26         60.00   \n\n       Sexe 2                 Parti 2  Voix 2 % Voix/Ins 2 % Voix/Exp 2  \n0           F  Rassemblement National     213        33.13        47.33  \n1           F  Rassemblement National      48        22.54        33.80  \n2           F  Rassemblement National     355        31.42        49.65  \n3           F  Rassemblement National     327        28.96        43.43  \n4           F  Rassemblement National     353        29.10        44.01  \n...       ...                     ...     ...          ...          ...  \n66888       F  Rassemblement National     244        19.89        36.09  \n66889       F  Rassemblement National     197        21.60        36.82  \n66890       F  Rassemblement National      95        13.93        27.94  \n66891       F  Rassemblement National      30        27.27        37.50  \n66892       F  Rassemblement National      86        30.18        40.00  \n\n[66893 rows x 28 columns]",
      "text/html": "<div>\n<style scoped>\n    .dataframe tbody tr th:only-of-type {\n        vertical-align: middle;\n    }\n\n    .dataframe tbody tr th {\n        vertical-align: top;\n    }\n\n    .dataframe thead th {\n        text-align: right;\n    }\n</style>\n<table border=\"1\" class=\"dataframe\">\n  <thead>\n    <tr style=\"text-align: right;\">\n      <th></th>\n      <th>code_postal</th>\n      <th>departement</th>\n      <th>Libellé de la commune</th>\n      <th>Code du b.vote</th>\n      <th>Inscrits</th>\n      <th>Abstentions</th>\n      <th>% Abs/Ins</th>\n      <th>Votants</th>\n      <th>% Vot/Ins</th>\n      <th>Blancs</th>\n      <th>...</th>\n      <th>Sexe 1</th>\n      <th>Parti 1</th>\n      <th>Voix 1</th>\n      <th>% Voix/Ins 1</th>\n      <th>% Voix/Exp 1</th>\n      <th>Sexe 2</th>\n      <th>Parti 2</th>\n      <th>Voix 2</th>\n      <th>% Voix/Ins 2</th>\n      <th>% Voix/Exp 2</th>\n    </tr>\n  </thead>\n  <tbody>\n    <tr>\n      <th>0</th>\n      <td>1</td>\n      <td>Ain</td>\n      <td>L'Abergement-Clémenciat</td>\n      <td>0001</td>\n      <td>643</td>\n      <td>146</td>\n      <td>22.71</td>\n      <td>497</td>\n      <td>77.29</td>\n      <td>42</td>\n      <td>...</td>\n      <td>M</td>\n      <td>La République En Marche</td>\n      <td>237</td>\n      <td>36.86</td>\n      <td>52.67</td>\n      <td>F</td>\n      <td>Rassemblement National</td>\n      <td>213</td>\n      <td>33.13</td>\n      <td>47.33</td>\n    </tr>\n    <tr>\n      <th>1</th>\n      <td>1</td>\n      <td>Ain</td>\n      <td>L'Abergement-de-Varey</td>\n      <td>0001</td>\n      <td>213</td>\n      <td>45</td>\n      <td>21.13</td>\n      <td>168</td>\n      <td>78.87</td>\n      <td>23</td>\n      <td>...</td>\n      <td>M</td>\n      <td>La République En Marche</td>\n      <td>94</td>\n      <td>44.13</td>\n      <td>66.20</td>\n      <td>F</td>\n      <td>Rassemblement National</td>\n      <td>48</td>\n      <td>22.54</td>\n      <td>33.80</td>\n    </tr>\n    <tr>\n      <th>2</th>\n      <td>1</td>\n      <td>Ain</td>\n      <td>Ambérieu-en-Bugey</td>\n      <td>0001</td>\n      <td>1130</td>\n      <td>322</td>\n      <td>28.50</td>\n      <td>808</td>\n      <td>71.50</td>\n      <td>71</td>\n      <td>...</td>\n      <td>M</td>\n      <td>La République En Marche</td>\n      <td>360</td>\n      <td>31.86</td>\n      <td>50.35</td>\n      <td>F</td>\n      <td>Rassemblement National</td>\n      <td>355</td>\n      <td>31.42</td>\n      <td>49.65</td>\n    </tr>\n    <tr>\n      <th>3</th>\n      <td>1</td>\n      <td>Ain</td>\n      <td>Ambérieu-en-Bugey</td>\n      <td>0002</td>\n      <td>1129</td>\n      <td>313</td>\n      <td>27.72</td>\n      <td>816</td>\n      <td>72.28</td>\n      <td>45</td>\n      <td>...</td>\n      <td>M</td>\n      <td>La République En Marche</td>\n      <td>426</td>\n      <td>37.73</td>\n      <td>56.57</td>\n      <td>F</td>\n      <td>Rassemblement National</td>\n      <td>327</td>\n      <td>28.96</td>\n      <td>43.43</td>\n    </tr>\n    <tr>\n      <th>4</th>\n      <td>1</td>\n      <td>Ain</td>\n      <td>Ambérieu-en-Bugey</td>\n      <td>0003</td>\n      <td>1213</td>\n      <td>303</td>\n      <td>24.98</td>\n      <td>910</td>\n      <td>75.02</td>\n      <td>87</td>\n      <td>...</td>\n      <td>M</td>\n      <td>La République En Marche</td>\n      <td>449</td>\n      <td>37.02</td>\n      <td>55.99</td>\n      <td>F</td>\n      <td>Rassemblement National</td>\n      <td>353</td>\n      <td>29.10</td>\n      <td>44.01</td>\n    </tr>\n    <tr>\n      <th>...</th>\n      <td>...</td>\n      <td>...</td>\n      <td>...</td>\n      <td>...</td>\n      <td>...</td>\n      <td>...</td>\n      <td>...</td>\n      <td>...</td>\n      <td>...</td>\n      <td>...</td>\n      <td>...</td>\n      <td>...</td>\n      <td>...</td>\n      <td>...</td>\n      <td>...</td>\n      <td>...</td>\n      <td>...</td>\n      <td>...</td>\n      <td>...</td>\n      <td>...</td>\n      <td>...</td>\n    </tr>\n    <tr>\n      <th>66888</th>\n      <td>95</td>\n      <td>Val-d'Oise</td>\n      <td>Villiers-le-Bel</td>\n      <td>11</td>\n      <td>1227</td>\n      <td>496</td>\n      <td>40.42</td>\n      <td>731</td>\n      <td>59.58</td>\n      <td>42</td>\n      <td>...</td>\n      <td>M</td>\n      <td>La République En Marche</td>\n      <td>432</td>\n      <td>35.21</td>\n      <td>63.91</td>\n      <td>F</td>\n      <td>Rassemblement National</td>\n      <td>244</td>\n      <td>19.89</td>\n      <td>36.09</td>\n    </tr>\n    <tr>\n      <th>66889</th>\n      <td>95</td>\n      <td>Val-d'Oise</td>\n      <td>Villiers-le-Bel</td>\n      <td>12</td>\n      <td>912</td>\n      <td>327</td>\n      <td>35.86</td>\n      <td>585</td>\n      <td>64.14</td>\n      <td>29</td>\n      <td>...</td>\n      <td>M</td>\n      <td>La République En Marche</td>\n      <td>338</td>\n      <td>37.06</td>\n      <td>63.18</td>\n      <td>F</td>\n      <td>Rassemblement National</td>\n      <td>197</td>\n      <td>21.60</td>\n      <td>36.82</td>\n    </tr>\n    <tr>\n      <th>66890</th>\n      <td>95</td>\n      <td>Val-d'Oise</td>\n      <td>Villiers-le-Bel</td>\n      <td>13</td>\n      <td>682</td>\n      <td>307</td>\n      <td>45.01</td>\n      <td>375</td>\n      <td>54.99</td>\n      <td>25</td>\n      <td>...</td>\n      <td>M</td>\n      <td>La République En Marche</td>\n      <td>245</td>\n      <td>35.92</td>\n      <td>72.06</td>\n      <td>F</td>\n      <td>Rassemblement National</td>\n      <td>95</td>\n      <td>13.93</td>\n      <td>27.94</td>\n    </tr>\n    <tr>\n      <th>66891</th>\n      <td>95</td>\n      <td>Val-d'Oise</td>\n      <td>Villiers-le-Sec</td>\n      <td>1</td>\n      <td>110</td>\n      <td>26</td>\n      <td>23.64</td>\n      <td>84</td>\n      <td>76.36</td>\n      <td>3</td>\n      <td>...</td>\n      <td>M</td>\n      <td>La République En Marche</td>\n      <td>50</td>\n      <td>45.45</td>\n      <td>62.50</td>\n      <td>F</td>\n      <td>Rassemblement National</td>\n      <td>30</td>\n      <td>27.27</td>\n      <td>37.50</td>\n    </tr>\n    <tr>\n      <th>66892</th>\n      <td>95</td>\n      <td>Val-d'Oise</td>\n      <td>Wy-dit-Joli-Village</td>\n      <td>1</td>\n      <td>285</td>\n      <td>53</td>\n      <td>18.60</td>\n      <td>232</td>\n      <td>81.40</td>\n      <td>13</td>\n      <td>...</td>\n      <td>M</td>\n      <td>La République En Marche</td>\n      <td>129</td>\n      <td>45.26</td>\n      <td>60.00</td>\n      <td>F</td>\n      <td>Rassemblement National</td>\n      <td>86</td>\n      <td>30.18</td>\n      <td>40.00</td>\n    </tr>\n  </tbody>\n</table>\n<p>66893 rows × 28 columns</p>\n</div>"
     },
     "execution_count": 20,
     "metadata": {},
     "output_type": "execute_result"
    }
   ],
   "source": [
    "cleaned_2022_t2 = pd.read_csv(\"../../data/processed/2022_elections_tour_2_cleaned.csv\")\n",
    "cleaned_2022_t2"
   ],
   "metadata": {
    "collapsed": false,
    "ExecuteTime": {
     "end_time": "2024-02-26T09:14:34.666087Z",
     "start_time": "2024-02-26T09:14:34.147655600Z"
    }
   },
   "id": "152b8c45f46fec23",
   "execution_count": 20
  },
  {
   "cell_type": "code",
   "outputs": [
    {
     "ename": "ParserError",
     "evalue": "Error tokenizing data. C error: Expected 2 fields in line 18, saw 3\n",
     "output_type": "error",
     "traceback": [
      "\u001B[1;31m---------------------------------------------------------------------------\u001B[0m",
      "\u001B[1;31mParserError\u001B[0m                               Traceback (most recent call last)",
      "Cell \u001B[1;32mIn[21], line 1\u001B[0m\n\u001B[1;32m----> 1\u001B[0m taux_chomage \u001B[38;5;241m=\u001B[39m \u001B[43mpd\u001B[49m\u001B[38;5;241;43m.\u001B[39;49m\u001B[43mread_csv\u001B[49m\u001B[43m(\u001B[49m\u001B[38;5;124;43m\"\u001B[39;49m\u001B[38;5;124;43m../../data/raw/2017_resultats_par_burvot_tour_1.csv\u001B[39;49m\u001B[38;5;124;43m\"\u001B[39;49m\u001B[43m)\u001B[49m\n\u001B[0;32m      2\u001B[0m \u001B[38;5;28mprint\u001B[39m(taux_chomage\u001B[38;5;241m.\u001B[39mcolumns)\n",
      "File \u001B[1;32m~\\OneDrive\\Documents\\EPSI\\I1\\MSPR\\MSPR Data\\mspr\\.venv\\Lib\\site-packages\\pandas\\io\\parsers\\readers.py:1024\u001B[0m, in \u001B[0;36mread_csv\u001B[1;34m(filepath_or_buffer, sep, delimiter, header, names, index_col, usecols, dtype, engine, converters, true_values, false_values, skipinitialspace, skiprows, skipfooter, nrows, na_values, keep_default_na, na_filter, verbose, skip_blank_lines, parse_dates, infer_datetime_format, keep_date_col, date_parser, date_format, dayfirst, cache_dates, iterator, chunksize, compression, thousands, decimal, lineterminator, quotechar, quoting, doublequote, escapechar, comment, encoding, encoding_errors, dialect, on_bad_lines, delim_whitespace, low_memory, memory_map, float_precision, storage_options, dtype_backend)\u001B[0m\n\u001B[0;32m   1011\u001B[0m kwds_defaults \u001B[38;5;241m=\u001B[39m _refine_defaults_read(\n\u001B[0;32m   1012\u001B[0m     dialect,\n\u001B[0;32m   1013\u001B[0m     delimiter,\n\u001B[1;32m   (...)\u001B[0m\n\u001B[0;32m   1020\u001B[0m     dtype_backend\u001B[38;5;241m=\u001B[39mdtype_backend,\n\u001B[0;32m   1021\u001B[0m )\n\u001B[0;32m   1022\u001B[0m kwds\u001B[38;5;241m.\u001B[39mupdate(kwds_defaults)\n\u001B[1;32m-> 1024\u001B[0m \u001B[38;5;28;01mreturn\u001B[39;00m \u001B[43m_read\u001B[49m\u001B[43m(\u001B[49m\u001B[43mfilepath_or_buffer\u001B[49m\u001B[43m,\u001B[49m\u001B[43m \u001B[49m\u001B[43mkwds\u001B[49m\u001B[43m)\u001B[49m\n",
      "File \u001B[1;32m~\\OneDrive\\Documents\\EPSI\\I1\\MSPR\\MSPR Data\\mspr\\.venv\\Lib\\site-packages\\pandas\\io\\parsers\\readers.py:624\u001B[0m, in \u001B[0;36m_read\u001B[1;34m(filepath_or_buffer, kwds)\u001B[0m\n\u001B[0;32m    621\u001B[0m     \u001B[38;5;28;01mreturn\u001B[39;00m parser\n\u001B[0;32m    623\u001B[0m \u001B[38;5;28;01mwith\u001B[39;00m parser:\n\u001B[1;32m--> 624\u001B[0m     \u001B[38;5;28;01mreturn\u001B[39;00m \u001B[43mparser\u001B[49m\u001B[38;5;241;43m.\u001B[39;49m\u001B[43mread\u001B[49m\u001B[43m(\u001B[49m\u001B[43mnrows\u001B[49m\u001B[43m)\u001B[49m\n",
      "File \u001B[1;32m~\\OneDrive\\Documents\\EPSI\\I1\\MSPR\\MSPR Data\\mspr\\.venv\\Lib\\site-packages\\pandas\\io\\parsers\\readers.py:1921\u001B[0m, in \u001B[0;36mTextFileReader.read\u001B[1;34m(self, nrows)\u001B[0m\n\u001B[0;32m   1914\u001B[0m nrows \u001B[38;5;241m=\u001B[39m validate_integer(\u001B[38;5;124m\"\u001B[39m\u001B[38;5;124mnrows\u001B[39m\u001B[38;5;124m\"\u001B[39m, nrows)\n\u001B[0;32m   1915\u001B[0m \u001B[38;5;28;01mtry\u001B[39;00m:\n\u001B[0;32m   1916\u001B[0m     \u001B[38;5;66;03m# error: \"ParserBase\" has no attribute \"read\"\u001B[39;00m\n\u001B[0;32m   1917\u001B[0m     (\n\u001B[0;32m   1918\u001B[0m         index,\n\u001B[0;32m   1919\u001B[0m         columns,\n\u001B[0;32m   1920\u001B[0m         col_dict,\n\u001B[1;32m-> 1921\u001B[0m     ) \u001B[38;5;241m=\u001B[39m \u001B[38;5;28;43mself\u001B[39;49m\u001B[38;5;241;43m.\u001B[39;49m\u001B[43m_engine\u001B[49m\u001B[38;5;241;43m.\u001B[39;49m\u001B[43mread\u001B[49m\u001B[43m(\u001B[49m\u001B[43m  \u001B[49m\u001B[38;5;66;43;03m# type: ignore[attr-defined]\u001B[39;49;00m\n\u001B[0;32m   1922\u001B[0m \u001B[43m        \u001B[49m\u001B[43mnrows\u001B[49m\n\u001B[0;32m   1923\u001B[0m \u001B[43m    \u001B[49m\u001B[43m)\u001B[49m\n\u001B[0;32m   1924\u001B[0m \u001B[38;5;28;01mexcept\u001B[39;00m \u001B[38;5;167;01mException\u001B[39;00m:\n\u001B[0;32m   1925\u001B[0m     \u001B[38;5;28mself\u001B[39m\u001B[38;5;241m.\u001B[39mclose()\n",
      "File \u001B[1;32m~\\OneDrive\\Documents\\EPSI\\I1\\MSPR\\MSPR Data\\mspr\\.venv\\Lib\\site-packages\\pandas\\io\\parsers\\c_parser_wrapper.py:234\u001B[0m, in \u001B[0;36mCParserWrapper.read\u001B[1;34m(self, nrows)\u001B[0m\n\u001B[0;32m    232\u001B[0m \u001B[38;5;28;01mtry\u001B[39;00m:\n\u001B[0;32m    233\u001B[0m     \u001B[38;5;28;01mif\u001B[39;00m \u001B[38;5;28mself\u001B[39m\u001B[38;5;241m.\u001B[39mlow_memory:\n\u001B[1;32m--> 234\u001B[0m         chunks \u001B[38;5;241m=\u001B[39m \u001B[38;5;28;43mself\u001B[39;49m\u001B[38;5;241;43m.\u001B[39;49m\u001B[43m_reader\u001B[49m\u001B[38;5;241;43m.\u001B[39;49m\u001B[43mread_low_memory\u001B[49m\u001B[43m(\u001B[49m\u001B[43mnrows\u001B[49m\u001B[43m)\u001B[49m\n\u001B[0;32m    235\u001B[0m         \u001B[38;5;66;03m# destructive to chunks\u001B[39;00m\n\u001B[0;32m    236\u001B[0m         data \u001B[38;5;241m=\u001B[39m _concatenate_chunks(chunks)\n",
      "File \u001B[1;32mparsers.pyx:838\u001B[0m, in \u001B[0;36mpandas._libs.parsers.TextReader.read_low_memory\u001B[1;34m()\u001B[0m\n",
      "File \u001B[1;32mparsers.pyx:905\u001B[0m, in \u001B[0;36mpandas._libs.parsers.TextReader._read_rows\u001B[1;34m()\u001B[0m\n",
      "File \u001B[1;32mparsers.pyx:874\u001B[0m, in \u001B[0;36mpandas._libs.parsers.TextReader._tokenize_rows\u001B[1;34m()\u001B[0m\n",
      "File \u001B[1;32mparsers.pyx:891\u001B[0m, in \u001B[0;36mpandas._libs.parsers.TextReader._check_tokenize_status\u001B[1;34m()\u001B[0m\n",
      "File \u001B[1;32mparsers.pyx:2061\u001B[0m, in \u001B[0;36mpandas._libs.parsers.raise_parser_error\u001B[1;34m()\u001B[0m\n",
      "\u001B[1;31mParserError\u001B[0m: Error tokenizing data. C error: Expected 2 fields in line 18, saw 3\n"
     ]
    }
   ],
   "source": [
    "taux_chomage = pd.read_csv(\"../../data/raw/2017_resultats_par_burvot_tour_1.csv\")\n",
    "print(taux_chomage.columns)"
   ],
   "metadata": {
    "collapsed": false,
    "ExecuteTime": {
     "end_time": "2024-02-26T09:14:34.862185600Z",
     "start_time": "2024-02-26T09:14:34.668085300Z"
    }
   },
   "id": "b247f2ba919d3c97",
   "execution_count": 21
  },
  {
   "cell_type": "code",
   "outputs": [],
   "source": [
    "resultats_par_burvot_tour_1 = pd.read_csv(\"../../data/raw/2022_resultats_par_burvot_tour_1.csv\")\n",
    "print(resultats_par_burvot_tour_1.columns)"
   ],
   "metadata": {
    "collapsed": false,
    "ExecuteTime": {
     "start_time": "2024-02-26T09:14:34.861009Z"
    }
   },
   "id": "78072f6eb657db4f",
   "execution_count": null
  },
  {
   "cell_type": "code",
   "outputs": [],
   "source": [
    "# Nettoyage des données\n",
    "taux_chomage = taux_chomage.dropna()\n",
    "taux_chomage"
   ],
   "metadata": {
    "collapsed": false,
    "ExecuteTime": {
     "end_time": "2024-02-26T09:14:34.865703200Z",
     "start_time": "2024-02-26T09:14:34.864703200Z"
    }
   },
   "id": "c735d8d89518d655",
   "execution_count": null
  },
  {
   "cell_type": "code",
   "outputs": [],
   "source": [
    "immigres_deptmt = pd.read_excel(\"../../data/raw/2021_2022_immigre_departement.xlsx\")\n",
    "immigres_deptmt_processed = pd.read_csv(\"../../data/processed/immigres_et_descendants_par_departement_2020_2021.csv\")\n",
    "immigres_deptmt_processed"
   ],
   "metadata": {
    "collapsed": false,
    "ExecuteTime": {
     "start_time": "2024-02-26T09:14:34.867917100Z"
    }
   },
   "id": "8ae3ec8facd040d8",
   "execution_count": null
  },
  {
   "cell_type": "code",
   "outputs": [],
   "source": [
    "standart_living = pd.read_excel(\"../../data/raw/2021_niveau_de_vie.xlsx\", skiprows=3)\n",
    "standart_living.columns"
   ],
   "metadata": {
    "collapsed": false,
    "ExecuteTime": {
     "start_time": "2024-02-26T09:14:34.871432100Z"
    }
   },
   "id": "4eeb12a8558d7205",
   "execution_count": null
  },
  {
   "cell_type": "code",
   "outputs": [],
   "source": [
    "standart_living = pd.read_csv(\"../../data/processed/niveau_de_vie_par_departement_2021.csv\")\n",
    "\n",
    "standart_living"
   ],
   "metadata": {
    "collapsed": false,
    "ExecuteTime": {
     "start_time": "2024-02-26T09:14:34.875959600Z"
    }
   },
   "id": "13b9199c279ab450",
   "execution_count": null
  },
  {
   "cell_type": "code",
   "outputs": [],
   "source": [
    "density_pop = pd.read_excel(\"../../data/raw/densite_population_depuis_1968.xlsx\")\n",
    "density_pop"
   ],
   "metadata": {
    "collapsed": false,
    "ExecuteTime": {
     "start_time": "2024-02-26T09:14:34.879483400Z"
    }
   },
   "id": "b67b3f4832db3e88",
   "execution_count": null
  },
  {
   "cell_type": "code",
   "outputs": [],
   "source": [
    "pib_habitant = pd.read_csv(\"../../data/processed/pib_par_habitant.csv\")\n",
    "pib_habitant"
   ],
   "metadata": {
    "collapsed": false,
    "ExecuteTime": {
     "start_time": "2024-02-26T09:14:34.882005Z"
    }
   },
   "id": "48f1eade041e0f6f",
   "execution_count": null
  },
  {
   "cell_type": "code",
   "outputs": [],
   "source": [],
   "metadata": {
    "collapsed": false,
    "ExecuteTime": {
     "start_time": "2024-02-26T09:14:34.884007100Z"
    }
   },
   "id": "cb17b2c4538d521b"
  }
 ],
 "metadata": {
  "kernelspec": {
   "display_name": "Python 3",
   "language": "python",
   "name": "python3"
  },
  "language_info": {
   "codemirror_mode": {
    "name": "ipython",
    "version": 2
   },
   "file_extension": ".py",
   "mimetype": "text/x-python",
   "name": "python",
   "nbconvert_exporter": "python",
   "pygments_lexer": "ipython2",
   "version": "2.7.6"
  }
 },
 "nbformat": 4,
 "nbformat_minor": 5
}
