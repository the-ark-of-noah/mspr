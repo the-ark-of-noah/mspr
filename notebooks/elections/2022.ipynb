{
 "cells": [
  {
   "cell_type": "code",
   "execution_count": 59,
   "id": "initial_id",
   "metadata": {
    "collapsed": true,
    "ExecuteTime": {
     "end_time": "2024-02-07T10:16:21.534489700Z",
     "start_time": "2024-02-07T10:16:20.122730700Z"
    }
   },
   "outputs": [],
   "source": [
    "import pandas as pd\n",
    "\n",
    "# Load the data\n",
    "df = pd.read_csv('../../datasets/1er tour 2022.csv', low_memory=False)"
   ]
  },
  {
   "cell_type": "code",
   "outputs": [
    {
     "ename": "KeyError",
     "evalue": "'Parti'",
     "output_type": "error",
     "traceback": [
      "\u001B[1;31m---------------------------------------------------------------------------\u001B[0m",
      "\u001B[1;31mKeyError\u001B[0m                                  Traceback (most recent call last)",
      "File \u001B[1;32m~\\OneDrive\\Documents\\EPSI\\I1\\MSPR\\MSPR Data\\mspr\\.venv\\Lib\\site-packages\\pandas\\core\\indexes\\base.py:3802\u001B[0m, in \u001B[0;36mIndex.get_loc\u001B[1;34m(self, key)\u001B[0m\n\u001B[0;32m   3801\u001B[0m \u001B[38;5;28;01mtry\u001B[39;00m:\n\u001B[1;32m-> 3802\u001B[0m     \u001B[38;5;28;01mreturn\u001B[39;00m \u001B[38;5;28;43mself\u001B[39;49m\u001B[38;5;241;43m.\u001B[39;49m\u001B[43m_engine\u001B[49m\u001B[38;5;241;43m.\u001B[39;49m\u001B[43mget_loc\u001B[49m\u001B[43m(\u001B[49m\u001B[43mcasted_key\u001B[49m\u001B[43m)\u001B[49m\n\u001B[0;32m   3803\u001B[0m \u001B[38;5;28;01mexcept\u001B[39;00m \u001B[38;5;167;01mKeyError\u001B[39;00m \u001B[38;5;28;01mas\u001B[39;00m err:\n",
      "File \u001B[1;32mindex.pyx:153\u001B[0m, in \u001B[0;36mpandas._libs.index.IndexEngine.get_loc\u001B[1;34m()\u001B[0m\n",
      "File \u001B[1;32mindex.pyx:182\u001B[0m, in \u001B[0;36mpandas._libs.index.IndexEngine.get_loc\u001B[1;34m()\u001B[0m\n",
      "File \u001B[1;32mpandas\\\\_libs\\\\hashtable_class_helper.pxi:7081\u001B[0m, in \u001B[0;36mpandas._libs.hashtable.PyObjectHashTable.get_item\u001B[1;34m()\u001B[0m\n",
      "File \u001B[1;32mpandas\\\\_libs\\\\hashtable_class_helper.pxi:7089\u001B[0m, in \u001B[0;36mpandas._libs.hashtable.PyObjectHashTable.get_item\u001B[1;34m()\u001B[0m\n",
      "\u001B[1;31mKeyError\u001B[0m: 'Parti'",
      "\nThe above exception was the direct cause of the following exception:\n",
      "\u001B[1;31mKeyError\u001B[0m                                  Traceback (most recent call last)",
      "Cell \u001B[1;32mIn[60], line 47\u001B[0m\n\u001B[0;32m     43\u001B[0m df \u001B[38;5;241m=\u001B[39m df\u001B[38;5;241m.\u001B[39mrename(columns\u001B[38;5;241m=\u001B[39mrename_dict)\n\u001B[0;32m     45\u001B[0m \u001B[38;5;66;03m# Add column \"Parti\" to the dataframe with the value of the party_dict\u001B[39;00m\n\u001B[0;32m     46\u001B[0m \u001B[38;5;66;03m# Get the unique party names\u001B[39;00m\n\u001B[1;32m---> 47\u001B[0m unique_parties \u001B[38;5;241m=\u001B[39m \u001B[43mdf\u001B[49m\u001B[43m[\u001B[49m\u001B[38;5;124;43m'\u001B[39;49m\u001B[38;5;124;43mParti\u001B[39;49m\u001B[38;5;124;43m'\u001B[39;49m\u001B[43m]\u001B[49m\u001B[38;5;241m.\u001B[39munique()\n\u001B[0;32m     49\u001B[0m \u001B[38;5;66;03m# Create a dictionary mapping each party name to a unique identifier\u001B[39;00m\n\u001B[0;32m     50\u001B[0m party_to_id \u001B[38;5;241m=\u001B[39m {party: i \u001B[38;5;28;01mfor\u001B[39;00m i, party \u001B[38;5;129;01min\u001B[39;00m \u001B[38;5;28menumerate\u001B[39m(unique_parties)}\n",
      "File \u001B[1;32m~\\OneDrive\\Documents\\EPSI\\I1\\MSPR\\MSPR Data\\mspr\\.venv\\Lib\\site-packages\\pandas\\core\\frame.py:4090\u001B[0m, in \u001B[0;36mDataFrame.__getitem__\u001B[1;34m(self, key)\u001B[0m\n\u001B[0;32m   4088\u001B[0m \u001B[38;5;28;01mif\u001B[39;00m \u001B[38;5;28mself\u001B[39m\u001B[38;5;241m.\u001B[39mcolumns\u001B[38;5;241m.\u001B[39mnlevels \u001B[38;5;241m>\u001B[39m \u001B[38;5;241m1\u001B[39m:\n\u001B[0;32m   4089\u001B[0m     \u001B[38;5;28;01mreturn\u001B[39;00m \u001B[38;5;28mself\u001B[39m\u001B[38;5;241m.\u001B[39m_getitem_multilevel(key)\n\u001B[1;32m-> 4090\u001B[0m indexer \u001B[38;5;241m=\u001B[39m \u001B[38;5;28;43mself\u001B[39;49m\u001B[38;5;241;43m.\u001B[39;49m\u001B[43mcolumns\u001B[49m\u001B[38;5;241;43m.\u001B[39;49m\u001B[43mget_loc\u001B[49m\u001B[43m(\u001B[49m\u001B[43mkey\u001B[49m\u001B[43m)\u001B[49m\n\u001B[0;32m   4091\u001B[0m \u001B[38;5;28;01mif\u001B[39;00m is_integer(indexer):\n\u001B[0;32m   4092\u001B[0m     indexer \u001B[38;5;241m=\u001B[39m [indexer]\n",
      "File \u001B[1;32m~\\OneDrive\\Documents\\EPSI\\I1\\MSPR\\MSPR Data\\mspr\\.venv\\Lib\\site-packages\\pandas\\core\\indexes\\base.py:3809\u001B[0m, in \u001B[0;36mIndex.get_loc\u001B[1;34m(self, key)\u001B[0m\n\u001B[0;32m   3804\u001B[0m     \u001B[38;5;28;01mif\u001B[39;00m \u001B[38;5;28misinstance\u001B[39m(casted_key, \u001B[38;5;28mslice\u001B[39m) \u001B[38;5;129;01mor\u001B[39;00m (\n\u001B[0;32m   3805\u001B[0m         \u001B[38;5;28misinstance\u001B[39m(casted_key, abc\u001B[38;5;241m.\u001B[39mIterable)\n\u001B[0;32m   3806\u001B[0m         \u001B[38;5;129;01mand\u001B[39;00m \u001B[38;5;28many\u001B[39m(\u001B[38;5;28misinstance\u001B[39m(x, \u001B[38;5;28mslice\u001B[39m) \u001B[38;5;28;01mfor\u001B[39;00m x \u001B[38;5;129;01min\u001B[39;00m casted_key)\n\u001B[0;32m   3807\u001B[0m     ):\n\u001B[0;32m   3808\u001B[0m         \u001B[38;5;28;01mraise\u001B[39;00m InvalidIndexError(key)\n\u001B[1;32m-> 3809\u001B[0m     \u001B[38;5;28;01mraise\u001B[39;00m \u001B[38;5;167;01mKeyError\u001B[39;00m(key) \u001B[38;5;28;01mfrom\u001B[39;00m \u001B[38;5;21;01merr\u001B[39;00m\n\u001B[0;32m   3810\u001B[0m \u001B[38;5;28;01mexcept\u001B[39;00m \u001B[38;5;167;01mTypeError\u001B[39;00m:\n\u001B[0;32m   3811\u001B[0m     \u001B[38;5;66;03m# If we have a listlike key, _check_indexing_error will raise\u001B[39;00m\n\u001B[0;32m   3812\u001B[0m     \u001B[38;5;66;03m#  InvalidIndexError. Otherwise we fall through and re-raise\u001B[39;00m\n\u001B[0;32m   3813\u001B[0m     \u001B[38;5;66;03m#  the TypeError.\u001B[39;00m\n\u001B[0;32m   3814\u001B[0m     \u001B[38;5;28mself\u001B[39m\u001B[38;5;241m.\u001B[39m_check_indexing_error(key)\n",
      "\u001B[1;31mKeyError\u001B[0m: 'Parti'"
     ]
    }
   ],
   "source": [
    "# Remove the columns that are not useful\n",
    "columns_to_remove = [\n",
    "    \"Code de la circonscription\",\n",
    "    \"Libellé de la circonscription\",\n",
    "    \"Code de la commune\"\n",
    "]\n",
    "\n",
    "df = df.drop(columns=columns_to_remove)\n",
    "\n",
    "# List of values to exclude\n",
    "exclude_values = [\"ZA\", \"ZB\", \"ZC\", \"ZD\", \"ZM\", \"ZN\", \"ZP\", \"ZS\", \"ZW\", \"ZX\", \"ZZ\"]\n",
    "\n",
    "# Remove rows where \"Code du département\" is in the list of values to exclude\n",
    "df = df[~df[\"Code du département\"].isin(exclude_values)]\n",
    "\n",
    "# Rename a Code du département to code_postal\n",
    "df = df.rename(columns={\"Code du département\": \"code_postal\"})\n",
    "\n",
    "# Rename Libellé du département to departement\n",
    "df = df.rename(columns={\"Libellé du département\": \"departement\"})\n",
    "\n",
    "# Create a dictionary mapping candidate names to their parties\n",
    "party_dict = {\"Macron\": \"Centre\"}\n",
    "\n",
    "# List of new column names\n",
    "new_column_names = [\"N°Panneau\", \"Sexe\", \"Nom\", \"Prenom\", \"Voix\", \"% Voix/Ins\", \"% Voix/Exp\"]\n",
    "\n",
    "# Number of columns per candidate\n",
    "columns_per_candidate = 7\n",
    "\n",
    "# Find the starting index of the column \"N°Panneau\"\n",
    "start_index = df.columns.get_loc(\"N°Panneau\")\n",
    "\n",
    "# Iterate over the DataFrame's columns in groups of seven, starting from \"N°Panneau\"\n",
    "for i in range(start_index, len(df.columns), columns_per_candidate):\n",
    "    # Get the columns for the current candidate\n",
    "    candidate_columns = df.columns[i:i+columns_per_candidate]\n",
    "\n",
    "    # Create a dictionary mapping old column names to new ones\n",
    "    rename_dict = dict(zip(candidate_columns, new_column_names))\n",
    "\n",
    "    # Rename the columns\n",
    "    df = df.rename(columns=rename_dict)\n",
    "    \n",
    "    # Add column \"Parti\" to the dataframe with the value of the party_dict\n",
    "\n",
    "    \n",
    "# Remove colums nom and prenom\n",
    "\n",
    "    \n",
    "# Convertir code_postal en int\n",
    "# 2A devient 201 et 2B devient 202 pour convertir en int\n",
    "df['code_postal'] = df['code_postal'].replace({'2A': 201, '2B': 202})\n",
    "df['code_postal'] = df['code_postal'].astype(int)\n",
    "\n",
    "df"
   ],
   "metadata": {
    "collapsed": false,
    "ExecuteTime": {
     "end_time": "2024-02-07T10:16:21.736570200Z",
     "start_time": "2024-02-07T10:16:21.536490400Z"
    }
   },
   "id": "f06cdff6b8125242",
   "execution_count": 60
  },
  {
   "cell_type": "code",
   "outputs": [],
   "source": [],
   "metadata": {
    "collapsed": false,
    "ExecuteTime": {
     "start_time": "2024-02-07T10:16:21.733563500Z"
    }
   },
   "id": "ba823951d0d0bf20",
   "execution_count": null
  }
 ],
 "metadata": {
  "kernelspec": {
   "display_name": "Python 3",
   "language": "python",
   "name": "python3"
  },
  "language_info": {
   "codemirror_mode": {
    "name": "ipython",
    "version": 2
   },
   "file_extension": ".py",
   "mimetype": "text/x-python",
   "name": "python",
   "nbconvert_exporter": "python",
   "pygments_lexer": "ipython2",
   "version": "2.7.6"
  }
 },
 "nbformat": 4,
 "nbformat_minor": 5
}
