{
 "cells": [
  {
   "cell_type": "code",
   "execution_count": 61,
   "id": "initial_id",
   "metadata": {
    "collapsed": true,
    "ExecuteTime": {
     "end_time": "2024-02-07T10:18:57.263055900Z",
     "start_time": "2024-02-07T10:18:56.109563900Z"
    }
   },
   "outputs": [],
   "source": [
    "import pandas as pd\n",
    "\n",
    "# Load the data\n",
    "df = pd.read_csv('../../datasets/1er tour 2022.csv', low_memory=False)"
   ]
  },
  {
   "cell_type": "code",
   "outputs": [
    {
     "data": {
      "text/plain": "       code_postal departement    Libellé de la commune Code du b.vote  \\\n0                1         Ain  L'Abergement-Clémenciat           0001   \n1                1         Ain    L'Abergement-de-Varey           0001   \n2                1         Ain        Ambérieu-en-Bugey           0001   \n3                1         Ain        Ambérieu-en-Bugey           0002   \n4                1         Ain        Ambérieu-en-Bugey           0003   \n...            ...         ...                      ...            ...   \n66888           95  Val-d'Oise          Villiers-le-Bel           0011   \n66889           95  Val-d'Oise          Villiers-le-Bel           0012   \n66890           95  Val-d'Oise          Villiers-le-Bel           0013   \n66891           95  Val-d'Oise          Villiers-le-Sec           0001   \n66892           95  Val-d'Oise      Wy-dit-Joli-Village           0001   \n\n       Inscrits  Abstentions  % Abs/Ins  Votants  % Vot/Ins  Blancs  ...  \\\n0           645          108      16.74      537      83.26      16  ...   \n1           213           38      17.84      175      82.16       3  ...   \n2          1129          266      23.56      863      76.44      18  ...   \n3          1128          265      23.49      863      76.51      15  ...   \n4          1213          246      20.28      967      79.72      10  ...   \n...         ...          ...        ...      ...        ...     ...  ...   \n66888      1226          397      32.38      829      67.62       9  ...   \n66889       910          257      28.24      653      71.76       6  ...   \n66890       681          222      32.60      459      67.40       5  ...   \n66891       110           14      12.73       96      87.27       0  ...   \n66892       285           48      16.84      237      83.16       4  ...   \n\n       Voix  % Voix/Ins % Voix/Exp  N°Panneau  Sexe            Nom   Prenom  \\\n0         3        0.47       0.58         12     M  DUPONT-AIGNAN  Nicolas   \n1         3        1.41       1.75         12     M  DUPONT-AIGNAN  Nicolas   \n2         8        0.71       0.95         12     M  DUPONT-AIGNAN  Nicolas   \n3         4        0.35       0.48         12     M  DUPONT-AIGNAN  Nicolas   \n4         3        0.25       0.32         12     M  DUPONT-AIGNAN  Nicolas   \n...     ...         ...        ...        ...   ...            ...      ...   \n66888     6        0.49       0.73         12     M  DUPONT-AIGNAN  Nicolas   \n66889     3        0.33       0.47         12     M  DUPONT-AIGNAN  Nicolas   \n66890     3        0.44       0.67         12     M  DUPONT-AIGNAN  Nicolas   \n66891     1        0.91       1.05         12     M  DUPONT-AIGNAN  Nicolas   \n66892     2        0.70       0.87         12     M  DUPONT-AIGNAN  Nicolas   \n\n       Voix  % Voix/Ins % Voix/Exp  \n0        21        3.26       4.04  \n1         0        0.00       0.00  \n2        13        1.15       1.55  \n3        20        1.77       2.38  \n4        19        1.57       2.00  \n...     ...         ...        ...  \n66888    14        1.14       1.71  \n66889     7        0.77       1.10  \n66890     3        0.44       0.67  \n66891     6        5.45       6.32  \n66892     8        2.81       3.46  \n\n[66893 rows x 102 columns]",
      "text/html": "<div>\n<style scoped>\n    .dataframe tbody tr th:only-of-type {\n        vertical-align: middle;\n    }\n\n    .dataframe tbody tr th {\n        vertical-align: top;\n    }\n\n    .dataframe thead th {\n        text-align: right;\n    }\n</style>\n<table border=\"1\" class=\"dataframe\">\n  <thead>\n    <tr style=\"text-align: right;\">\n      <th></th>\n      <th>code_postal</th>\n      <th>departement</th>\n      <th>Libellé de la commune</th>\n      <th>Code du b.vote</th>\n      <th>Inscrits</th>\n      <th>Abstentions</th>\n      <th>% Abs/Ins</th>\n      <th>Votants</th>\n      <th>% Vot/Ins</th>\n      <th>Blancs</th>\n      <th>...</th>\n      <th>Voix</th>\n      <th>% Voix/Ins</th>\n      <th>% Voix/Exp</th>\n      <th>N°Panneau</th>\n      <th>Sexe</th>\n      <th>Nom</th>\n      <th>Prenom</th>\n      <th>Voix</th>\n      <th>% Voix/Ins</th>\n      <th>% Voix/Exp</th>\n    </tr>\n  </thead>\n  <tbody>\n    <tr>\n      <th>0</th>\n      <td>1</td>\n      <td>Ain</td>\n      <td>L'Abergement-Clémenciat</td>\n      <td>0001</td>\n      <td>645</td>\n      <td>108</td>\n      <td>16.74</td>\n      <td>537</td>\n      <td>83.26</td>\n      <td>16</td>\n      <td>...</td>\n      <td>3</td>\n      <td>0.47</td>\n      <td>0.58</td>\n      <td>12</td>\n      <td>M</td>\n      <td>DUPONT-AIGNAN</td>\n      <td>Nicolas</td>\n      <td>21</td>\n      <td>3.26</td>\n      <td>4.04</td>\n    </tr>\n    <tr>\n      <th>1</th>\n      <td>1</td>\n      <td>Ain</td>\n      <td>L'Abergement-de-Varey</td>\n      <td>0001</td>\n      <td>213</td>\n      <td>38</td>\n      <td>17.84</td>\n      <td>175</td>\n      <td>82.16</td>\n      <td>3</td>\n      <td>...</td>\n      <td>3</td>\n      <td>1.41</td>\n      <td>1.75</td>\n      <td>12</td>\n      <td>M</td>\n      <td>DUPONT-AIGNAN</td>\n      <td>Nicolas</td>\n      <td>0</td>\n      <td>0.00</td>\n      <td>0.00</td>\n    </tr>\n    <tr>\n      <th>2</th>\n      <td>1</td>\n      <td>Ain</td>\n      <td>Ambérieu-en-Bugey</td>\n      <td>0001</td>\n      <td>1129</td>\n      <td>266</td>\n      <td>23.56</td>\n      <td>863</td>\n      <td>76.44</td>\n      <td>18</td>\n      <td>...</td>\n      <td>8</td>\n      <td>0.71</td>\n      <td>0.95</td>\n      <td>12</td>\n      <td>M</td>\n      <td>DUPONT-AIGNAN</td>\n      <td>Nicolas</td>\n      <td>13</td>\n      <td>1.15</td>\n      <td>1.55</td>\n    </tr>\n    <tr>\n      <th>3</th>\n      <td>1</td>\n      <td>Ain</td>\n      <td>Ambérieu-en-Bugey</td>\n      <td>0002</td>\n      <td>1128</td>\n      <td>265</td>\n      <td>23.49</td>\n      <td>863</td>\n      <td>76.51</td>\n      <td>15</td>\n      <td>...</td>\n      <td>4</td>\n      <td>0.35</td>\n      <td>0.48</td>\n      <td>12</td>\n      <td>M</td>\n      <td>DUPONT-AIGNAN</td>\n      <td>Nicolas</td>\n      <td>20</td>\n      <td>1.77</td>\n      <td>2.38</td>\n    </tr>\n    <tr>\n      <th>4</th>\n      <td>1</td>\n      <td>Ain</td>\n      <td>Ambérieu-en-Bugey</td>\n      <td>0003</td>\n      <td>1213</td>\n      <td>246</td>\n      <td>20.28</td>\n      <td>967</td>\n      <td>79.72</td>\n      <td>10</td>\n      <td>...</td>\n      <td>3</td>\n      <td>0.25</td>\n      <td>0.32</td>\n      <td>12</td>\n      <td>M</td>\n      <td>DUPONT-AIGNAN</td>\n      <td>Nicolas</td>\n      <td>19</td>\n      <td>1.57</td>\n      <td>2.00</td>\n    </tr>\n    <tr>\n      <th>...</th>\n      <td>...</td>\n      <td>...</td>\n      <td>...</td>\n      <td>...</td>\n      <td>...</td>\n      <td>...</td>\n      <td>...</td>\n      <td>...</td>\n      <td>...</td>\n      <td>...</td>\n      <td>...</td>\n      <td>...</td>\n      <td>...</td>\n      <td>...</td>\n      <td>...</td>\n      <td>...</td>\n      <td>...</td>\n      <td>...</td>\n      <td>...</td>\n      <td>...</td>\n      <td>...</td>\n    </tr>\n    <tr>\n      <th>66888</th>\n      <td>95</td>\n      <td>Val-d'Oise</td>\n      <td>Villiers-le-Bel</td>\n      <td>0011</td>\n      <td>1226</td>\n      <td>397</td>\n      <td>32.38</td>\n      <td>829</td>\n      <td>67.62</td>\n      <td>9</td>\n      <td>...</td>\n      <td>6</td>\n      <td>0.49</td>\n      <td>0.73</td>\n      <td>12</td>\n      <td>M</td>\n      <td>DUPONT-AIGNAN</td>\n      <td>Nicolas</td>\n      <td>14</td>\n      <td>1.14</td>\n      <td>1.71</td>\n    </tr>\n    <tr>\n      <th>66889</th>\n      <td>95</td>\n      <td>Val-d'Oise</td>\n      <td>Villiers-le-Bel</td>\n      <td>0012</td>\n      <td>910</td>\n      <td>257</td>\n      <td>28.24</td>\n      <td>653</td>\n      <td>71.76</td>\n      <td>6</td>\n      <td>...</td>\n      <td>3</td>\n      <td>0.33</td>\n      <td>0.47</td>\n      <td>12</td>\n      <td>M</td>\n      <td>DUPONT-AIGNAN</td>\n      <td>Nicolas</td>\n      <td>7</td>\n      <td>0.77</td>\n      <td>1.10</td>\n    </tr>\n    <tr>\n      <th>66890</th>\n      <td>95</td>\n      <td>Val-d'Oise</td>\n      <td>Villiers-le-Bel</td>\n      <td>0013</td>\n      <td>681</td>\n      <td>222</td>\n      <td>32.60</td>\n      <td>459</td>\n      <td>67.40</td>\n      <td>5</td>\n      <td>...</td>\n      <td>3</td>\n      <td>0.44</td>\n      <td>0.67</td>\n      <td>12</td>\n      <td>M</td>\n      <td>DUPONT-AIGNAN</td>\n      <td>Nicolas</td>\n      <td>3</td>\n      <td>0.44</td>\n      <td>0.67</td>\n    </tr>\n    <tr>\n      <th>66891</th>\n      <td>95</td>\n      <td>Val-d'Oise</td>\n      <td>Villiers-le-Sec</td>\n      <td>0001</td>\n      <td>110</td>\n      <td>14</td>\n      <td>12.73</td>\n      <td>96</td>\n      <td>87.27</td>\n      <td>0</td>\n      <td>...</td>\n      <td>1</td>\n      <td>0.91</td>\n      <td>1.05</td>\n      <td>12</td>\n      <td>M</td>\n      <td>DUPONT-AIGNAN</td>\n      <td>Nicolas</td>\n      <td>6</td>\n      <td>5.45</td>\n      <td>6.32</td>\n    </tr>\n    <tr>\n      <th>66892</th>\n      <td>95</td>\n      <td>Val-d'Oise</td>\n      <td>Wy-dit-Joli-Village</td>\n      <td>0001</td>\n      <td>285</td>\n      <td>48</td>\n      <td>16.84</td>\n      <td>237</td>\n      <td>83.16</td>\n      <td>4</td>\n      <td>...</td>\n      <td>2</td>\n      <td>0.70</td>\n      <td>0.87</td>\n      <td>12</td>\n      <td>M</td>\n      <td>DUPONT-AIGNAN</td>\n      <td>Nicolas</td>\n      <td>8</td>\n      <td>2.81</td>\n      <td>3.46</td>\n    </tr>\n  </tbody>\n</table>\n<p>66893 rows × 102 columns</p>\n</div>"
     },
     "execution_count": 62,
     "metadata": {},
     "output_type": "execute_result"
    }
   ],
   "source": [
    "# Remove the columns that are not useful\n",
    "columns_to_remove = [\n",
    "    \"Code de la circonscription\",\n",
    "    \"Libellé de la circonscription\",\n",
    "    \"Code de la commune\"\n",
    "]\n",
    "\n",
    "df = df.drop(columns=columns_to_remove)\n",
    "\n",
    "# List of values to exclude\n",
    "exclude_values = [\"ZA\", \"ZB\", \"ZC\", \"ZD\", \"ZM\", \"ZN\", \"ZP\", \"ZS\", \"ZW\", \"ZX\", \"ZZ\"]\n",
    "\n",
    "# Remove rows with the values in the list\n",
    "df = df[~df[\"Code du département\"].isin(exclude_values)]\n",
    "\n",
    "# Rename a Code du département to code_postal\n",
    "df = df.rename(columns={\"Code du département\": \"code_postal\"})\n",
    "\n",
    "# Rename Libellé du département to departement\n",
    "df = df.rename(columns={\"Libellé du département\": \"departement\"})\n",
    "\n",
    "# Create a dictionary mapping candidate names to their parties\n",
    "party_dict = {\"Macron\": \"Centre\"}\n",
    "\n",
    "# List of new column names\n",
    "new_column_names = [\"N°Panneau\", \"Sexe\", \"Nom\", \"Prenom\", \"Voix\", \"% Voix/Ins\", \"% Voix/Exp\"]\n",
    "\n",
    "# Number of columns per candidate\n",
    "columns_per_candidate = 7\n",
    "\n",
    "# Find the starting index of the column \"N°Panneau\"\n",
    "start_index = df.columns.get_loc(\"N°Panneau\")\n",
    "\n",
    "# Iterate over the DataFrame's columns in groups of seven, starting from \"N°Panneau\"\n",
    "for i in range(start_index, len(df.columns), columns_per_candidate):\n",
    "    # Get the columns for the current candidate\n",
    "    candidate_columns = df.columns[i:i+columns_per_candidate]\n",
    "\n",
    "    # Create a dictionary mapping old column names to new ones\n",
    "    rename_dict = dict(zip(candidate_columns, new_column_names))\n",
    "\n",
    "    # Rename the columns\n",
    "    df = df.rename(columns=rename_dict)\n",
    "    \n",
    "    # Add column \"Parti\" to the dataframe with the value of the party_dict\n",
    "\n",
    "    \n",
    "# Remove colums nom and prenom\n",
    "\n",
    "    \n",
    "# Convertir code_postal en int\n",
    "# 2A devient 201 et 2B devient 202 pour convertir en int\n",
    "df['code_postal'] = df['code_postal'].replace({'2A': 201, '2B': 202})\n",
    "df['code_postal'] = df['code_postal'].astype(int)\n",
    "\n",
    "df"
   ],
   "metadata": {
    "collapsed": false,
    "ExecuteTime": {
     "end_time": "2024-02-07T10:18:57.720061200Z",
     "start_time": "2024-02-07T10:18:57.264047700Z"
    }
   },
   "id": "f06cdff6b8125242",
   "execution_count": 62
  },
  {
   "cell_type": "code",
   "outputs": [],
   "source": [],
   "metadata": {
    "collapsed": false,
    "ExecuteTime": {
     "end_time": "2024-02-07T10:18:57.720061200Z",
     "start_time": "2024-02-07T10:18:57.718054100Z"
    }
   },
   "id": "ba823951d0d0bf20",
   "execution_count": 62
  }
 ],
 "metadata": {
  "kernelspec": {
   "display_name": "Python 3",
   "language": "python",
   "name": "python3"
  },
  "language_info": {
   "codemirror_mode": {
    "name": "ipython",
    "version": 2
   },
   "file_extension": ".py",
   "mimetype": "text/x-python",
   "name": "python",
   "nbconvert_exporter": "python",
   "pygments_lexer": "ipython2",
   "version": "2.7.6"
  }
 },
 "nbformat": 4,
 "nbformat_minor": 5
}
